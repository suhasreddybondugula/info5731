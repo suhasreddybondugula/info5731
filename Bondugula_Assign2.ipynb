{
 "cells": [
  {
   "cell_type": "markdown",
   "metadata": {},
   "source": [
    "Question 1. (20 points). Which of the following statements contain only valid built-in functions in Python 3? If the statement is valid, explain what it does. If it is not valid, explain why not."
   ]
  },
  {
   "cell_type": "markdown",
   "metadata": {},
   "source": [
    "1.1 \"A\".isupper()"
   ]
  },
  {
   "cell_type": "code",
   "execution_count": 76,
   "metadata": {},
   "outputs": [
    {
     "data": {
      "text/plain": [
       "True"
      ]
     },
     "execution_count": 76,
     "metadata": {},
     "output_type": "execute_result"
    }
   ],
   "source": [
    "\"AK\".isupper()"
   ]
  },
  {
   "cell_type": "markdown",
   "metadata": {},
   "source": [
    "The isupper() method checks if the given string is in upper case or not. If the string is in upper case it returns a value True else False."
   ]
  },
  {
   "cell_type": "markdown",
   "metadata": {},
   "source": [
    "1.2 print \"This is my Python class\";"
   ]
  },
  {
   "cell_type": "code",
   "execution_count": 1,
   "metadata": {},
   "outputs": [
    {
     "ename": "SyntaxError",
     "evalue": "Missing parentheses in call to 'print'. Did you mean print(\"This is my Python class\")? (<ipython-input-1-6fbff18deb64>, line 1)",
     "output_type": "error",
     "traceback": [
      "\u001b[1;36m  File \u001b[1;32m\"<ipython-input-1-6fbff18deb64>\"\u001b[1;36m, line \u001b[1;32m1\u001b[0m\n\u001b[1;33m    print \"This is my Python class\";\u001b[0m\n\u001b[1;37m                                  ^\u001b[0m\n\u001b[1;31mSyntaxError\u001b[0m\u001b[1;31m:\u001b[0m Missing parentheses in call to 'print'. Did you mean print(\"This is my Python class\")?\n"
     ]
    }
   ],
   "source": [
    "print \"This is my Python class\";"
   ]
  },
  {
   "cell_type": "markdown",
   "metadata": {},
   "source": [
    "The print statement given above does not run in Python 3 because the syntax for the print statement in Python3 should have parenthesis. Whereas in Python 2 the code runs with no issues. We can either chane the kernel or the code to make it runnable without any errors."
   ]
  },
  {
   "cell_type": "markdown",
   "metadata": {},
   "source": [
    "1.3 x == 1 AND y > x"
   ]
  },
  {
   "cell_type": "code",
   "execution_count": 78,
   "metadata": {},
   "outputs": [
    {
     "ename": "SyntaxError",
     "evalue": "invalid syntax (<ipython-input-78-5ce7b94c0438>, line 3)",
     "output_type": "error",
     "traceback": [
      "\u001b[1;36m  File \u001b[1;32m\"<ipython-input-78-5ce7b94c0438>\"\u001b[1;36m, line \u001b[1;32m3\u001b[0m\n\u001b[1;33m    x == 1 AND y > x\u001b[0m\n\u001b[1;37m             ^\u001b[0m\n\u001b[1;31mSyntaxError\u001b[0m\u001b[1;31m:\u001b[0m invalid syntax\n"
     ]
    }
   ],
   "source": [
    "y = 2\n",
    "x = 1\n",
    "x == 1 AND y > x"
   ]
  },
  {
   "cell_type": "markdown",
   "metadata": {},
   "source": [
    "As Python is case sensitive, the \"AND\" keyword does not work. Instead we use \"and\" for the same operation."
   ]
  },
  {
   "cell_type": "markdown",
   "metadata": {},
   "source": [
    "1.4 return t[1:]"
   ]
  },
  {
   "cell_type": "code",
   "execution_count": 79,
   "metadata": {},
   "outputs": [
    {
     "data": {
      "text/plain": [
       "('b', 'c', 'd')"
      ]
     },
     "execution_count": 79,
     "metadata": {},
     "output_type": "execute_result"
    }
   ],
   "source": [
    "t = ('a','b','c','d')\n",
    "def demo(t):\n",
    "    return t[1:]\n",
    "\n",
    "demo(t)"
   ]
  },
  {
   "cell_type": "markdown",
   "metadata": {},
   "source": [
    "The return statement returns all the contents of the list except the first one."
   ]
  },
  {
   "cell_type": "markdown",
   "metadata": {},
   "source": [
    "1.5 if \"fruit\" in \"apple\":"
   ]
  },
  {
   "cell_type": "code",
   "execution_count": 123,
   "metadata": {},
   "outputs": [
    {
     "ename": "SyntaxError",
     "evalue": "unexpected EOF while parsing (<ipython-input-123-2538f8786a40>, line 1)",
     "output_type": "error",
     "traceback": [
      "\u001b[1;36m  File \u001b[1;32m\"<ipython-input-123-2538f8786a40>\"\u001b[1;36m, line \u001b[1;32m1\u001b[0m\n\u001b[1;33m    if \"fruit\" in \"apple\":\u001b[0m\n\u001b[1;37m                          ^\u001b[0m\n\u001b[1;31mSyntaxError\u001b[0m\u001b[1;31m:\u001b[0m unexpected EOF while parsing\n"
     ]
    }
   ],
   "source": [
    "if \"fruit\" in \"apple\":"
   ]
  },
  {
   "cell_type": "markdown",
   "metadata": {},
   "source": [
    "The above statement checks if the string \"fruit\" is in the variable \"apple\", if yes then it executes the statements under \"if\" if not it skips the statements under the \"if\"."
   ]
  },
  {
   "cell_type": "markdown",
   "metadata": {},
   "source": [
    "1.6 with open(\"myfile.txt\", \"r\") as f:\n",
    "text = f.read().decode(\"UTF-8\")"
   ]
  },
  {
   "cell_type": "code",
   "execution_count": 121,
   "metadata": {},
   "outputs": [
    {
     "ename": "FileNotFoundError",
     "evalue": "[Errno 2] No such file or directory: 'myfile.txt'",
     "output_type": "error",
     "traceback": [
      "\u001b[1;31m---------------------------------------------------------------------------\u001b[0m",
      "\u001b[1;31mFileNotFoundError\u001b[0m                         Traceback (most recent call last)",
      "\u001b[1;32m<ipython-input-121-9ecf5aa5d4de>\u001b[0m in \u001b[0;36m<module>\u001b[1;34m\u001b[0m\n\u001b[1;32m----> 1\u001b[1;33m \u001b[1;32mwith\u001b[0m \u001b[0mopen\u001b[0m\u001b[1;33m(\u001b[0m\u001b[1;34m\"myfile.txt\"\u001b[0m\u001b[1;33m,\u001b[0m \u001b[1;34m\"r\"\u001b[0m\u001b[1;33m)\u001b[0m \u001b[1;32mas\u001b[0m \u001b[0mf\u001b[0m\u001b[1;33m:\u001b[0m\u001b[1;33m\u001b[0m\u001b[1;33m\u001b[0m\u001b[0m\n\u001b[0m\u001b[0;32m      2\u001b[0m     \u001b[0mtext\u001b[0m \u001b[1;33m=\u001b[0m \u001b[0mf\u001b[0m\u001b[1;33m.\u001b[0m\u001b[0mread\u001b[0m\u001b[1;33m(\u001b[0m\u001b[1;33m)\u001b[0m\u001b[1;33m.\u001b[0m\u001b[0mdecode\u001b[0m\u001b[1;33m(\u001b[0m\u001b[1;34m\"UTF-8\"\u001b[0m\u001b[1;33m)\u001b[0m\u001b[1;33m\u001b[0m\u001b[1;33m\u001b[0m\u001b[0m\n",
      "\u001b[1;31mFileNotFoundError\u001b[0m: [Errno 2] No such file or directory: 'myfile.txt'"
     ]
    }
   ],
   "source": [
    "with open(\"myfile.txt\", \"r\") as f:\n",
    "    text = f.read().decode(\"UTF-8\")"
   ]
  },
  {
   "cell_type": "markdown",
   "metadata": {},
   "source": [
    "The above code opens the file given in read mode and decodes the text in it. "
   ]
  },
  {
   "cell_type": "markdown",
   "metadata": {},
   "source": [
    "1.7 foo == None"
   ]
  },
  {
   "cell_type": "code",
   "execution_count": 119,
   "metadata": {},
   "outputs": [
    {
     "ename": "NameError",
     "evalue": "name 'foo' is not defined",
     "output_type": "error",
     "traceback": [
      "\u001b[1;31m---------------------------------------------------------------------------\u001b[0m",
      "\u001b[1;31mNameError\u001b[0m                                 Traceback (most recent call last)",
      "\u001b[1;32m<ipython-input-119-7c1055c5049e>\u001b[0m in \u001b[0;36m<module>\u001b[1;34m\u001b[0m\n\u001b[1;32m----> 1\u001b[1;33m \u001b[0mfoo\u001b[0m \u001b[1;33m==\u001b[0m \u001b[1;32mNone\u001b[0m\u001b[1;33m\u001b[0m\u001b[1;33m\u001b[0m\u001b[0m\n\u001b[0m",
      "\u001b[1;31mNameError\u001b[0m: name 'foo' is not defined"
     ]
    }
   ],
   "source": [
    "foo == None"
   ]
  },
  {
   "cell_type": "markdown",
   "metadata": {},
   "source": [
    "if foo is None then it returns a True value if not False"
   ]
  },
  {
   "cell_type": "markdown",
   "metadata": {},
   "source": [
    "1.8 name = \"My name is Brenda\"\n",
    "name[0] = \"A\""
   ]
  },
  {
   "cell_type": "code",
   "execution_count": 108,
   "metadata": {},
   "outputs": [
    {
     "ename": "TypeError",
     "evalue": "'str' object does not support item assignment",
     "output_type": "error",
     "traceback": [
      "\u001b[1;31m---------------------------------------------------------------------------\u001b[0m",
      "\u001b[1;31mTypeError\u001b[0m                                 Traceback (most recent call last)",
      "\u001b[1;32m<ipython-input-108-9bb4e55a7bde>\u001b[0m in \u001b[0;36m<module>\u001b[1;34m\u001b[0m\n\u001b[0;32m      1\u001b[0m \u001b[0mname\u001b[0m \u001b[1;33m=\u001b[0m \u001b[1;34m\"My name is Brenda\"\u001b[0m\u001b[1;33m\u001b[0m\u001b[1;33m\u001b[0m\u001b[0m\n\u001b[1;32m----> 2\u001b[1;33m \u001b[0mname\u001b[0m\u001b[1;33m[\u001b[0m\u001b[1;36m0\u001b[0m\u001b[1;33m]\u001b[0m \u001b[1;33m=\u001b[0m \u001b[1;34m\"A\"\u001b[0m\u001b[1;33m\u001b[0m\u001b[1;33m\u001b[0m\u001b[0m\n\u001b[0m",
      "\u001b[1;31mTypeError\u001b[0m: 'str' object does not support item assignment"
     ]
    }
   ],
   "source": [
    "name = \"My name is Brenda\"\n",
    "name[0] = \"A\""
   ]
  },
  {
   "cell_type": "markdown",
   "metadata": {},
   "source": [
    "The strings are immutable. We can't 'edit' a string, but can however change the reference to an edited string."
   ]
  },
  {
   "cell_type": "markdown",
   "metadata": {},
   "source": [
    "1.9 x = 3\n",
    "x**3"
   ]
  },
  {
   "cell_type": "code",
   "execution_count": 112,
   "metadata": {},
   "outputs": [
    {
     "data": {
      "text/plain": [
       "27"
      ]
     },
     "execution_count": 112,
     "metadata": {},
     "output_type": "execute_result"
    }
   ],
   "source": [
    "x = 3\n",
    "x**3"
   ]
  },
  {
   "cell_type": "code",
   "execution_count": null,
   "metadata": {},
   "outputs": [],
   "source": [
    "The above statement gives the result of 3 to the power of 3. "
   ]
  },
  {
   "cell_type": "markdown",
   "metadata": {},
   "source": [
    "1.10 20%7"
   ]
  },
  {
   "cell_type": "code",
   "execution_count": 118,
   "metadata": {},
   "outputs": [
    {
     "data": {
      "text/plain": [
       "6"
      ]
     },
     "execution_count": 118,
     "metadata": {},
     "output_type": "execute_result"
    }
   ],
   "source": [
    "20%7"
   ]
  },
  {
   "cell_type": "code",
   "execution_count": null,
   "metadata": {},
   "outputs": [],
   "source": [
    "The above expression gives the remainder."
   ]
  },
  {
   "cell_type": "markdown",
   "metadata": {},
   "source": [
    "Question 2. (15 points).Write a program to prompt for a score between 0 and 100. If the score is out of range, print an error message. If the score is between 0 and 100, print a grade using the following table:\n",
    "\n",
    "Score Grade\n",
    "<br>$\n",
    "$>= 90 A \n",
    "<br>$\n",
    "$>= 80 B\n",
    "<br>$\n",
    "$>= 70 C\n",
    "<br>$\n",
    "$>= 60 D\n",
    "<br>$\n",
    "$< 60 F"
   ]
  },
  {
   "cell_type": "code",
   "execution_count": 81,
   "metadata": {},
   "outputs": [
    {
     "name": "stdout",
     "output_type": "stream",
     "text": [
      "Enter a Score between 0 and 100\n",
      "9\n",
      "F\n"
     ]
    }
   ],
   "source": [
    "a= input('Enter a Score between 0 and 100\\n')\n",
    "a=float(a)\n",
    "if (a<0 or a>100):\n",
    "    print('score is out of range, enter score between 0 and 100')\n",
    "elif a >=90:\n",
    "    print('A')\n",
    "elif a >=80:\n",
    "    print('B')\n",
    "elif a >=70:\n",
    "    print('C')\n",
    "elif a >=60:\n",
    "    print('D')\n",
    "elif a <60:\n",
    "    print('F')\n"
   ]
  },
  {
   "cell_type": "markdown",
   "metadata": {},
   "source": [
    "Question 3. (20 points).Write a Python program to generate 12 random numbers between 1 and 100. Sort the list of numbers in ascending order and print it out. Sort the list of numbers in descending order and print it out. Calculate the average for the group and print it out."
   ]
  },
  {
   "cell_type": "code",
   "execution_count": 124,
   "metadata": {},
   "outputs": [
    {
     "name": "stdout",
     "output_type": "stream",
     "text": [
      "asc [1, 11, 13, 18, 23, 28, 36, 55, 64, 72, 89, 95]\n",
      "desc [95, 89, 72, 64, 55, 36, 28, 23, 18, 13, 11, 1]\n",
      "average 42.083333333333336\n"
     ]
    }
   ],
   "source": [
    "import random\n",
    "list=[];\n",
    "sum = 0;\n",
    "limit = 12\n",
    "for x in range(limit):\n",
    "    num = random.randint(1,100);\n",
    "    sum = sum + num ;\n",
    "    list.append(num)\n",
    "\n",
    "list.sort();\n",
    "print('asc',list);\n",
    "list.sort(reverse=True);\n",
    "print('desc',list);\n",
    "print('average',sum/limit)"
   ]
  },
  {
   "cell_type": "markdown",
   "metadata": {},
   "source": [
    "Question 4. (20 points).The formula that describes the volume V of a sphere with radius r is the following:\n",
    "    <br>$𝑉= \\frac{4}{3}∗ 𝜋∗ 𝑟^3$\n",
    "    \n",
    "   Write a program to calculate the value of V when r is in the range of 1– 10. Output the result in the following format:\n",
    "   <br>\n",
    "   r$\\hspace{2cm}  $V<br>\n",
    "   1$\\hspace{2cm}$...<br>\n",
    "   2$\\hspace{2cm}$...<br>\n",
    "   3$\\hspace{2cm}$...<br>"
   ]
  },
  {
   "cell_type": "code",
   "execution_count": 51,
   "metadata": {},
   "outputs": [
    {
     "name": "stdout",
     "output_type": "stream",
     "text": [
      "   r     V\n",
      "\n",
      "   1     4.19047619047619\n",
      "   2     33.52380952380952\n",
      "   3     113.14285714285712\n",
      "   4     268.19047619047615\n",
      "   5     523.8095238095237\n",
      "   6     905.142857142857\n",
      "   7     1437.3333333333333\n",
      "   8     2145.523809523809\n",
      "   9     3054.8571428571427\n",
      "   10     4190.47619047619\n"
     ]
    }
   ],
   "source": [
    "print (\"   r     V\\n\")\n",
    "for r in range(1,11):\n",
    "    v = (4/3) * (22/7) * r * r * r\n",
    "    print (\"  \",r,\"   \",v)\n"
   ]
  },
  {
   "cell_type": "markdown",
   "metadata": {},
   "source": [
    "Question 5. (25 points). Write a program that will do the following string formatting tasks:"
   ]
  },
  {
   "cell_type": "markdown",
   "metadata": {},
   "source": [
    "5.1 Ask the user to enter two sentences"
   ]
  },
  {
   "cell_type": "code",
   "execution_count": 63,
   "metadata": {},
   "outputs": [
    {
     "name": "stdout",
     "output_type": "stream",
     "text": [
      "Enter one sentence:\n",
      "\"vghcgv hbhm, mj bjbjkb?\"\n",
      "Enter another sentence:\n",
      "'asdfgh jhv rty<> u'\n"
     ]
    }
   ],
   "source": [
    "import string;\n",
    "print(\"Enter one sentence:\");\n",
    "s1 = input();\n",
    "print(\"Enter another sentence:\");\n",
    "s2 = input();\n"
   ]
  },
  {
   "cell_type": "markdown",
   "metadata": {},
   "source": [
    "5.2 Make each sentence into a list. Each element in the list should correspond to a word in the sentence. For example, if the sentence is \"Alas! Am I alive? This is my first python program\", the program should print out ['Alas!', 'Am', 'I', 'alive?', 'This', 'is', 'my', 'first', 'python', 'program'] or ['Alas, '!', 'Am', 'I', 'alive, '?', 'This', 'is', 'my', 'first', 'python', 'program']"
   ]
  },
  {
   "cell_type": "code",
   "execution_count": 67,
   "metadata": {},
   "outputs": [
    {
     "name": "stdout",
     "output_type": "stream",
     "text": [
      "sentence 1 list = ['\"vghcgv', 'hbhm,', 'mj', 'bjbjkb?\"']\n",
      "sentence 2 list = [\"'asdfgh\", 'jhv', 'rty<>', \"u'\"]\n"
     ]
    }
   ],
   "source": [
    "List1 = s1.split();\n",
    "List2 = s2.split();\n",
    "\n",
    "print(\"sentence 1 list =\", List1);\n",
    "print(\"sentence 2 list =\", List2);"
   ]
  },
  {
   "cell_type": "markdown",
   "metadata": {},
   "source": [
    "5.3 Compare the two sentences. Print out a list of words that occur in both sentences."
   ]
  },
  {
   "cell_type": "code",
   "execution_count": 68,
   "metadata": {},
   "outputs": [
    {
     "name": "stdout",
     "output_type": "stream",
     "text": [
      "Nothing in commmon\n"
     ]
    }
   ],
   "source": [
    "both = (set(List1)).intersection(set(List2))\n",
    "if len(both)<=0:\n",
    "    print(\"Nothing in commmon\");\n",
    "else:\n",
    "    print(both);"
   ]
  },
  {
   "cell_type": "markdown",
   "metadata": {},
   "source": [
    "5.4 Remove any punctuation from the sentence and print it back out. It should remove at least the following characters, but it can remove more: period(“.”), comma (“,”), semicolon (“;”), and colon (“:”)"
   ]
  },
  {
   "cell_type": "code",
   "execution_count": 69,
   "metadata": {},
   "outputs": [
    {
     "name": "stdout",
     "output_type": "stream",
     "text": [
      "Sentence 1 after removing punctuations:  vghcgv hbhm mj bjbjkb \n",
      "Sentence 2 after removing punctuations:  asdfgh jhv rty u\n"
     ]
    }
   ],
   "source": [
    "translator=str.maketrans('','',string.punctuation)\n",
    "string1_nopunc=s1.translate(translator)\n",
    "string2_nopunc=s2.translate(translator)\n",
    "\n",
    "print(\"Sentence 1 after removing punctuations: \",string1_nopunc,\"\\nSentence 2 after removing punctuations: \",string2_nopunc);"
   ]
  },
  {
   "cell_type": "markdown",
   "metadata": {},
   "source": [
    "5.5 Count the number of vowels in the sentences. Print out each vowel and the number of times it appears in the sentences, such as: a:2, e:1, i:0, etc."
   ]
  },
  {
   "cell_type": "code",
   "execution_count": 75,
   "metadata": {},
   "outputs": [
    {
     "name": "stdout",
     "output_type": "stream",
     "text": [
      "Number of vowels in Sentence 1 =  0\n",
      "Number of vowels in Sentence 2 =  2\n",
      "Sentence 1 a: 0  e: 0  i: 0  o: 0  u: 0 \n",
      "Sentence 2 a: 1  e: 0  i: 0  o: 0  u: 1\n"
     ]
    }
   ],
   "source": [
    "s1a = s1.count('a');\n",
    "s1e = s1.count('e');\n",
    "s1i = s1.count('i');\n",
    "s1o = s1.count('o');\n",
    "s1u = s1.count('u');\n",
    "\n",
    "s2a = s2.count('a');\n",
    "s2e = s2.count('e');\n",
    "s2i = s2.count('i');\n",
    "s2o = s2.count('o');\n",
    "s2u = s2.count('u');\n",
    "\n",
    "c1 = 0;\n",
    "for c in s1:\n",
    "    if c == 'a' or c=='e' or c=='i' or c=='o' or c=='u':\n",
    "        c1 = c1 + 1;\n",
    "c2 = 0;\n",
    "for c in s2:\n",
    "    if c == 'a' or c=='e' or c=='i' or c=='o' or c=='u':\n",
    "        c2 = c2 + 1;  \n",
    "print(\"Number of vowels in Sentence 1 = \",c1);\n",
    "print(\"Number of vowels in Sentence 2 = \",c2);  \n",
    " \n",
    "print(\"Sentence 1 a:\",s1a,\" e:\",s1e,\" i:\",s1i,\" o:\",s1o,\" u:\",s1u,\"\\nSentence 2 a:\",s2a,\" e:\",s2e,\" i:\",s2i,\" o:\",s2o,\" u:\",s2u);"
   ]
  }
 ],
 "metadata": {
  "kernelspec": {
   "display_name": "Python 3",
   "language": "python",
   "name": "python3"
  },
  "language_info": {
   "codemirror_mode": {
    "name": "ipython",
    "version": 3
   },
   "file_extension": ".py",
   "mimetype": "text/x-python",
   "name": "python",
   "nbconvert_exporter": "python",
   "pygments_lexer": "ipython3",
   "version": "3.7.1"
  }
 },
 "nbformat": 4,
 "nbformat_minor": 2
}
