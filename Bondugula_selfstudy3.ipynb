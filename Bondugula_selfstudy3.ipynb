{
 "cells": [
  {
   "cell_type": "code",
   "execution_count": 1,
   "metadata": {},
   "outputs": [],
   "source": [
    "import sys, re\n",
    "regex = sys.argv[1]\n",
    "\n",
    "for line in sys.stdin:\n",
    "    if re.search(regex, line):\n",
    "       sys.stdout.write(line)"
   ]
  },
  {
   "cell_type": "code",
   "execution_count": 2,
   "metadata": {},
   "outputs": [
    {
     "name": "stdout",
     "output_type": "stream",
     "text": [
      "0\n"
     ]
    }
   ],
   "source": [
    "import sys\n",
    "count = 0\n",
    "for line in sys.stdin:\n",
    "    count += 1\n",
    "print(count)"
   ]
  },
  {
   "cell_type": "code",
   "execution_count": 3,
   "metadata": {},
   "outputs": [
    {
     "name": "stdout",
     "output_type": "stream",
     "text": [
      "usage: most_common_words.py num_words\n"
     ]
    },
    {
     "ename": "SystemExit",
     "evalue": "1",
     "output_type": "error",
     "traceback": [
      "An exception has occurred, use %tb to see the full traceback.\n",
      "\u001b[1;31mSystemExit\u001b[0m\u001b[1;31m:\u001b[0m 1\n"
     ]
    },
    {
     "name": "stderr",
     "output_type": "stream",
     "text": [
      "C:\\Users\\reddy\\Anaconda3\\lib\\site-packages\\IPython\\core\\interactiveshell.py:3275: UserWarning: To exit: use 'exit', 'quit', or Ctrl-D.\n",
      "  warn(\"To exit: use 'exit', 'quit', or Ctrl-D.\", stacklevel=1)\n"
     ]
    }
   ],
   "source": [
    "import sys\n",
    "from collections import Counter\n",
    "\n",
    "try:\n",
    "    num_words = int(sys.argv[1])\n",
    "except:\n",
    "     print (\"usage: most_common_words.py num_words\")\n",
    "     sys.exit(1)\n",
    "counter = Counter(word.lower() \n",
    "                  for line in sys.stdin \n",
    "                  for word in line.strip().split() \n",
    "                  if word)\n",
    "for word, count in counter.most_common(num_words):\n",
    "    sys.stdout.write(str(count))\n",
    "    sys.stdout.write(\"\\t\")\n",
    "    sys.stdout.write(word)\n",
    "    sys.stdout.write(\"\\n\")"
   ]
  },
  {
   "cell_type": "code",
   "execution_count": 7,
   "metadata": {},
   "outputs": [
    {
     "ename": "FileNotFoundError",
     "evalue": "[Errno 2] No such file or directory: '/Users/Pc User/Documents/INFO5731/info5731/sample.csv'",
     "output_type": "error",
     "traceback": [
      "\u001b[1;31m---------------------------------------------------------------------------\u001b[0m",
      "\u001b[1;31mFileNotFoundError\u001b[0m                         Traceback (most recent call last)",
      "\u001b[1;32m<ipython-input-7-c2a8a8f263da>\u001b[0m in \u001b[0;36m<module>\u001b[1;34m\u001b[0m\n\u001b[0;32m      1\u001b[0m \u001b[1;32mimport\u001b[0m \u001b[0mcsv\u001b[0m\u001b[1;33m\u001b[0m\u001b[1;33m\u001b[0m\u001b[0m\n\u001b[0;32m      2\u001b[0m \u001b[1;32mimport\u001b[0m \u001b[0mcodecs\u001b[0m\u001b[1;33m\u001b[0m\u001b[1;33m\u001b[0m\u001b[0m\n\u001b[1;32m----> 3\u001b[1;33m \u001b[0mifile\u001b[0m  \u001b[1;33m=\u001b[0m \u001b[0mopen\u001b[0m\u001b[1;33m(\u001b[0m\u001b[1;34m'/Users/Pc User/Documents/INFO5731/info5731/sample.csv'\u001b[0m\u001b[1;33m,\u001b[0m \u001b[1;34m\"rb\"\u001b[0m\u001b[1;33m)\u001b[0m\u001b[1;33m\u001b[0m\u001b[1;33m\u001b[0m\u001b[0m\n\u001b[0m\u001b[0;32m      4\u001b[0m \u001b[0mread\u001b[0m \u001b[1;33m=\u001b[0m \u001b[0mcsv\u001b[0m\u001b[1;33m.\u001b[0m\u001b[0mreader\u001b[0m\u001b[1;33m(\u001b[0m\u001b[0mcodecs\u001b[0m\u001b[1;33m.\u001b[0m\u001b[0miterdecode\u001b[0m\u001b[1;33m(\u001b[0m\u001b[0mifile\u001b[0m\u001b[1;33m,\u001b[0m \u001b[1;34m'utf-8'\u001b[0m\u001b[1;33m)\u001b[0m\u001b[1;33m)\u001b[0m\u001b[1;33m\u001b[0m\u001b[1;33m\u001b[0m\u001b[0m\n\u001b[0;32m      5\u001b[0m \u001b[0mreader\u001b[0m \u001b[1;33m=\u001b[0m \u001b[0mcsv\u001b[0m\u001b[1;33m.\u001b[0m\u001b[0mreader\u001b[0m\u001b[1;33m(\u001b[0m\u001b[0mifile\u001b[0m\u001b[1;33m,\u001b[0m \u001b[0mdelimiter\u001b[0m\u001b[1;33m=\u001b[0m\u001b[1;34m'\\t'\u001b[0m\u001b[1;33m)\u001b[0m\u001b[1;33m\u001b[0m\u001b[1;33m\u001b[0m\u001b[0m\n",
      "\u001b[1;31mFileNotFoundError\u001b[0m: [Errno 2] No such file or directory: '/Users/Pc User/Documents/INFO5731/info5731/sample.csv'"
     ]
    }
   ],
   "source": [
    "import csv\n",
    "import codecs\n",
    "ifile  = open('/Users/Pc User/Documents/INFO5731/info5731/sample.csv', \"rb\")\n",
    "read = csv.reader(codecs.iterdecode(ifile, 'utf-8'))\n",
    "reader = csv.reader(ifile, delimiter='\\t')\n",
    "for row in read :\n",
    "    date = row[0]\n",
    "    symbol = row[1]\n",
    "    closing_price = float(row[2])\n",
    "    process(date, symbol, closing_price)"
   ]
  },
  {
   "cell_type": "code",
   "execution_count": 6,
   "metadata": {},
   "outputs": [
    {
     "ename": "NameError",
     "evalue": "name 'function_that_gets_data_from' is not defined",
     "output_type": "error",
     "traceback": [
      "\u001b[1;31m---------------------------------------------------------------------------\u001b[0m",
      "\u001b[1;31mNameError\u001b[0m                                 Traceback (most recent call last)",
      "\u001b[1;32m<ipython-input-6-fe75a4720346>\u001b[0m in \u001b[0;36m<module>\u001b[1;34m\u001b[0m\n\u001b[0;32m      8\u001b[0m \u001b[0mfile_for_writing\u001b[0m\u001b[1;33m.\u001b[0m\u001b[0mclose\u001b[0m\u001b[1;33m(\u001b[0m\u001b[1;33m)\u001b[0m\u001b[1;33m\u001b[0m\u001b[1;33m\u001b[0m\u001b[0m\n\u001b[0;32m      9\u001b[0m \u001b[1;32mwith\u001b[0m \u001b[0mopen\u001b[0m\u001b[1;33m(\u001b[0m\u001b[1;34m'reading_file.txt'\u001b[0m\u001b[1;33m,\u001b[0m\u001b[1;34m'r'\u001b[0m\u001b[1;33m)\u001b[0m \u001b[1;32mas\u001b[0m \u001b[0mf\u001b[0m\u001b[1;33m:\u001b[0m\u001b[1;33m\u001b[0m\u001b[1;33m\u001b[0m\u001b[0m\n\u001b[1;32m---> 10\u001b[1;33m     \u001b[0mdata\u001b[0m \u001b[1;33m=\u001b[0m \u001b[0mfunction_that_gets_data_from\u001b[0m\u001b[1;33m(\u001b[0m\u001b[0mf\u001b[0m\u001b[1;33m)\u001b[0m\u001b[1;33m\u001b[0m\u001b[1;33m\u001b[0m\u001b[0m\n\u001b[0m\u001b[0;32m     11\u001b[0m \u001b[1;31m# at this point f has already been closed, so don't try to use it\u001b[0m\u001b[1;33m\u001b[0m\u001b[1;33m\u001b[0m\u001b[1;33m\u001b[0m\u001b[0m\n\u001b[0;32m     12\u001b[0m \u001b[0mprocess\u001b[0m\u001b[1;33m(\u001b[0m\u001b[0mdata\u001b[0m\u001b[1;33m)\u001b[0m\u001b[1;33m\u001b[0m\u001b[1;33m\u001b[0m\u001b[0m\n",
      "\u001b[1;31mNameError\u001b[0m: name 'function_that_gets_data_from' is not defined"
     ]
    }
   ],
   "source": [
    "# 'r' means read-only \n",
    "file_for_reading = open('reading_file.txt', 'r')\n",
    "# 'w' is write -- will destroy the file if it already exists! \n",
    "file_for_writing = open('writing_file.txt', 'w')\n",
    "# 'a' is append -- for adding to the end of the file \n",
    "file_for_appending = open('appending_file.txt', 'a')\n",
    "# don't forget to close your files when you're done \n",
    "file_for_writing.close()\n",
    "with open('reading_file.txt','r') as f:    \n",
    "    data = function_that_gets_data_from(f)\n",
    "# at this point f has already been closed, so don't try to use it \n",
    "process(data)"
   ]
  },
  {
   "cell_type": "code",
   "execution_count": 8,
   "metadata": {},
   "outputs": [
    {
     "ename": "SyntaxError",
     "evalue": "(unicode error) 'unicodeescape' codec can't decode bytes in position 2-3: truncated \\UXXXXXXXX escape (<ipython-input-8-2388b04455d9>, line 9)",
     "output_type": "error",
     "traceback": [
      "\u001b[1;36m  File \u001b[1;32m\"<ipython-input-8-2388b04455d9>\"\u001b[1;36m, line \u001b[1;32m9\u001b[0m\n\u001b[1;33m    os.chdir(\"C:\\Users\\USER\\Desktop\\UNT\\SPRING19\\INFO 5731\")\u001b[0m\n\u001b[1;37m            ^\u001b[0m\n\u001b[1;31mSyntaxError\u001b[0m\u001b[1;31m:\u001b[0m (unicode error) 'unicodeescape' codec can't decode bytes in position 2-3: truncated \\UXXXXXXXX escape\n"
     ]
    }
   ],
   "source": [
    "def get_domains(emails):\n",
    "    \"\"\"split on @ and return the last piece\"\"\"\n",
    "    return emails.lower().split('@')[-1]\n",
    "\n",
    "\n",
    "import sys \n",
    "from collections import Counter\n",
    "import os\n",
    "os.chdir(\"C:\\Users\\USER\\Desktop\\UNT\\SPRING19\\INFO 5731\")\n",
    "\n",
    "with open('domain.txt', 'r') as f:\n",
    "    domain_counts = Counter(get_domain(line.strip())\n",
    "                           for line in f\n",
    "                           if '@' in line)\n",
    "print(emails.read())\n",
    "e.close()"
   ]
  },
  {
   "cell_type": "code",
   "execution_count": 9,
   "metadata": {},
   "outputs": [
    {
     "ename": "Error",
     "evalue": "iterator should return strings, not bytes (did you open the file in text mode?)",
     "output_type": "error",
     "traceback": [
      "\u001b[1;31m---------------------------------------------------------------------------\u001b[0m",
      "\u001b[1;31mError\u001b[0m                                     Traceback (most recent call last)",
      "\u001b[1;32m<ipython-input-9-6fadd9abb88e>\u001b[0m in \u001b[0;36m<module>\u001b[1;34m\u001b[0m\n\u001b[0;32m      3\u001b[0m \u001b[1;32mwith\u001b[0m \u001b[0mopen\u001b[0m\u001b[1;33m(\u001b[0m\u001b[1;34m'words.txt'\u001b[0m\u001b[1;33m,\u001b[0m \u001b[1;34m'rb'\u001b[0m\u001b[1;33m)\u001b[0m \u001b[1;32mas\u001b[0m \u001b[0mf\u001b[0m\u001b[1;33m:\u001b[0m\u001b[1;33m\u001b[0m\u001b[1;33m\u001b[0m\u001b[0m\n\u001b[0;32m      4\u001b[0m     \u001b[0mreader\u001b[0m \u001b[1;33m=\u001b[0m \u001b[0mcsv\u001b[0m\u001b[1;33m.\u001b[0m\u001b[0mreader\u001b[0m\u001b[1;33m(\u001b[0m\u001b[0mf\u001b[0m\u001b[1;33m,\u001b[0m \u001b[0mdelimiter\u001b[0m\u001b[1;33m=\u001b[0m \u001b[1;34m\",\"\u001b[0m\u001b[1;33m)\u001b[0m\u001b[1;33m\u001b[0m\u001b[1;33m\u001b[0m\u001b[0m\n\u001b[1;32m----> 5\u001b[1;33m     \u001b[1;32mfor\u001b[0m \u001b[0mrow\u001b[0m \u001b[1;32min\u001b[0m \u001b[0mreader\u001b[0m\u001b[1;33m:\u001b[0m\u001b[1;33m\u001b[0m\u001b[1;33m\u001b[0m\u001b[0m\n\u001b[0m\u001b[0;32m      6\u001b[0m         \u001b[0mdate\u001b[0m \u001b[1;33m=\u001b[0m \u001b[0mrow\u001b[0m\u001b[1;33m[\u001b[0m\u001b[1;36m0\u001b[0m\u001b[1;33m]\u001b[0m\u001b[1;33m\u001b[0m\u001b[1;33m\u001b[0m\u001b[0m\n\u001b[0;32m      7\u001b[0m         \u001b[0msymbol\u001b[0m \u001b[1;33m=\u001b[0m \u001b[0mrow\u001b[0m\u001b[1;33m[\u001b[0m\u001b[1;36m1\u001b[0m\u001b[1;33m]\u001b[0m\u001b[1;33m\u001b[0m\u001b[1;33m\u001b[0m\u001b[0m\n",
      "\u001b[1;31mError\u001b[0m: iterator should return strings, not bytes (did you open the file in text mode?)"
     ]
    }
   ],
   "source": [
    "import csv  \n",
    "\n",
    "with open('words.txt', 'rb') as f: \n",
    "    reader = csv.reader(f, delimiter= \",\") \n",
    "    for row in reader: \n",
    "        date = row[0] \n",
    "        symbol = row[1] \n",
    "        closing_price = float(row[2]) \n",
    "        process(date, symbol, closing_price)\n",
    "        \n",
    "with open('words.txt', 'r') as f:\n",
    "    reader = csv.reader(f) \n",
    "    for row in reader:\n",
    "        print(row)"
   ]
  },
  {
   "cell_type": "code",
   "execution_count": 10,
   "metadata": {},
   "outputs": [
    {
     "name": "stdout",
     "output_type": "stream",
     "text": [
      "© 2019 - Privacy - Terms\n",
      "['©', '2019', '-', 'Privacy', '-', 'Terms']\n"
     ]
    }
   ],
   "source": [
    "from bs4 import BeautifulSoup \n",
    "\n",
    "import requests\n",
    "\n",
    "html = requests.get(\"http://www.google.com\").text \n",
    "soup = BeautifulSoup(html, 'html5lib')\n",
    "\n",
    "first_paragraph_text = soup.p.text \n",
    "first_paragraph_words = soup.p.text.split()\n",
    "\n",
    "print(first_paragraph_text)\n",
    "print(first_paragraph_words)"
   ]
  },
  {
   "cell_type": "code",
   "execution_count": 11,
   "metadata": {},
   "outputs": [
    {
     "name": "stdout",
     "output_type": "stream",
     "text": [
      "11333\n"
     ]
    }
   ],
   "source": [
    "tds = requests.get(\"http://www.google.com\").text\n",
    "print (len (tds))"
   ]
  },
  {
   "cell_type": "code",
   "execution_count": 12,
   "metadata": {},
   "outputs": [
    {
     "name": "stdout",
     "output_type": "stream",
     "text": [
      "{'title': 'Data Science Book', 'author': 'Joel Grus', 'publicationYear': 2014, 'topics': ['data', 'science', 'data science']}\n"
     ]
    }
   ],
   "source": [
    "import json\n",
    "serialized = \"\"\"{ \"title\" : \"Data Science Book\", \n",
    "                  \"author\" : \"Joel Grus\", \n",
    "                  \"publicationYear\" : 2014, \n",
    "                  \"topics\" : [ \"data\", \"science\", \"data science\"] }\"\"\"\n",
    "\n",
    "deserialized = json.loads(serialized) \n",
    "if \"data science\" in deserialized[\"topics\"]: \n",
    "    print(deserialized)"
   ]
  },
  {
   "cell_type": "code",
   "execution_count": 14,
   "metadata": {},
   "outputs": [],
   "source": [
    "import requests , json \n",
    "endpoint = \"https://api.github.com/users/joelgrus/repos\" \n",
    "repos = json.loads(requests.get(endpoint).text)"
   ]
  },
  {
   "cell_type": "code",
   "execution_count": 16,
   "metadata": {},
   "outputs": [
    {
     "name": "stdout",
     "output_type": "stream",
     "text": [
      "['user_id', 'name', 'num_friends'] \n",
      " {'user_id': 0, 'name': 'Hero', 'num_friends': 0} \n",
      " {'user_id': 1, 'name': 'Dunn', 'num_friends': 2} \n",
      " {'user_id': 2, 'name': 'Sue', 'num_friends': 3} \n",
      " {'user_id': 3, 'name': 'Chi', 'num_friends': 3} \n",
      " {'user_id': 4, 'name': 'Thor', 'num_friends': 3} \n",
      " {'user_id': 5, 'name': 'Clive', 'num_friends': 2} \n",
      " {'user_id': 6, 'name': 'Hicks', 'num_friends': 3} \n",
      " {'user_id': 7, 'name': 'Devin', 'num_friends': 2} \n",
      " {'user_id': 8, 'name': 'Kate', 'num_friends': 2} \n",
      " {'user_id': 9, 'name': 'Klein', 'num_friends': 3} \n",
      " {'user_id': 10, 'name': 'Jen', 'num_friends': 1}\n"
     ]
    }
   ],
   "source": [
    "class Table : \n",
    "    def __init__(self, columns): \n",
    "        self.columns = columns \n",
    "        self.rows = []\n",
    "        \n",
    "    def __repr__(self):  \n",
    "        \"\"\"pretty representation of the table: columns then rows\"\"\" \n",
    "        return str(self.columns) + \" \\n \" + \" \\n \".join(map(str, self.rows))\n",
    "\n",
    "    def insert(self, row_values): \n",
    "        if len(row_values) != len(self.columns): \n",
    "            raise TypeError (\"wrong number of elements\") \n",
    "        row_dict = dict(zip(self.columns, row_values)) \n",
    "        self.rows.append(row_dict)\n",
    "        \n",
    "    def update(self, updates, predicate): \n",
    "        for row in self.rows: \n",
    "            if predicate(row): \n",
    "                for column, new_value in updates.iteritems(): \n",
    "                    row[column] = new_value\n",
    "\n",
    "    def delete(self, predicate= lambda row: True):\n",
    "        \"\"\"delete all rows matching predicate \n",
    "        or all rows if no predicate supplied\"\"\"\n",
    "        self.rows = [row for row in self.rows if not (predicate(row))]\n",
    "        \n",
    "                \n",
    "    def select(self, keep_columns=None, additional_columns=None): \n",
    "        if keep_columns is None: \n",
    "            keep_columns = self.columns\n",
    "        if additional_columns is None: \n",
    "            additional_columns = {}\n",
    "        #new table for results    \n",
    "        result_table = Table(keep_columns + additional_columns.keys())\n",
    "        \n",
    "        for row in self.rows: \n",
    "            new_row = [row[column] for column in keep_columns] \n",
    "            for column_name, calculation in additional_columns.iteritems(): \n",
    "                new_row.append(calculation(row)) \n",
    "            result_table.insert(new_row) \n",
    "        return result_table\n",
    "\n",
    "    def where(self, predicate= lambda row: True): \n",
    "        \"\"\"return only the rows that satisfy the supplied predicate\"\"\" \n",
    "        where_table = Table(self.columns) \n",
    "        where_table.rows = filter(predicate, self.rows) \n",
    "        return where_table\n",
    "\n",
    "    def limit(self, num_rows): \n",
    "        \"\"\"return only the first num_rows rows\"\"\" \n",
    "        limit_table = Table(self.columns) \n",
    "        limit_table.rows = self.rows[:num_rows] \n",
    "        return limit_table\n",
    "    def name_length(row): return len(row[\"name\"])\n",
    "    \n",
    "    \n",
    "    def group_by(self, group_by_columns, aggregates, having=None): \n",
    "        grouped_rows = defaultdict(list) # populate groups \n",
    "        for row in self.rows: \n",
    "            key = tuple(row[column] for column in group_by_columns) \n",
    "            grouped_rows[key].append(row) \n",
    "            \n",
    "            result_table = Table(group_by_columns + aggregates.keys()) \n",
    "\n",
    "            for key, rows in grouped_rows.iteritems(): \n",
    "                if having is None or having(rows): \n",
    "                    new_row = list(key) \n",
    "                    for aggregate_name, aggregate_fn in aggregates.iteritems(): \n",
    "                        new_row.append(aggregate_fn(rows)) \n",
    "                        result_table.insert(new_row)\n",
    "        return result_table \n",
    "    \n",
    "    def min_user_id(rows): return min(row[\"user_id\"] for row in rows)\n",
    "    \n",
    "    def first_letter_of_name(row): \n",
    "        return row[\"name\"][0] if row[\"name\"] else \"\"\n",
    "\n",
    "    def average_num_friends(rows): \n",
    "        return sum(row[\"num_friends\"] for row in rows) / len(rows)\n",
    "\n",
    "    def enough_friends(rows): \n",
    "        return average_num_friends(rows) > 1\n",
    "    \n",
    "    def sum_user_ids(rows): return sum(row[\"user_id\"] for row in rows)\n",
    "    \n",
    "    def order_by(self, order): \n",
    "        new_table = self.select() \n",
    "        new_table.rows.sort(key=order) \n",
    "        return new_table\n",
    "    \n",
    "    def join(self, other_table, left_join=False): \n",
    "        join_on_columns = [c for c in self.columns \n",
    "                           if c in other_table.columns]\n",
    "\n",
    "        additional_columns = [c for c in other_table.columns  \n",
    "                              if c not in join_on_columns]\n",
    "\n",
    "        join_table = Table(self.columns + additional_columns) \n",
    "        for row in self.rows: \n",
    "            def is_join(other_row): \n",
    "                return all(other_row[c] == row[c] for c in join_on_columns) \n",
    "            other_rows = other_table.where(is_join).rows\n",
    "\n",
    "            for other_row in other_rows: \n",
    "                join_table.insert([row[c] for c in self.columns] + \n",
    "                                  [other_row[c] for c in additional_columns])\n",
    "\n",
    "            if left_join and not other_rows: \n",
    "                join_table.insert([row[c] for c in self.columns] +\n",
    "\n",
    "                                  [None for c in additional_columns])\n",
    "        return join_table\n",
    "    \n",
    "users = Table ([\"user_id\", \"name\", \"num_friends\"]) \n",
    "users.insert([0, \"Hero\", 0]) \n",
    "users.insert([1, \"Dunn\", 2]) \n",
    "users.insert([2, \"Sue\", 3])\n",
    "users.insert([3, \"Chi\", 3]) \n",
    "users.insert([4, \"Thor\", 3]) \n",
    "users.insert([5, \"Clive\", 2]) \n",
    "users.insert([6, \"Hicks\", 3]) \n",
    "users.insert([7, \"Devin\", 2]) \n",
    "users.insert([8, \"Kate\", 2]) \n",
    "users.insert([9, \"Klein\", 3]) \n",
    "users.insert([10, \"Jen\", 1])\n",
    "print(users)"
   ]
  },
  {
   "cell_type": "code",
   "execution_count": 19,
   "metadata": {},
   "outputs": [
    {
     "ename": "ConnectionError",
     "evalue": "HTTPConnectionPool(host='www.example.com', port=80): Max retries exceeded with url: / (Caused by NewConnectionError('<urllib3.connection.HTTPConnection object at 0x0000020634B4ADA0>: Failed to establish a new connection: [Errno 11001] getaddrinfo failed'))",
     "output_type": "error",
     "traceback": [
      "\u001b[1;31m---------------------------------------------------------------------------\u001b[0m",
      "\u001b[1;31mgaierror\u001b[0m                                  Traceback (most recent call last)",
      "\u001b[1;32m~\\Anaconda3\\lib\\site-packages\\urllib3\\connection.py\u001b[0m in \u001b[0;36m_new_conn\u001b[1;34m(self)\u001b[0m\n\u001b[0;32m    158\u001b[0m             conn = connection.create_connection(\n\u001b[1;32m--> 159\u001b[1;33m                 (self._dns_host, self.port), self.timeout, **extra_kw)\n\u001b[0m\u001b[0;32m    160\u001b[0m \u001b[1;33m\u001b[0m\u001b[0m\n",
      "\u001b[1;32m~\\Anaconda3\\lib\\site-packages\\urllib3\\util\\connection.py\u001b[0m in \u001b[0;36mcreate_connection\u001b[1;34m(address, timeout, source_address, socket_options)\u001b[0m\n\u001b[0;32m     56\u001b[0m \u001b[1;33m\u001b[0m\u001b[0m\n\u001b[1;32m---> 57\u001b[1;33m     \u001b[1;32mfor\u001b[0m \u001b[0mres\u001b[0m \u001b[1;32min\u001b[0m \u001b[0msocket\u001b[0m\u001b[1;33m.\u001b[0m\u001b[0mgetaddrinfo\u001b[0m\u001b[1;33m(\u001b[0m\u001b[0mhost\u001b[0m\u001b[1;33m,\u001b[0m \u001b[0mport\u001b[0m\u001b[1;33m,\u001b[0m \u001b[0mfamily\u001b[0m\u001b[1;33m,\u001b[0m \u001b[0msocket\u001b[0m\u001b[1;33m.\u001b[0m\u001b[0mSOCK_STREAM\u001b[0m\u001b[1;33m)\u001b[0m\u001b[1;33m:\u001b[0m\u001b[1;33m\u001b[0m\u001b[1;33m\u001b[0m\u001b[0m\n\u001b[0m\u001b[0;32m     58\u001b[0m         \u001b[0maf\u001b[0m\u001b[1;33m,\u001b[0m \u001b[0msocktype\u001b[0m\u001b[1;33m,\u001b[0m \u001b[0mproto\u001b[0m\u001b[1;33m,\u001b[0m \u001b[0mcanonname\u001b[0m\u001b[1;33m,\u001b[0m \u001b[0msa\u001b[0m \u001b[1;33m=\u001b[0m \u001b[0mres\u001b[0m\u001b[1;33m\u001b[0m\u001b[1;33m\u001b[0m\u001b[0m\n",
      "\u001b[1;32m~\\Anaconda3\\lib\\socket.py\u001b[0m in \u001b[0;36mgetaddrinfo\u001b[1;34m(host, port, family, type, proto, flags)\u001b[0m\n\u001b[0;32m    747\u001b[0m     \u001b[0maddrlist\u001b[0m \u001b[1;33m=\u001b[0m \u001b[1;33m[\u001b[0m\u001b[1;33m]\u001b[0m\u001b[1;33m\u001b[0m\u001b[1;33m\u001b[0m\u001b[0m\n\u001b[1;32m--> 748\u001b[1;33m     \u001b[1;32mfor\u001b[0m \u001b[0mres\u001b[0m \u001b[1;32min\u001b[0m \u001b[0m_socket\u001b[0m\u001b[1;33m.\u001b[0m\u001b[0mgetaddrinfo\u001b[0m\u001b[1;33m(\u001b[0m\u001b[0mhost\u001b[0m\u001b[1;33m,\u001b[0m \u001b[0mport\u001b[0m\u001b[1;33m,\u001b[0m \u001b[0mfamily\u001b[0m\u001b[1;33m,\u001b[0m \u001b[0mtype\u001b[0m\u001b[1;33m,\u001b[0m \u001b[0mproto\u001b[0m\u001b[1;33m,\u001b[0m \u001b[0mflags\u001b[0m\u001b[1;33m)\u001b[0m\u001b[1;33m:\u001b[0m\u001b[1;33m\u001b[0m\u001b[1;33m\u001b[0m\u001b[0m\n\u001b[0m\u001b[0;32m    749\u001b[0m         \u001b[0maf\u001b[0m\u001b[1;33m,\u001b[0m \u001b[0msocktype\u001b[0m\u001b[1;33m,\u001b[0m \u001b[0mproto\u001b[0m\u001b[1;33m,\u001b[0m \u001b[0mcanonname\u001b[0m\u001b[1;33m,\u001b[0m \u001b[0msa\u001b[0m \u001b[1;33m=\u001b[0m \u001b[0mres\u001b[0m\u001b[1;33m\u001b[0m\u001b[1;33m\u001b[0m\u001b[0m\n",
      "\u001b[1;31mgaierror\u001b[0m: [Errno 11001] getaddrinfo failed",
      "\nDuring handling of the above exception, another exception occurred:\n",
      "\u001b[1;31mNewConnectionError\u001b[0m                        Traceback (most recent call last)",
      "\u001b[1;32m~\\Anaconda3\\lib\\site-packages\\urllib3\\connectionpool.py\u001b[0m in \u001b[0;36murlopen\u001b[1;34m(self, method, url, body, headers, retries, redirect, assert_same_host, timeout, pool_timeout, release_conn, chunked, body_pos, **response_kw)\u001b[0m\n\u001b[0;32m    599\u001b[0m                                                   \u001b[0mbody\u001b[0m\u001b[1;33m=\u001b[0m\u001b[0mbody\u001b[0m\u001b[1;33m,\u001b[0m \u001b[0mheaders\u001b[0m\u001b[1;33m=\u001b[0m\u001b[0mheaders\u001b[0m\u001b[1;33m,\u001b[0m\u001b[1;33m\u001b[0m\u001b[1;33m\u001b[0m\u001b[0m\n\u001b[1;32m--> 600\u001b[1;33m                                                   chunked=chunked)\n\u001b[0m\u001b[0;32m    601\u001b[0m \u001b[1;33m\u001b[0m\u001b[0m\n",
      "\u001b[1;32m~\\Anaconda3\\lib\\site-packages\\urllib3\\connectionpool.py\u001b[0m in \u001b[0;36m_make_request\u001b[1;34m(self, conn, method, url, timeout, chunked, **httplib_request_kw)\u001b[0m\n\u001b[0;32m    353\u001b[0m         \u001b[1;32melse\u001b[0m\u001b[1;33m:\u001b[0m\u001b[1;33m\u001b[0m\u001b[1;33m\u001b[0m\u001b[0m\n\u001b[1;32m--> 354\u001b[1;33m             \u001b[0mconn\u001b[0m\u001b[1;33m.\u001b[0m\u001b[0mrequest\u001b[0m\u001b[1;33m(\u001b[0m\u001b[0mmethod\u001b[0m\u001b[1;33m,\u001b[0m \u001b[0murl\u001b[0m\u001b[1;33m,\u001b[0m \u001b[1;33m**\u001b[0m\u001b[0mhttplib_request_kw\u001b[0m\u001b[1;33m)\u001b[0m\u001b[1;33m\u001b[0m\u001b[1;33m\u001b[0m\u001b[0m\n\u001b[0m\u001b[0;32m    355\u001b[0m \u001b[1;33m\u001b[0m\u001b[0m\n",
      "\u001b[1;32m~\\Anaconda3\\lib\\http\\client.py\u001b[0m in \u001b[0;36mrequest\u001b[1;34m(self, method, url, body, headers, encode_chunked)\u001b[0m\n\u001b[0;32m   1228\u001b[0m         \u001b[1;34m\"\"\"Send a complete request to the server.\"\"\"\u001b[0m\u001b[1;33m\u001b[0m\u001b[1;33m\u001b[0m\u001b[0m\n\u001b[1;32m-> 1229\u001b[1;33m         \u001b[0mself\u001b[0m\u001b[1;33m.\u001b[0m\u001b[0m_send_request\u001b[0m\u001b[1;33m(\u001b[0m\u001b[0mmethod\u001b[0m\u001b[1;33m,\u001b[0m \u001b[0murl\u001b[0m\u001b[1;33m,\u001b[0m \u001b[0mbody\u001b[0m\u001b[1;33m,\u001b[0m \u001b[0mheaders\u001b[0m\u001b[1;33m,\u001b[0m \u001b[0mencode_chunked\u001b[0m\u001b[1;33m)\u001b[0m\u001b[1;33m\u001b[0m\u001b[1;33m\u001b[0m\u001b[0m\n\u001b[0m\u001b[0;32m   1230\u001b[0m \u001b[1;33m\u001b[0m\u001b[0m\n",
      "\u001b[1;32m~\\Anaconda3\\lib\\http\\client.py\u001b[0m in \u001b[0;36m_send_request\u001b[1;34m(self, method, url, body, headers, encode_chunked)\u001b[0m\n\u001b[0;32m   1274\u001b[0m             \u001b[0mbody\u001b[0m \u001b[1;33m=\u001b[0m \u001b[0m_encode\u001b[0m\u001b[1;33m(\u001b[0m\u001b[0mbody\u001b[0m\u001b[1;33m,\u001b[0m \u001b[1;34m'body'\u001b[0m\u001b[1;33m)\u001b[0m\u001b[1;33m\u001b[0m\u001b[1;33m\u001b[0m\u001b[0m\n\u001b[1;32m-> 1275\u001b[1;33m         \u001b[0mself\u001b[0m\u001b[1;33m.\u001b[0m\u001b[0mendheaders\u001b[0m\u001b[1;33m(\u001b[0m\u001b[0mbody\u001b[0m\u001b[1;33m,\u001b[0m \u001b[0mencode_chunked\u001b[0m\u001b[1;33m=\u001b[0m\u001b[0mencode_chunked\u001b[0m\u001b[1;33m)\u001b[0m\u001b[1;33m\u001b[0m\u001b[1;33m\u001b[0m\u001b[0m\n\u001b[0m\u001b[0;32m   1276\u001b[0m \u001b[1;33m\u001b[0m\u001b[0m\n",
      "\u001b[1;32m~\\Anaconda3\\lib\\http\\client.py\u001b[0m in \u001b[0;36mendheaders\u001b[1;34m(self, message_body, encode_chunked)\u001b[0m\n\u001b[0;32m   1223\u001b[0m             \u001b[1;32mraise\u001b[0m \u001b[0mCannotSendHeader\u001b[0m\u001b[1;33m(\u001b[0m\u001b[1;33m)\u001b[0m\u001b[1;33m\u001b[0m\u001b[1;33m\u001b[0m\u001b[0m\n\u001b[1;32m-> 1224\u001b[1;33m         \u001b[0mself\u001b[0m\u001b[1;33m.\u001b[0m\u001b[0m_send_output\u001b[0m\u001b[1;33m(\u001b[0m\u001b[0mmessage_body\u001b[0m\u001b[1;33m,\u001b[0m \u001b[0mencode_chunked\u001b[0m\u001b[1;33m=\u001b[0m\u001b[0mencode_chunked\u001b[0m\u001b[1;33m)\u001b[0m\u001b[1;33m\u001b[0m\u001b[1;33m\u001b[0m\u001b[0m\n\u001b[0m\u001b[0;32m   1225\u001b[0m \u001b[1;33m\u001b[0m\u001b[0m\n",
      "\u001b[1;32m~\\Anaconda3\\lib\\http\\client.py\u001b[0m in \u001b[0;36m_send_output\u001b[1;34m(self, message_body, encode_chunked)\u001b[0m\n\u001b[0;32m   1015\u001b[0m         \u001b[1;32mdel\u001b[0m \u001b[0mself\u001b[0m\u001b[1;33m.\u001b[0m\u001b[0m_buffer\u001b[0m\u001b[1;33m[\u001b[0m\u001b[1;33m:\u001b[0m\u001b[1;33m]\u001b[0m\u001b[1;33m\u001b[0m\u001b[1;33m\u001b[0m\u001b[0m\n\u001b[1;32m-> 1016\u001b[1;33m         \u001b[0mself\u001b[0m\u001b[1;33m.\u001b[0m\u001b[0msend\u001b[0m\u001b[1;33m(\u001b[0m\u001b[0mmsg\u001b[0m\u001b[1;33m)\u001b[0m\u001b[1;33m\u001b[0m\u001b[1;33m\u001b[0m\u001b[0m\n\u001b[0m\u001b[0;32m   1017\u001b[0m \u001b[1;33m\u001b[0m\u001b[0m\n",
      "\u001b[1;32m~\\Anaconda3\\lib\\http\\client.py\u001b[0m in \u001b[0;36msend\u001b[1;34m(self, data)\u001b[0m\n\u001b[0;32m    955\u001b[0m             \u001b[1;32mif\u001b[0m \u001b[0mself\u001b[0m\u001b[1;33m.\u001b[0m\u001b[0mauto_open\u001b[0m\u001b[1;33m:\u001b[0m\u001b[1;33m\u001b[0m\u001b[1;33m\u001b[0m\u001b[0m\n\u001b[1;32m--> 956\u001b[1;33m                 \u001b[0mself\u001b[0m\u001b[1;33m.\u001b[0m\u001b[0mconnect\u001b[0m\u001b[1;33m(\u001b[0m\u001b[1;33m)\u001b[0m\u001b[1;33m\u001b[0m\u001b[1;33m\u001b[0m\u001b[0m\n\u001b[0m\u001b[0;32m    957\u001b[0m             \u001b[1;32melse\u001b[0m\u001b[1;33m:\u001b[0m\u001b[1;33m\u001b[0m\u001b[1;33m\u001b[0m\u001b[0m\n",
      "\u001b[1;32m~\\Anaconda3\\lib\\site-packages\\urllib3\\connection.py\u001b[0m in \u001b[0;36mconnect\u001b[1;34m(self)\u001b[0m\n\u001b[0;32m    180\u001b[0m     \u001b[1;32mdef\u001b[0m \u001b[0mconnect\u001b[0m\u001b[1;33m(\u001b[0m\u001b[0mself\u001b[0m\u001b[1;33m)\u001b[0m\u001b[1;33m:\u001b[0m\u001b[1;33m\u001b[0m\u001b[1;33m\u001b[0m\u001b[0m\n\u001b[1;32m--> 181\u001b[1;33m         \u001b[0mconn\u001b[0m \u001b[1;33m=\u001b[0m \u001b[0mself\u001b[0m\u001b[1;33m.\u001b[0m\u001b[0m_new_conn\u001b[0m\u001b[1;33m(\u001b[0m\u001b[1;33m)\u001b[0m\u001b[1;33m\u001b[0m\u001b[1;33m\u001b[0m\u001b[0m\n\u001b[0m\u001b[0;32m    182\u001b[0m         \u001b[0mself\u001b[0m\u001b[1;33m.\u001b[0m\u001b[0m_prepare_conn\u001b[0m\u001b[1;33m(\u001b[0m\u001b[0mconn\u001b[0m\u001b[1;33m)\u001b[0m\u001b[1;33m\u001b[0m\u001b[1;33m\u001b[0m\u001b[0m\n",
      "\u001b[1;32m~\\Anaconda3\\lib\\site-packages\\urllib3\\connection.py\u001b[0m in \u001b[0;36m_new_conn\u001b[1;34m(self)\u001b[0m\n\u001b[0;32m    167\u001b[0m             raise NewConnectionError(\n\u001b[1;32m--> 168\u001b[1;33m                 self, \"Failed to establish a new connection: %s\" % e)\n\u001b[0m\u001b[0;32m    169\u001b[0m \u001b[1;33m\u001b[0m\u001b[0m\n",
      "\u001b[1;31mNewConnectionError\u001b[0m: <urllib3.connection.HTTPConnection object at 0x0000020634B4ADA0>: Failed to establish a new connection: [Errno 11001] getaddrinfo failed",
      "\nDuring handling of the above exception, another exception occurred:\n",
      "\u001b[1;31mMaxRetryError\u001b[0m                             Traceback (most recent call last)",
      "\u001b[1;32m~\\Anaconda3\\lib\\site-packages\\requests\\adapters.py\u001b[0m in \u001b[0;36msend\u001b[1;34m(self, request, stream, timeout, verify, cert, proxies)\u001b[0m\n\u001b[0;32m    448\u001b[0m                     \u001b[0mretries\u001b[0m\u001b[1;33m=\u001b[0m\u001b[0mself\u001b[0m\u001b[1;33m.\u001b[0m\u001b[0mmax_retries\u001b[0m\u001b[1;33m,\u001b[0m\u001b[1;33m\u001b[0m\u001b[1;33m\u001b[0m\u001b[0m\n\u001b[1;32m--> 449\u001b[1;33m                     \u001b[0mtimeout\u001b[0m\u001b[1;33m=\u001b[0m\u001b[0mtimeout\u001b[0m\u001b[1;33m\u001b[0m\u001b[1;33m\u001b[0m\u001b[0m\n\u001b[0m\u001b[0;32m    450\u001b[0m                 )\n",
      "\u001b[1;32m~\\Anaconda3\\lib\\site-packages\\urllib3\\connectionpool.py\u001b[0m in \u001b[0;36murlopen\u001b[1;34m(self, method, url, body, headers, retries, redirect, assert_same_host, timeout, pool_timeout, release_conn, chunked, body_pos, **response_kw)\u001b[0m\n\u001b[0;32m    637\u001b[0m             retries = retries.increment(method, url, error=e, _pool=self,\n\u001b[1;32m--> 638\u001b[1;33m                                         _stacktrace=sys.exc_info()[2])\n\u001b[0m\u001b[0;32m    639\u001b[0m             \u001b[0mretries\u001b[0m\u001b[1;33m.\u001b[0m\u001b[0msleep\u001b[0m\u001b[1;33m(\u001b[0m\u001b[1;33m)\u001b[0m\u001b[1;33m\u001b[0m\u001b[1;33m\u001b[0m\u001b[0m\n",
      "\u001b[1;32m~\\Anaconda3\\lib\\site-packages\\urllib3\\util\\retry.py\u001b[0m in \u001b[0;36mincrement\u001b[1;34m(self, method, url, response, error, _pool, _stacktrace)\u001b[0m\n\u001b[0;32m    397\u001b[0m         \u001b[1;32mif\u001b[0m \u001b[0mnew_retry\u001b[0m\u001b[1;33m.\u001b[0m\u001b[0mis_exhausted\u001b[0m\u001b[1;33m(\u001b[0m\u001b[1;33m)\u001b[0m\u001b[1;33m:\u001b[0m\u001b[1;33m\u001b[0m\u001b[1;33m\u001b[0m\u001b[0m\n\u001b[1;32m--> 398\u001b[1;33m             \u001b[1;32mraise\u001b[0m \u001b[0mMaxRetryError\u001b[0m\u001b[1;33m(\u001b[0m\u001b[0m_pool\u001b[0m\u001b[1;33m,\u001b[0m \u001b[0murl\u001b[0m\u001b[1;33m,\u001b[0m \u001b[0merror\u001b[0m \u001b[1;32mor\u001b[0m \u001b[0mResponseError\u001b[0m\u001b[1;33m(\u001b[0m\u001b[0mcause\u001b[0m\u001b[1;33m)\u001b[0m\u001b[1;33m)\u001b[0m\u001b[1;33m\u001b[0m\u001b[1;33m\u001b[0m\u001b[0m\n\u001b[0m\u001b[0;32m    399\u001b[0m \u001b[1;33m\u001b[0m\u001b[0m\n",
      "\u001b[1;31mMaxRetryError\u001b[0m: HTTPConnectionPool(host='www.example.com', port=80): Max retries exceeded with url: / (Caused by NewConnectionError('<urllib3.connection.HTTPConnection object at 0x0000020634B4ADA0>: Failed to establish a new connection: [Errno 11001] getaddrinfo failed'))",
      "\nDuring handling of the above exception, another exception occurred:\n",
      "\u001b[1;31mConnectionError\u001b[0m                           Traceback (most recent call last)",
      "\u001b[1;32m<ipython-input-19-5cf18fc52f42>\u001b[0m in \u001b[0;36m<module>\u001b[1;34m\u001b[0m\n\u001b[0;32m      1\u001b[0m \u001b[1;32mfrom\u001b[0m \u001b[0mbs4\u001b[0m \u001b[1;32mimport\u001b[0m \u001b[0mBeautifulSoup\u001b[0m\u001b[1;33m\u001b[0m\u001b[1;33m\u001b[0m\u001b[0m\n\u001b[0;32m      2\u001b[0m \u001b[1;32mimport\u001b[0m \u001b[0mrequests\u001b[0m\u001b[1;33m\u001b[0m\u001b[1;33m\u001b[0m\u001b[0m\n\u001b[1;32m----> 3\u001b[1;33m \u001b[0mhtml\u001b[0m\u001b[1;33m=\u001b[0m\u001b[0mrequests\u001b[0m\u001b[1;33m.\u001b[0m\u001b[0mget\u001b[0m\u001b[1;33m(\u001b[0m\u001b[1;34m\"http://www.example.com\"\u001b[0m\u001b[1;33m)\u001b[0m\u001b[1;33m.\u001b[0m\u001b[0mtext\u001b[0m\u001b[1;33m\u001b[0m\u001b[1;33m\u001b[0m\u001b[0m\n\u001b[0m\u001b[0;32m      4\u001b[0m \u001b[0msoup\u001b[0m \u001b[1;33m=\u001b[0m \u001b[0mBeautifulSoup\u001b[0m\u001b[1;33m(\u001b[0m\u001b[0mhtml\u001b[0m\u001b[1;33m,\u001b[0m      \u001b[1;34m'html5lib'\u001b[0m\u001b[1;33m)\u001b[0m\u001b[1;33m\u001b[0m\u001b[1;33m\u001b[0m\u001b[0m\n\u001b[0;32m      5\u001b[0m \u001b[0mfirst_paragraph\u001b[0m \u001b[1;33m=\u001b[0m \u001b[0msoup\u001b[0m\u001b[1;33m.\u001b[0m\u001b[0mfind\u001b[0m\u001b[1;33m(\u001b[0m\u001b[1;34m'p'\u001b[0m\u001b[1;33m)\u001b[0m\u001b[1;33m\u001b[0m\u001b[1;33m\u001b[0m\u001b[0m\n",
      "\u001b[1;32m~\\Anaconda3\\lib\\site-packages\\requests\\api.py\u001b[0m in \u001b[0;36mget\u001b[1;34m(url, params, **kwargs)\u001b[0m\n\u001b[0;32m     73\u001b[0m \u001b[1;33m\u001b[0m\u001b[0m\n\u001b[0;32m     74\u001b[0m     \u001b[0mkwargs\u001b[0m\u001b[1;33m.\u001b[0m\u001b[0msetdefault\u001b[0m\u001b[1;33m(\u001b[0m\u001b[1;34m'allow_redirects'\u001b[0m\u001b[1;33m,\u001b[0m \u001b[1;32mTrue\u001b[0m\u001b[1;33m)\u001b[0m\u001b[1;33m\u001b[0m\u001b[1;33m\u001b[0m\u001b[0m\n\u001b[1;32m---> 75\u001b[1;33m     \u001b[1;32mreturn\u001b[0m \u001b[0mrequest\u001b[0m\u001b[1;33m(\u001b[0m\u001b[1;34m'get'\u001b[0m\u001b[1;33m,\u001b[0m \u001b[0murl\u001b[0m\u001b[1;33m,\u001b[0m \u001b[0mparams\u001b[0m\u001b[1;33m=\u001b[0m\u001b[0mparams\u001b[0m\u001b[1;33m,\u001b[0m \u001b[1;33m**\u001b[0m\u001b[0mkwargs\u001b[0m\u001b[1;33m)\u001b[0m\u001b[1;33m\u001b[0m\u001b[1;33m\u001b[0m\u001b[0m\n\u001b[0m\u001b[0;32m     76\u001b[0m \u001b[1;33m\u001b[0m\u001b[0m\n\u001b[0;32m     77\u001b[0m \u001b[1;33m\u001b[0m\u001b[0m\n",
      "\u001b[1;32m~\\Anaconda3\\lib\\site-packages\\requests\\api.py\u001b[0m in \u001b[0;36mrequest\u001b[1;34m(method, url, **kwargs)\u001b[0m\n\u001b[0;32m     58\u001b[0m     \u001b[1;31m# cases, and look like a memory leak in others.\u001b[0m\u001b[1;33m\u001b[0m\u001b[1;33m\u001b[0m\u001b[1;33m\u001b[0m\u001b[0m\n\u001b[0;32m     59\u001b[0m     \u001b[1;32mwith\u001b[0m \u001b[0msessions\u001b[0m\u001b[1;33m.\u001b[0m\u001b[0mSession\u001b[0m\u001b[1;33m(\u001b[0m\u001b[1;33m)\u001b[0m \u001b[1;32mas\u001b[0m \u001b[0msession\u001b[0m\u001b[1;33m:\u001b[0m\u001b[1;33m\u001b[0m\u001b[1;33m\u001b[0m\u001b[0m\n\u001b[1;32m---> 60\u001b[1;33m         \u001b[1;32mreturn\u001b[0m \u001b[0msession\u001b[0m\u001b[1;33m.\u001b[0m\u001b[0mrequest\u001b[0m\u001b[1;33m(\u001b[0m\u001b[0mmethod\u001b[0m\u001b[1;33m=\u001b[0m\u001b[0mmethod\u001b[0m\u001b[1;33m,\u001b[0m \u001b[0murl\u001b[0m\u001b[1;33m=\u001b[0m\u001b[0murl\u001b[0m\u001b[1;33m,\u001b[0m \u001b[1;33m**\u001b[0m\u001b[0mkwargs\u001b[0m\u001b[1;33m)\u001b[0m\u001b[1;33m\u001b[0m\u001b[1;33m\u001b[0m\u001b[0m\n\u001b[0m\u001b[0;32m     61\u001b[0m \u001b[1;33m\u001b[0m\u001b[0m\n\u001b[0;32m     62\u001b[0m \u001b[1;33m\u001b[0m\u001b[0m\n",
      "\u001b[1;32m~\\Anaconda3\\lib\\site-packages\\requests\\sessions.py\u001b[0m in \u001b[0;36mrequest\u001b[1;34m(self, method, url, params, data, headers, cookies, files, auth, timeout, allow_redirects, proxies, hooks, stream, verify, cert, json)\u001b[0m\n\u001b[0;32m    531\u001b[0m         }\n\u001b[0;32m    532\u001b[0m         \u001b[0msend_kwargs\u001b[0m\u001b[1;33m.\u001b[0m\u001b[0mupdate\u001b[0m\u001b[1;33m(\u001b[0m\u001b[0msettings\u001b[0m\u001b[1;33m)\u001b[0m\u001b[1;33m\u001b[0m\u001b[1;33m\u001b[0m\u001b[0m\n\u001b[1;32m--> 533\u001b[1;33m         \u001b[0mresp\u001b[0m \u001b[1;33m=\u001b[0m \u001b[0mself\u001b[0m\u001b[1;33m.\u001b[0m\u001b[0msend\u001b[0m\u001b[1;33m(\u001b[0m\u001b[0mprep\u001b[0m\u001b[1;33m,\u001b[0m \u001b[1;33m**\u001b[0m\u001b[0msend_kwargs\u001b[0m\u001b[1;33m)\u001b[0m\u001b[1;33m\u001b[0m\u001b[1;33m\u001b[0m\u001b[0m\n\u001b[0m\u001b[0;32m    534\u001b[0m \u001b[1;33m\u001b[0m\u001b[0m\n\u001b[0;32m    535\u001b[0m         \u001b[1;32mreturn\u001b[0m \u001b[0mresp\u001b[0m\u001b[1;33m\u001b[0m\u001b[1;33m\u001b[0m\u001b[0m\n",
      "\u001b[1;32m~\\Anaconda3\\lib\\site-packages\\requests\\sessions.py\u001b[0m in \u001b[0;36msend\u001b[1;34m(self, request, **kwargs)\u001b[0m\n\u001b[0;32m    644\u001b[0m \u001b[1;33m\u001b[0m\u001b[0m\n\u001b[0;32m    645\u001b[0m         \u001b[1;31m# Send the request\u001b[0m\u001b[1;33m\u001b[0m\u001b[1;33m\u001b[0m\u001b[1;33m\u001b[0m\u001b[0m\n\u001b[1;32m--> 646\u001b[1;33m         \u001b[0mr\u001b[0m \u001b[1;33m=\u001b[0m \u001b[0madapter\u001b[0m\u001b[1;33m.\u001b[0m\u001b[0msend\u001b[0m\u001b[1;33m(\u001b[0m\u001b[0mrequest\u001b[0m\u001b[1;33m,\u001b[0m \u001b[1;33m**\u001b[0m\u001b[0mkwargs\u001b[0m\u001b[1;33m)\u001b[0m\u001b[1;33m\u001b[0m\u001b[1;33m\u001b[0m\u001b[0m\n\u001b[0m\u001b[0;32m    647\u001b[0m \u001b[1;33m\u001b[0m\u001b[0m\n\u001b[0;32m    648\u001b[0m         \u001b[1;31m# Total elapsed time of the request (approximately)\u001b[0m\u001b[1;33m\u001b[0m\u001b[1;33m\u001b[0m\u001b[1;33m\u001b[0m\u001b[0m\n",
      "\u001b[1;32m~\\Anaconda3\\lib\\site-packages\\requests\\adapters.py\u001b[0m in \u001b[0;36msend\u001b[1;34m(self, request, stream, timeout, verify, cert, proxies)\u001b[0m\n\u001b[0;32m    514\u001b[0m                 \u001b[1;32mraise\u001b[0m \u001b[0mSSLError\u001b[0m\u001b[1;33m(\u001b[0m\u001b[0me\u001b[0m\u001b[1;33m,\u001b[0m \u001b[0mrequest\u001b[0m\u001b[1;33m=\u001b[0m\u001b[0mrequest\u001b[0m\u001b[1;33m)\u001b[0m\u001b[1;33m\u001b[0m\u001b[1;33m\u001b[0m\u001b[0m\n\u001b[0;32m    515\u001b[0m \u001b[1;33m\u001b[0m\u001b[0m\n\u001b[1;32m--> 516\u001b[1;33m             \u001b[1;32mraise\u001b[0m \u001b[0mConnectionError\u001b[0m\u001b[1;33m(\u001b[0m\u001b[0me\u001b[0m\u001b[1;33m,\u001b[0m \u001b[0mrequest\u001b[0m\u001b[1;33m=\u001b[0m\u001b[0mrequest\u001b[0m\u001b[1;33m)\u001b[0m\u001b[1;33m\u001b[0m\u001b[1;33m\u001b[0m\u001b[0m\n\u001b[0m\u001b[0;32m    517\u001b[0m \u001b[1;33m\u001b[0m\u001b[0m\n\u001b[0;32m    518\u001b[0m         \u001b[1;32mexcept\u001b[0m \u001b[0mClosedPoolError\u001b[0m \u001b[1;32mas\u001b[0m \u001b[0me\u001b[0m\u001b[1;33m:\u001b[0m\u001b[1;33m\u001b[0m\u001b[1;33m\u001b[0m\u001b[0m\n",
      "\u001b[1;31mConnectionError\u001b[0m: HTTPConnectionPool(host='www.example.com', port=80): Max retries exceeded with url: / (Caused by NewConnectionError('<urllib3.connection.HTTPConnection object at 0x0000020634B4ADA0>: Failed to establish a new connection: [Errno 11001] getaddrinfo failed'))"
     ]
    }
   ],
   "source": [
    "from bs4 import BeautifulSoup \n",
    "import requests\n",
    "html=requests.get(\"http://www.example.com\").text\n",
    "soup = BeautifulSoup(html,\t'html5lib')\n",
    "first_paragraph = soup.find('p')\n",
    "first_paragraph_text = soup.p.text\n",
    "first_paragraph_words = soup.p.text.split()\n",
    "first_paragraph_id2 = soup.p.get('id') # returns None if no 'id'\n",
    "important_paragraphs = soup('p', {'class' : 'important'})\n",
    "important_paragraphs2 = soup('p', 'important')\n",
    "important_paragraphs3 = [p for p in soup('p')\n",
    "if 'important' in p.get('class', [])]\n",
    "print(first_paragraph)\n",
    "print(first_paragraph_text)\n",
    "print(first_paragraph_words)\n",
    "print(first_paragraph_id2)\n",
    "print(important_paragraphs)\n",
    "print(important_paragraphs2)\n",
    "print(important_paragraphs3)"
   ]
  },
  {
   "cell_type": "code",
   "execution_count": 20,
   "metadata": {},
   "outputs": [
    {
     "name": "stdout",
     "output_type": "stream",
     "text": [
      "{'title': 'Data Science Book', 'author': 'Joel Grus', 'publicationYear': 2014, 'topics': ['data', 'science', 'data science']}\n"
     ]
    }
   ],
   "source": [
    "import json\n",
    "serialized = \"\"\"{ \"title\" : \"Data Science Book\", \n",
    "                  \"author\" : \"Joel Grus\", \n",
    "                  \"publicationYear\" : 2014, \n",
    "                  \"topics\" : [ \"data\", \"science\", \"data science\"] }\"\"\"\n",
    "\n",
    "deserialized = json.loads(serialized) \n",
    "if \"data science\" in deserialized[\"topics\"]: \n",
    "    print(deserialized)"
   ]
  },
  {
   "cell_type": "code",
   "execution_count": 42,
   "metadata": {},
   "outputs": [
    {
     "ename": "SyntaxError",
     "evalue": "invalid syntax (<ipython-input-42-0b422bfd06b7>, line 4)",
     "output_type": "error",
     "traceback": [
      "\u001b[1;36m  File \u001b[1;32m\"<ipython-input-42-0b422bfd06b7>\"\u001b[1;36m, line \u001b[1;32m4\u001b[0m\n\u001b[1;33m    reposdef book_info(td):\u001b[0m\n\u001b[1;37m                     ^\u001b[0m\n\u001b[1;31mSyntaxError\u001b[0m\u001b[1;31m:\u001b[0m invalid syntax\n"
     ]
    }
   ],
   "source": [
    "import requests , json \n",
    "endpoint = \"https://api.github.com/users/joelgrus/repos\" \n",
    "repos = json.loads(requests.get(endpoint).text)\n",
    "reposdef book_info(td):\n",
    "    \"\"\"given a BeautifulSoup <td> Tag representing a book,\n",
    "    extract the book's details and return a dict\"\"\"\n",
    "    title = td.find(\"div\", \"thumbheader\").a.text\n",
    "    by_author = td.find('div', 'AuthorName').text\n",
    "    authors = [x.strip() for x in re.sub(\"^By \", \"\", by_author).split(\",\")]\n",
    "    isbn_link = td.find(\"div\", \"thumbheader\").a.get(\"href\")\n",
    "    isbn = re.match(\"/product/(.*)\\.do\", isbn_link).groups()[0]\n",
    "    date = td.find(\"span\", \"directorydate\").text.strip()\n",
    "    return {\n",
    "           \"title\" : title,\n",
    "           \"authors\" : authors,\n",
    "           \"isbn\" : isbn,\n",
    "           \"date\" : date\n",
    "                 }"
   ]
  },
  {
   "cell_type": "code",
   "execution_count": 47,
   "metadata": {},
   "outputs": [],
   "source": [
    "def book_info(td):\n",
    "    \"\"\"given a BeautifulSoup <td> Tag representing a book,\n",
    "    extract the book's details and return a dict\"\"\"\n",
    "    title = td.find(\"div\", \"thumbheader\").a.text\n",
    "    by_author = td.find('div', 'AuthorName').text\n",
    "    authors = [x.strip() for x in re.sub(\"^By \", \"\", by_author).split(\",\")]\n",
    "    isbn_link = td.find(\"div\", \"thumbheader\").a.get(\"href\")\n",
    "    isbn = re.match(\"/product/(.*)\\.do\", isbn_link).groups()[0]\n",
    "    date = td.find(\"span\", \"directorydate\").text.strip()\n",
    "    return {\n",
    "           \"title\" : title,\n",
    "           \"authors\" : authors,\n",
    "           \"isbn\" : isbn,\n",
    "           \"date\" : date\n",
    "                 }"
   ]
  },
  {
   "cell_type": "code",
   "execution_count": 51,
   "metadata": {},
   "outputs": [],
   "source": [
    "import requests , json \n",
    "endpoint = \"https://api.github.com/users/joelgrus/repos\" \n",
    "repos = json.loads(requests.get(endpoint).text)\n",
    "def book_info(td):\n",
    "    \"\"\"given a BeautifulSoup <td> Tag representing a book,\n",
    "    extract the book's details and return a dict\"\"\"\n",
    "    title = td.find(\"div\", \"thumbheader\").a.text\n",
    "    by_author = td.find('div', 'AuthorName').text\n",
    "    authors = [x.strip() for x in re.sub(\"^By \", \"\", by_author).split(\",\")]\n",
    "    isbn_link = td.find(\"div\", \"thumbheader\").a.get(\"href\")\n",
    "    isbn = re.match(\"/product/(.*)\\.do\", isbn_link).groups()[0]\n",
    "    date = td.find(\"span\", \"directorydate\").text.strip()\n",
    "    return {\n",
    "           \"title\" : title,\n",
    "           \"authors\" : authors,\n",
    "           \"isbn\" : isbn,\n",
    "           \"date\" : date\n",
    "                 }"
   ]
  },
  {
   "cell_type": "code",
   "execution_count": 52,
   "metadata": {},
   "outputs": [
    {
     "name": "stdout",
     "output_type": "stream",
     "text": [
      "souping page 1 , 0  found so far\n",
      "souping page 2 , 0  found so far\n",
      "souping page 3 , 0  found so far\n",
      "souping page 4 , 0  found so far\n",
      "souping page 5 , 0  found so far\n",
      "souping page 6 , 0  found so far\n",
      "souping page 7 , 0  found so far\n",
      "souping page 8 , 0  found so far\n",
      "souping page 9 , 0  found so far\n",
      "souping page 10 , 0  found so far\n",
      "souping page 11 , 0  found so far\n",
      "souping page 12 , 0  found so far\n",
      "souping page 13 , 0  found so far\n",
      "souping page 14 , 0  found so far\n",
      "souping page 15 , 0  found so far\n",
      "souping page 16 , 0  found so far\n",
      "souping page 17 , 0  found so far\n",
      "souping page 18 , 0  found so far\n",
      "souping page 19 , 0  found so far\n",
      "souping page 20 , 0  found so far\n",
      "souping page 21 , 0  found so far\n",
      "souping page 22 , 0  found so far\n",
      "souping page 23 , 0  found so far\n",
      "souping page 24 , 0  found so far\n",
      "souping page 25 , 0  found so far\n",
      "souping page 26 , 0  found so far\n",
      "souping page 27 , 0  found so far\n",
      "souping page 28 , 0  found so far\n",
      "souping page 29 , 0  found so far\n",
      "souping page 30 , 0  found so far\n",
      "souping page 31 , 0  found so far\n"
     ]
    }
   ],
   "source": [
    "from bs4 import BeautifulSoup\n",
    "import requests\n",
    "from time import sleep\n",
    "base_url = \"http://shop.oreilly.com/category/browse-subjects/\" + \\\n",
    "\"data.do?sortby=publicationDate&page=\"\n",
    "books = []\n",
    "NUM_PAGES = 31 # at the time of writing, probably more by now\n",
    "for page_num in range(1, NUM_PAGES + 1):\n",
    "    print(\"souping page\", page_num, \",\", len(books), \" found so far\")\n",
    "    url = base_url + str(page_num)\n",
    "    soup = BeautifulSoup(requests.get(url).text, 'html5lib')\n",
    "    \n",
    "    for td in soup('td', 'thumbtext'):\n",
    "        if not is_video(td):\n",
    "            books.append(book_info(td))\n",
    "# now be a good citizen and respect the robots.txt!\n",
    "sleep(30)"
   ]
  },
  {
   "cell_type": "code",
   "execution_count": 53,
   "metadata": {},
   "outputs": [
    {
     "name": "stdout",
     "output_type": "stream",
     "text": [
      "Collecting requests_html\n",
      "  Downloading https://files.pythonhosted.org/packages/d6/bb/54d8db5ac95f34b035b68747d765aadcbbd78687b029b41b39d2a3728f35/requests_html-0.9.0-py2.py3-none-any.whl\n",
      "Requirement already satisfied: requests in c:\\users\\reddy\\anaconda3\\lib\\site-packages (from requests_html) (2.21.0)\n",
      "Collecting bs4 (from requests_html)\n",
      "  Downloading https://files.pythonhosted.org/packages/10/ed/7e8b97591f6f456174139ec089c769f89a94a1a4025fe967691de971f314/bs4-0.0.1.tar.gz\n",
      "Collecting parse (from requests_html)\n",
      "  Downloading https://files.pythonhosted.org/packages/60/1c/065a39ceaf2f2e1ed74130bda8c87b71e01a2315d78ab612af86c0914abb/parse-1.11.1.tar.gz\n",
      "Collecting w3lib (from requests_html)\n",
      "  Downloading https://files.pythonhosted.org/packages/81/43/9dcf92a77f5f0afe4f4df2407d7289eea01368a08b64bda00dd318ca62a6/w3lib-1.20.0-py2.py3-none-any.whl\n",
      "Collecting pyppeteer>=0.0.14 (from requests_html)\n",
      "  Downloading https://files.pythonhosted.org/packages/b0/16/a5e8d617994cac605f972523bb25f12e3ff9c30baee29b4a9c50467229d9/pyppeteer-0.0.25.tar.gz (1.2MB)\n",
      "Collecting pyquery (from requests_html)\n",
      "  Downloading https://files.pythonhosted.org/packages/09/c7/ce8c9c37ab8ff8337faad3335c088d60bed4a35a4bed33a64f0e64fbcf29/pyquery-1.4.0-py2.py3-none-any.whl\n",
      "Collecting fake-useragent (from requests_html)\n",
      "  Downloading https://files.pythonhosted.org/packages/d1/79/af647635d6968e2deb57a208d309f6069d31cb138066d7e821e575112a80/fake-useragent-0.1.11.tar.gz\n",
      "Requirement already satisfied: idna<2.9,>=2.5 in c:\\users\\reddy\\anaconda3\\lib\\site-packages (from requests->requests_html) (2.8)\n",
      "Requirement already satisfied: chardet<3.1.0,>=3.0.2 in c:\\users\\reddy\\anaconda3\\lib\\site-packages (from requests->requests_html) (3.0.4)\n",
      "Requirement already satisfied: urllib3<1.25,>=1.21.1 in c:\\users\\reddy\\anaconda3\\lib\\site-packages (from requests->requests_html) (1.24.1)\n",
      "Requirement already satisfied: certifi>=2017.4.17 in c:\\users\\reddy\\anaconda3\\lib\\site-packages (from requests->requests_html) (2018.11.29)\n",
      "Requirement already satisfied: beautifulsoup4 in c:\\users\\reddy\\anaconda3\\lib\\site-packages (from bs4->requests_html) (4.6.3)\n",
      "Requirement already satisfied: six>=1.4.1 in c:\\users\\reddy\\anaconda3\\lib\\site-packages (from w3lib->requests_html) (1.12.0)\n",
      "Collecting pyee (from pyppeteer>=0.0.14->requests_html)\n",
      "  Downloading https://files.pythonhosted.org/packages/8e/06/10c18578e2d8b9cf9902f424f86d433c647ca55e82293100f53e6c0afab4/pyee-5.0.0-py2.py3-none-any.whl\n",
      "Collecting websockets (from pyppeteer>=0.0.14->requests_html)\n",
      "  Downloading https://files.pythonhosted.org/packages/8a/7d/7f3a5af575187443e2b6d12611778f73413df2286a71af1a8b012ece1f92/websockets-7.0-cp37-cp37m-win_amd64.whl (58kB)\n",
      "Collecting appdirs (from pyppeteer>=0.0.14->requests_html)\n",
      "  Downloading https://files.pythonhosted.org/packages/56/eb/810e700ed1349edde4cbdc1b2a21e28cdf115f9faf263f6bbf8447c1abf3/appdirs-1.4.3-py2.py3-none-any.whl\n",
      "Requirement already satisfied: tqdm in c:\\users\\reddy\\anaconda3\\lib\\site-packages (from pyppeteer>=0.0.14->requests_html) (4.28.1)\n",
      "Collecting cssselect>0.7.9 (from pyquery->requests_html)\n",
      "  Downloading https://files.pythonhosted.org/packages/7b/44/25b7283e50585f0b4156960691d951b05d061abf4a714078393e51929b30/cssselect-1.0.3-py2.py3-none-any.whl\n",
      "Requirement already satisfied: lxml>=2.1 in c:\\users\\reddy\\anaconda3\\lib\\site-packages (from pyquery->requests_html) (4.2.5)\n",
      "Building wheels for collected packages: bs4, parse, pyppeteer, fake-useragent\n",
      "  Running setup.py bdist_wheel for bs4: started\n",
      "  Running setup.py bdist_wheel for bs4: finished with status 'done'\n",
      "  Stored in directory: C:\\Users\\reddy\\AppData\\Local\\pip\\Cache\\wheels\\a0\\b0\\b2\\4f80b9456b87abedbc0bf2d52235414c3467d8889be38dd472\n",
      "  Running setup.py bdist_wheel for parse: started\n",
      "  Running setup.py bdist_wheel for parse: finished with status 'done'\n",
      "  Stored in directory: C:\\Users\\reddy\\AppData\\Local\\pip\\Cache\\wheels\\11\\ef\\7a\\b4e5692572b93ce67bb9d0680bc8e840ff9a21fab73a3bff56\n",
      "  Running setup.py bdist_wheel for pyppeteer: started\n",
      "  Running setup.py bdist_wheel for pyppeteer: finished with status 'done'\n",
      "  Stored in directory: C:\\Users\\reddy\\AppData\\Local\\pip\\Cache\\wheels\\34\\e0\\5d\\070e22eceecf7ecd5fa4b86bbc18c1c7d0b90e02e9b57f35eb\n",
      "  Running setup.py bdist_wheel for fake-useragent: started\n",
      "  Running setup.py bdist_wheel for fake-useragent: finished with status 'done'\n",
      "  Stored in directory: C:\\Users\\reddy\\AppData\\Local\\pip\\Cache\\wheels\\5e\\63\\09\\d1dc15179f175357d3f5c00cbffbac37f9e8690d80545143ff\n",
      "Successfully built bs4 parse pyppeteer fake-useragent\n",
      "Installing collected packages: bs4, parse, w3lib, pyee, websockets, appdirs, pyppeteer, cssselect, pyquery, fake-useragent, requests-html\n",
      "Successfully installed appdirs-1.4.3 bs4-0.0.1 cssselect-1.0.3 fake-useragent-0.1.11 parse-1.11.1 pyee-5.0.0 pyppeteer-0.0.25 pyquery-1.4.0 requests-html-0.9.0 w3lib-1.20.0 websockets-7.0\n"
     ]
    }
   ],
   "source": [
    "!pip install requests_html"
   ]
  },
  {
   "cell_type": "code",
   "execution_count": 54,
   "metadata": {},
   "outputs": [
    {
     "name": "stdout",
     "output_type": "stream",
     "text": [
      "b'<!doctype html>\\n<!--[if lt IE 7]> <html class=\"no-js lt-ie10 lt-ie9 lt-ie8 lt-ie7\" lang=\"en-US\" xmlns:fb=\"http://www.facebook.com/2008/fbml\" xmlns:og=\"http://ogp.me/ns#\"> <![endif]-->\\n<!--[if IE 7]>    <html class=\"no-js lt-ie10 lt-ie9 lt-ie8\" lang=\"en-US\" xmlns:fb=\"http://www.facebook.com/2008/fbml\" xmlns:og=\"http://ogp.me/ns#\"> <![endif]-->\\n<!--[if IE 8]>    <html class=\"no-js lt-ie10 lt-ie9\" lang=\"en-US\" xmlns:fb=\"http://www.facebook.com/2008/fbml\" xmlns:og=\"http://ogp.me/ns#\"> <![endif]-->\\n<!--[if IE 9]>    <html class=\"no-js lt-ie10\" lang=\"en-US\" xmlns:fb=\"http://www.facebook.com/2008/fbml\" xmlns:og=\"http://ogp.me/ns#\"> <![endif]-->\\n\\n<!--[if gt IE 9]><!--> <html class=\"no-js\" lang=\"en-US\" dir=\"ltr\" prefix=\"fb: http://www.facebook.com/2008/fbml og: http://ogp.me/ns#\"> <!--<![endif]-->\\n\\n\\t<head>\\n\\t\\t\\n\\t\\t\\t\\n\\t\\t\\n\\t\\t\\n\\t\\t\\t<meta http-equiv=\"Content-Type\" content=\"text/html; charset=utf-8\" />\\n\\t\\t\\t<meta http-equiv=\"X-UA-Compatible\" content=\"IE=edge,chrome=1\" />\\n\\t\\t\\t<meta property=\"fb:admins\" content=\"100000302287435\" />\\n\\t\\t\\t<meta name=\"viewport\" content=\"width=device-width,initial-scale=1\">\\n\\n\\t\\t\\t<link rel=\"stylesheet\" href=\"https://static.advance.net/static/cleve/static/css/oap.css\" />\\n\\t\\t\\n\\n\\t\\t\\n\\t\\t\\t\\n\\t\\t\\n\\n\\t\\t\\n\\t\\t<meta http-equiv=\"X-UA-Compatible\" content=\"IE=edge,chrome=1\">\\n\\n\\n  \\n\\n\\n\\n\\n\\n\\n<title>\\tCase Western Reserve University President Barbara Snyder\\'s base salary and bonus pay tops among private colleges in Ohio  | \\t\\t\\t\\t\\t\\tcleveland.com</title>\\n\\n\\n\\t\\n\\t\\n\\n\\t\\n\\n\\t\\n\\t\\n\\t\\t\\t\\t\\t\\t\\t\\t\\t\\t\\t\\t\\t\\t\\t\\t\\t\\t\\t\\t\\t\\t\\t\\t\\t\\t\\t\\t\\t\\t\\n\\t\\n\\n\\t\\n\\t\\t\\t\\t\\t\\t\\t\\t\\t\\t\\t\\t\\t\\t\\t\\t\\t\\t\\t\\t\\t\\t\\t\\t\\t\\t\\t\\t\\t\\t\\n\\n\\t\\n\\t\\t\\n\\t\\n\\t\\n\\t\\n\\n\\t\\n\\t<!--\\n\\t<PageMap>\\n\\t\\t<DataObject type=\"document\">\\n\\t\\t\\t<Attribute name=\"article_title\">Case Western Reserve University President Barbara Snyder\\'s base salary and bonus pay tops among private colleges in Ohio </Attribute>\\n\\t\\t\\t<Attribute name=\"article_publication_name\">cleveland.com</Attribute>\\n\\t\\t\\t<Attribute name=\"article_author\">Karen Farkas, cleveland.com</Attribute>\\n\\t\\t\\t<Attribute name=\"article_description\">Case Western Reserve University President Barbara Snyder\\'s $700,312 base pay and $175,000 bonus in 2015 again made her the highest paid  private college leader in Ohio, according to an annual report.</Attribute>\\n\\t\\t\\t<Attribute name=\"image_src\">https://image.cleveland.com/home/cleve-media/width620/img/plain_dealer_metro/photo/23873711-standard.jpg</Attribute>\\n\\t\\t\\t<Attribute name=\"article_comments\">0</Attribute>\\n\\t\\t\\t<Attribute name=\"article_date_original\">12/10/2017</Attribute>\\n\\t\\t\\t<Attribute name=\"article_date_updated\">12/11/2017</Attribute>\\n\\t\\t</DataObject>\\n\\t</PageMap>\\n\\t-->\\n\\n\\t\\n\\t\\t\\n\\t\\t\\n\\t\\t\\n\\t\\t<script type=\"application/ld+json\">\\n\\t\\t\\t{\\n\\t\\t\\t\\t\"@context\": \"http://schema.org\",\\n\\t\\t\\t\\t\"@type\": \"NewsArticle\",\\n\\t\\t\\t\\t\"mainEntityOfPage\": {\\n\\t\\t\\t\\t\\t\"@type\": \"WebPage\",\\n\\t\\t\\t\\t\\t\"@id\": \"https://www.cleveland.com/metro/index.ssf/2017/12/case_western_reserve_university_president_barbara_snyders_base_salary_and_bonus_pay_tops_among_private_colleges_in_ohio.html\"\\n\\t\\t\\t\\t},\\n\\t\\t\\t\\t\"headline\": \"Case Western Reserve University President Barbara Snyder\\'s base salary and bonus pay tops among private colleges in Ohio \",\\n\\t\\t\\t\\t\"url\": \"https://www.cleveland.com/metro/index.ssf/2017/12/case_western_reserve_university_president_barbara_snyders_base_salary_and_bonus_pay_tops_among_private_colleges_in_ohio.html\",\\n\\t\\t\\t\\t\"thumbnailUrl\": \"https://image.cleveland.com/home/cleve-media/width620/img/plain_dealer_metro/photo/23873711-standard.jpg\",\\n\\t\\t\\t\\t\"image\": \"https://image.cleveland.com/home/cleve-media/width620/img/plain_dealer_metro/photo/23873711-standard.jpg\",\\n\\t\\t\\t\\t\"dateCreated\": \"2017-12-10T22:00:34Z\",\\n\\t\\t\\t\\t\"datePublished\": \"2017-12-10T22:00:34Z\",\\n\\t\\t\\t\\t\"dateModified\": \"2017-12-12T01:42:32Z\",\\n\\t\\t\\t\\t\"publisher\": {\\n\\t\\t\\t\\t\\t\"@type\": \"Organization\",\\n\\t\\t\\t\\t\\t\"name\": \"cleveland.com\",\\n\\t\\t\\t\\t\\t\"logo\": {\\n\\t\\t\\t\\t\\t\\t\"@type\": \"ImageObject\",\\n\\t\\t\\t\\t\\t\\t\"url\": \"http://static.advance.net/static/cleve/static/img/logos/logo_main.png\"\\n\\t\\t\\t\\t\\t}\\n\\t\\t\\t\\t},\\n\\t\\t\\t\\t\"creator\": [\"Karen Farkas, cleveland.com\"],\\n\\t\\t\\t\\t\"author\": {\\n\\t\\t\\t\\t\\t\"@type\": \"Person\",\\n\\t\\t\\t\\t\\t\"name\": \"Karen Farkas, cleveland.com\"\\n\\t\\t\\t\\t},\\n\\t\\t\\t\\t\"keywords\": [\"@fbia\",\"@real-time-news\",\"baldwin-wallace-university\",\"barbara-snyder\",\"case-western-reserve-university\",\"john-carroll-university\",\"oberlin-college\"],\\n\\t\\t\\t\\t\"metadata\": {\"blog_id\": \"8002316\", \"entry_id\": \"21622286\", \"short_title\": \"CWRU president\\'s salary and bonus tops for private colleges\", \"image_url\": \"http://media.cleveland.com/plain_dealer_metro/photo/cwrus-snyder-tops-pay-scale-highest-paid-of-ohio-private-college-chiefs-at-over-1m-yearly-581ba32ba99d75e9.jpg\", \"author_name\": \"kfarkas\", \"author_nickname\": \"Karen Farkas, cleveland.com\", \"author_id\": \"3290\", \"source_blog_name\": \"Metro News\", \"source_blog_url\": \"http://www.cleveland.com/metro/index.ssf/\", \"sponsored_content\": \"0\", \"ampurl\": \"https://articles.cleveland.com/metro/index.ssf/2017/12/case_western_reserve_university_president_barbara_snyders_base_salary_and_bonus_pay_tops_among_private_colleges_in_ohio.amp\" },\\n\\t\\t\\t\\t\"articleSection\": \"News\"\\n\\t\\t\\t}\\n\\t\\t</script>\\n\\t\\n\\n\\t\\n\\n\\t\\n\\t<meta name=\"vf:owner\" content=\"cookie:3290\" />\\n\\t<meta property=\"vf:unique_id\" content=\"273e236291b18c0720f9b1b13da4b999\" />\\n\\t<meta property=\"vf:section\" content=\"www\" />\\n\\n\\t\\n\\t\\n\\n\\t\\n\\t\\n\\n\\t\\n\\t\\t\\n\\t\\n\\t\\n\\t\\n\\t\\t\\n\\t\\n\\n\\t\\n\\t<meta property=\"fb:app_id\" content=\"125188170846713\"/>\\n\\t<meta name=\"title\" content=\"Case Western Reserve University President Barbara Snyder\\'s base salary and bonus pay tops among private colleges in Ohio \" />\\n\\t<meta name=\"article_publication_name\" content=\"cleveland.com\" />\\n\\t<meta name=\"article_author\" content=\"Karen Farkas, cleveland.com\" />\\n\\t<meta name=\"article_date_original\" content=\"Sunday, December 10, 2017,  6:00 PM\" />\\n\\t<meta name=\"article_date_updated\" content=\"Monday, December 11, 2017,  9:42 PM\" />\\n\\t<link rel=\"image_src\" href=\"https://image.cleveland.com/home/cleve-media/width620/img/plain_dealer_metro/photo/23873711-standard.jpg\" />\\n\\t\\n\\t<meta name=\"news_keywords\" content=\"president, Ohio, University of Mount Union, Case Western Reserve University, The Chronicle, baldwin-wallace-university, barbara-snyder, case-western-reserve-university, john-carroll-university, oberlin-college, news\">\\n\\t\\n\\t\\t<meta property=\"article:author\" content=\"https://www.facebook.com/clevelandcom/\" />\\n\\t\\n\\t<meta property=\"article:modified_time\" content=\"2017-12-12T01:42:32Z\" />\\n\\n\\t\\n\\t\\n\\n\\t\\n\\t\\n\\t\\t\\n\\t\\n\\n\\t\\n\\t\\n\\t\\t\\n\\t\\t\\t\\n\\t\\t\\t\\t<meta name=\"twitter:card\" content=\"summary_large_image\" />\\n\\t\\t\\t\\n\\t\\t\\n\\t\\t<meta name=\"twitter:description\" content=\"Case Western Reserve University President Barbara Snyder\\'s $700,312 base pay and $175,000 bonus in 2015 again made her the highest paid  private college leader in Ohio, according to an annual report.\" />\\n\\t\\t<meta name=\"twitter:image\" content=\"https://image.cleveland.com/home/cleve-media/width620/img/plain_dealer_metro/photo/23873711-standard.jpg\" />\\n\\t\\n\\t\\n\\t\\t<meta name=\"twitter:title\" content=\"Case Western Reserve University President Barbara Snyder\\'s base salary and bonus pay tops among private colleges in Ohio \" />\\n\\t\\t<meta name=\"twitter:site\" content=\"@clevelanddotcom\" />\\n\\t\\t<meta name=\"twitter:creator\" content=\"@karen_farkas\" />\\n\\t\\n\\n\\t<meta property=\"og:title\" content=\"Case Western Reserve University President Barbara Snyder\\'s base salary and bonus pay tops among private colleges in Ohio \" />\\n\\t<meta property=\"og:description\" content=\"Case Western Reserve University President Barbara Snyder\\'s $700,312 base pay and $175,000 bonus in 2015 again made her the highest paid  private college leader in Ohio, according to an annual report.\" />\\n\\t<meta property=\"og:site_name\" content=\"cleveland.com\" />\\n\\t<meta property=\"og:url\" content=\"https://www.cleveland.com/metro/index.ssf/2017/12/case_western_reserve_university_president_barbara_snyders_base_salary_and_bonus_pay_tops_among_private_colleges_in_ohio.html\" />\\n\\t<meta property=\"og:type\" content=\"article\" />\\n\\t<meta property=\"og:image\" content=\"https://image.cleveland.com/home/cleve-media/width620/img/plain_dealer_metro/photo/23873711-standard.jpg\" />\\n\\t\\n\\t\\t<meta property=\"og:image:width\" content=\"620\" />\\n\\t\\t<meta property=\"og:image:height\" content=\"411\" />\\n\\t\\n\\t\\n\\n\\t\\n\\n\\t\\n\\t<script type=\"text/javascript\">\\n\\twindow.LF_META = {\\n\\t\\t\"environment\": \"production\",\\n\\t\\t\"networkId\": \"advancedigital.fyre.co\",\\n\\t\\t\"siteId\": \"352331\",\\n\\t\\t\"articleId\": \"273e236291b18c0720f9b1b13da4b999\",\\n\\t\\t\"checksum\": \"9ea75c1e05c5addbfe10c2611884e8de\",\\n\\t\\t\"collectionMeta\":  \"eyJhbGciOiJIUzI1NiJ9.eyJjaGVja3N1bSI6IjllYTc1YzFlMDVjNWFkZGJmZTEwYzI2MTE4ODRlOGRlIiwiYXJ0aWNsZUlkIjoiMjczZTIzNjI5MWIxOGMwNzIwZjliMWIxM2RhNGI5OTkiLCJ1cmwiOiJodHRwOi8vd3d3LmNsZXZlbGFuZC5jb20vbWV0cm8vaW5kZXguc3NmLzIwMTcvMTIvY2FzZV93ZXN0ZXJuX3Jlc2VydmVfdW5pdmVyc2l0eV9wcmVzaWRlbnRfYmFyYmFyYV9zbnlkZXJzX2Jhc2Vfc2FsYXJ5X2FuZF9ib251c19wYXlfdG9wc19hbW9uZ19wcml2YXRlX2NvbGxlZ2VzX2luX29oaW8uaHRtbCIsInRpdGxlIjoiQ2FzZSBXZXN0ZXJuIFJlc2VydmUgVW5pdmVyc2l0eSBQcmVzaWRlbnQgQmFyYmFyYSBTbnlkZXIncyBiYXNlIHNhbGFyeSBhbmQgYm9udXMgcGF5IHRvcHMgYW1vbmcgcHJpdmF0ZSBjb2xsZWdlcyBpbiBPaGlvICIsInRhZ3MiOiJleHBlcnQsQGZiaWEsQHJlYWwtdGltZS1uZXdzLGJhbGR3aW4td2FsbGFjZS11bml2ZXJzaXR5LGJhcmJhcmEtc255ZGVyLGNhc2Utd2VzdGVybi1yZXNlcnZlLXVuaXZlcnNpdHksam9obi1jYXJyb2xsLXVuaXZlcnNpdHksb2Jlcmxpbi1jb2xsZWdlIn0.VRXHAktXYmJhvrqXQoGyyMAS7YV0iT9xXex7EgtfIGE\",\\n\\t\\t\"readOnly\": \"false\",\\n\\t\\t\"articleAuthorID\": \"3290\"\\n\\t};\\n</script>\\n\\n\\t\\n\\t<script type=\"text/javascript\">\\n\\t\\t\\n\\t\\tvar rtb_comments_readonly = false;\\n\\t</script>\\n\\n\\n<link rel=\"alternate\" type=\"application/atom+xml\" title=\"Metro News\" href=\"http://www.cleveland.com/metro/index.ssf//atom.xml\" />\\n\\n    \\n\\n    \\n        \\n    \\n\\n    \\n \\n    \\n        \\n    \\n    \\n\\n\\n\\n\\n\\n    \\n\\n\\n\\n\\n\\n\\n\\n\\t\\t\\n\\t\\t\\t\\n\\t\\t\\t\\n\\t\\t\\t\\n\\t\\t\\t\\n\\n\\t\\t\\t\\n            \\n                <link rel=\"amphtml\" href=\"https://articles.cleveland.com/metro/index.ssf/2017/12/case_western_reserve_university_president_barbara_snyders_base_salary_and_bonus_pay_tops_among_private_colleges_in_ohio.amp\" />\\n            \\n\\n\\t\\t\\t\\n\\n\\t\\t\\t\\n\\t\\t\\t\\t<meta name=\"Description\" content=\"Case Western Reserve University President Barbara Snyder\\'s $700,312 base pay and $175,000 bonus in 2015 again made her the highest paid  private college leader in Ohio, according to an annual report.\" />\\n\\t\\t\\t\\t\\n\\t\\t\\t\\t\\t\\n\\t\\t\\t\\t\\t\\t<link rel=\"author\" href=\"https://plus.google.com/101448797314004031479/\" title=\"Karen Farkas, cleveland.com on Google+\" />\\n\\t\\t\\t\\t\\t\\n\\t\\t\\t\\t\\n\\t\\t\\t\\t \\n\\n\\t\\t\\t\\t\\n\\n\\t\\t\\t\\t\\n\\t\\t\\t\\n\\n\\t\\t\\t\\n\\t\\t\\t\\n\\t\\t\\t\\t\\n\\t\\t\\t\\t<script>\\n\\t\\t\\t\\t\\twindow.adiData = ({\\n\\t\\t\\t\\t\\t\\t\\'pageType\\': \\'cal\\',\\n\\t\\t\\t\\t\\t\\t\\'siteSection\\': \\'News\\',\\n\\t\\t\\t\\t\\t\\t\\'entryHeadline\\': \\'Case Western Reserve University President Barbara Snyder\\\\\\'s base salary and bonus pay tops among private colleges in Ohio \\',\\n\\t\\t\\t\\t\\t\\t\\'entryTags\\': \\'@fbia;@real-time-news;baldwin-wallace-university;barbara-snyder;case-western-reserve-university;john-carroll-university;oberlin-college\\',\\n\\t\\t\\t\\t\\t\\t\\'entryId\\':\\'21622286\\',\\n\\t\\t\\t\\t\\t\\t\\'entryDepth\\':\\'1\\',\\n\\t\\t\\t\\t\\t\\t\\'blogName\\':\\'Metro News\\',\\n\\t\\t\\t\\t\\t\\t\\'entryAuthorUsername\\':\\'kfarkas\\',\\n\\t\\t\\t\\t\\t\\t\\'blogCategory\\':\\'\\',\\n\\t\\t\\t\\t\\t\\t\\'blogId\\':\\'8002316\\',\\n\\t\\t\\t\\t\\t\\t\\'entryWordcount\\':\\'672\\',\\n\\t\\t\\t\\t\\t\\t\\'entryDateOriginal\\':\\'2017-12-10T22:00:00Z\\',\\n\\t\\t\\t\\t\\t\\t\\'entryDateUpdated\\':\\'2017-12-12T01:42:32Z\\',\\n\\t\\t\\t\\t\\t});\\n\\t\\t\\t\\t\\twindow.dataLayer = window.dataLayer || [];\\n\\t\\t\\t\\t\\twindow.dataLayer.push(window.adiData);\\n\\n\\t\\t\\t\\t\\t\\n\\t\\t\\t\\t\\t\\n\\t\\t\\t\\t\\t\\t// GTM Tag\\n\\t\\t\\t\\t\\t\\t(function(w,d,s,l,i){\\n\\t\\t\\t\\t\\t\\t\\tw[l]=w[l]||[];\\n\\t\\t\\t\\t\\t\\t\\tw[l].push({\\n\\t\\t\\t\\t\\t\\t\\t\\t\\'gtm.start\\': new Date().getTime(),\\n\\t\\t\\t\\t\\t\\t\\t\\tevent: \\'gtm.js\\'\\n\\t\\t\\t\\t\\t\\t\\t});\\n\\t\\t\\t\\t\\t\\t\\tvar f=d.getElementsByTagName(s)[0],\\n\\t\\t\\t\\t\\t\\t\\t\\tj=d.createElement(s),\\n\\t\\t\\t\\t\\t\\t\\t\\tdl=l!=\\'dataLayer\\'?\\'&l=\\'+l:\\'\\';\\n\\t\\t\\t\\t\\t\\t\\tj.async=true;\\n\\t\\t\\t\\t\\t\\t\\tj.src=\\'https://www.googletagmanager.com/gtm.js?id=\\'+i+dl;\\n\\t\\t\\t\\t\\t\\t\\tf.parentNode.insertBefore(j,f);\\n\\t\\t\\t\\t\\t\\t})(window,document,\\'script\\',\\'dataLayer\\',\\'GTM-5FH8H3G\\');\\n\\t\\t\\t\\t\\t\\n\\t\\t\\t\\t</script>\\n\\t\\t\\t\\n\\n\\t\\t\\t\\n\\t\\t\\n\\t</head>\\n\\n\\t<body class=\"cma\">\\n\\t\\t<div class=\"skip-to-article\">\\n\\t\\t\\t<a href=\"#article\">Skip to Article</a>\\n\\t\\t</div>\\n\\n\\t\\t\\n\\t\\t<!-- Start Masthead -->\\n\\t\\t\\n\\t\\t\\t\\n\\t\\t\\n\\t\\t<!-- ./templates/global/shared/nav/masthead.mtml start -->\\n\\n\\t\\n\\t\\t\\n\\t\\t\\t\\n\\t\\t\\n\\t\\t\\n\\n\\n<!-- toprail -->\\n<section id=\"adv_network\">\\n    <div class=\"advWrapper\">\\n        <div class=\"Popup\"><div class=\"Popup adunit nomobilead\" id=\"Popup\"></div></div>\\n        <div class=\"adunit\" id=\"TopRail_Above\"></div>\\n    </div>\\n</section>\\n\\n<header class=\"advtoprail\">\\n  <div class=\"advtoprail__left-corner\">\\n    <div class=\"advtoprail__mainmenu\">\\n      <nav class=\"advtoprail__mainmenu-nav\">\\n        \\n        <button class=\"advtoprail__mainmenu-button js-button-masthead\" aria-expanded=\"false\" aria-label=\"Open the Main Navigation\" data-buttonname=\"main\">\\n          <span class=\"advtoprail__mainmenu-button-icon\"></span>\\n          <span class=\"advtoprail__mainmenu-button-label\" id=\"mainmenu-label\">Menu</span>\\n        </button>\\n        \\n        <div class=\"advtoprail__dropdown js-dropdown js-dropdown-main\" aria-labelledby=\"mainmenu_label\" aria-hidden=\"true\" aria-expanded=\"false\" role=\"navigation\">\\n          <div class=\"advtoprail__menuborderarrow\"></div>\\n          <div class=\"advtoprail__dropdown-outer js-mainmenu\">\\n            <div class=\"advtoprail__dropdown-inner js-mainmenu-list\">\\n              <ul class=\"advtoprail__mainmenu-menulist\">\\n                \\n                    \\n                \\n                <li class=\"advtoprail__mainmenu-menuitem js-mainmenu-item\"><a class=\"advtoprail__mainmenu-menuitem-link js-mainmenu-link\" href=\"http://www.cleveland.com/\">Home</a></li>\\n                \\n                <li class=\"advtoprail__mainmenu-menuitem--mobile\">\\n                  <button class=\"advtoprail__weather-button js-button-weather-mobile\" aria-label=\"Weather\" aria-expanded=\"false\">\\n                    <span class=\"advtoprail__weather-conditions js-weather-conditions\">\\n                      <span class=\"advtoprail__weather-title--menu js-weather-location\"></span>\\n                      <span class=\"advtoprail__weather-temperature js-weather-temperature\"></span>\\n                    </span>\\n                  </button>\\n                </li>\\n                \\n                  <li class=\"advtoprail__mainmenu-menuitem js-expandable\">\\n                    \\n                      <a class=\"advtoprail__mainmenu-menuitem-link js-mainmenu-link\" href=\"https://www.cleveland.com/news/\">News</a>\\n                    \\n                    \\n                      <button class=\"advtoprail__button-submenu js-button-mainmenu\" aria-label=\"Open the News submenu\" aria-expanded=\"false\"><span class=\"advtoprail__button-submenu--open\">&rsaquo;</span><span class=\"advtoprail__button-submenu--close\">&lsaquo;</span></button>\\n                      \\n\\n\\n    <ul class=\"advtoprail__mainmenu-menulist--submenu js-submenu\">\\n      <li class=\"advtoprail__mainmenu-menuitem--submenu-backtomain\">\\n        <button class=\"advtoprail__button-mobile-backtomain js-button-backtomain\">\\n          <span class=\"advtoprail__button-icon--backmm\"></span>\\n          <span class=\"advtoprail__button-label--backmm\">Back To Main Menu</span>\\n        </button>\\n      </li>\\n        \\n            <li class=\"advtoprail__mainmenu-menuitem--submenu js-menuitem-submenu\">\\n                \\n                  <a class=\"advtoprail__mainmenu-menuitem-link js-mainmenu-link\" href=\"https://www.cleveland.com/metro/\">Metro</a>\\n                \\n                \\n                </li>\\n        \\n            <li class=\"advtoprail__mainmenu-menuitem--submenu js-menuitem-submenu\">\\n                \\n                  <a class=\"advtoprail__mainmenu-menuitem-link js-mainmenu-link\" href=\"https://www.cleveland.com/plaindealer/\">The Plain Dealer</a>\\n                \\n                \\n                </li>\\n        \\n            <li class=\"advtoprail__mainmenu-menuitem--submenu js-menuitem-submenu\">\\n                \\n                  <a class=\"advtoprail__mainmenu-menuitem-link js-mainmenu-link\" href=\"https://www.cleveland.com/weather/\">Weather</a>\\n                \\n                \\n                </li>\\n        \\n            <li class=\"advtoprail__mainmenu-menuitem--submenu js-menuitem-submenu\">\\n                \\n                  <a class=\"advtoprail__mainmenu-menuitem-link js-mainmenu-link\" href=\"https://www.cleveland.com/healthfit\">Health &amp; Medical</a>\\n                \\n                \\n                </li>\\n        \\n            <li class=\"advtoprail__mainmenu-menuitem--submenu js-menuitem-submenu\">\\n                \\n                  <a class=\"advtoprail__mainmenu-menuitem-link js-mainmenu-link\" href=\"https://www.cleveland.com/crime/\">Crime</a>\\n                \\n                \\n                </li>\\n        \\n            <li class=\"advtoprail__mainmenu-menuitem--submenu js-menuitem-submenu\">\\n                \\n                  <a class=\"advtoprail__mainmenu-menuitem-link js-mainmenu-link\" href=\"https://www.cleveland.com/datacentral\">Data Central</a>\\n                \\n                \\n                </li>\\n        \\n            <li class=\"advtoprail__mainmenu-menuitem--submenu js-menuitem-submenu js-expandable\">\\n                \\n                  <a class=\"advtoprail__mainmenu-menuitem-link js-mainmenu-link\" href=\"https://www.cleveland.com/columns/\">Columnists</a>\\n                \\n                \\n                  <button class=\"advtoprail__button-submenu js-button-mainmenu\" aria-label=\"Open the Columnists submenu\" aria-expanded=\"false\"><span class=\"advtoprail__button-submenu--open\">&rsaquo;</span><span class=\"advtoprail__button-submenu--close\">&lsaquo;</span></button>\\n                  \\n\\n\\n    <ul class=\"advtoprail__mainmenu-menulist--subsubmenu js-submenu\">\\n      <li class=\"advtoprail__mainmenu-menuitem--submenu-backtomain\">\\n        <button class=\"advtoprail__button-mobile-backtomain js-button-backtomain\">\\n          <span class=\"advtoprail__button-icon--backmm\"></span>\\n          <span class=\"advtoprail__button-label--backmm\">Back To Main Menu</span>\\n        </button>\\n      </li>\\n        \\n            <li class=\"advtoprail__mainmenu-menuitem--submenu js-menuitem-submenu\">\\n                \\n                  <a class=\"advtoprail__mainmenu-menuitem-link js-mainmenu-link\" href=\"https://www.cleveland.com/naymik\">Mark Naymik</a>\\n                \\n                \\n                </li>\\n        \\n            <li class=\"advtoprail__mainmenu-menuitem--submenu js-menuitem-submenu\">\\n                \\n                  <a class=\"advtoprail__mainmenu-menuitem-link js-mainmenu-link\" href=\"https://www.cleveland.com/tipoff\">Michael McIntyre</a>\\n                \\n                \\n                </li>\\n        \\n            <li class=\"advtoprail__mainmenu-menuitem--submenu js-menuitem-submenu\">\\n                \\n                  <a class=\"advtoprail__mainmenu-menuitem-link js-mainmenu-link\" href=\"https://www.cleveland.com/morris\">Phillip Morris</a>\\n                \\n                \\n                </li>\\n        \\n    </ul>\\n\\n\\n                \\n                </li>\\n        \\n            <li class=\"advtoprail__mainmenu-menuitem--submenu js-menuitem-submenu\">\\n                \\n                  <a class=\"advtoprail__mainmenu-menuitem-link js-mainmenu-link\" href=\"https://www.cleveland.com/city-club\">City Club of Cleveland</a>\\n                \\n                \\n                </li>\\n        \\n            <li class=\"advtoprail__mainmenu-menuitem--submenu js-menuitem-submenu\">\\n                \\n                  <a class=\"advtoprail__mainmenu-menuitem-link js-mainmenu-link\" href=\"https://www.cleveland.com/court-justice\">Courts</a>\\n                \\n                \\n                </li>\\n        \\n            <li class=\"advtoprail__mainmenu-menuitem--submenu js-menuitem-submenu\">\\n                \\n                  <a class=\"advtoprail__mainmenu-menuitem-link js-mainmenu-link\" href=\"https://www.cleveland.com/nation/\">Nation</a>\\n                \\n                \\n                </li>\\n        \\n            <li class=\"advtoprail__mainmenu-menuitem--submenu js-menuitem-submenu\">\\n                \\n                  <a class=\"advtoprail__mainmenu-menuitem-link js-mainmenu-link\" href=\"https://www.cleveland.com/world/\">World</a>\\n                \\n                \\n                </li>\\n        \\n            <li class=\"advtoprail__mainmenu-menuitem--submenu js-menuitem-submenu js-expandable\">\\n                \\n                  <span class=\"advtoprail__mainmenu-menuitem-label\">Special Reports</span>\\n                \\n                \\n                  <button class=\"advtoprail__button-submenu js-button-mainmenu\" aria-label=\"Open the Special Reports submenu\" aria-expanded=\"false\"><span class=\"advtoprail__button-submenu--open\">&rsaquo;</span><span class=\"advtoprail__button-submenu--close\">&lsaquo;</span></button>\\n                  \\n\\n\\n    <ul class=\"advtoprail__mainmenu-menulist--subsubmenu js-submenu\">\\n      <li class=\"advtoprail__mainmenu-menuitem--submenu-backtomain\">\\n        <button class=\"advtoprail__button-mobile-backtomain js-button-backtomain\">\\n          <span class=\"advtoprail__button-icon--backmm\"></span>\\n          <span class=\"advtoprail__button-label--backmm\">Back To Main Menu</span>\\n        </button>\\n      </li>\\n        \\n            <li class=\"advtoprail__mainmenu-menuitem--submenu js-menuitem-submenu\">\\n                \\n                  <a class=\"advtoprail__mainmenu-menuitem-link js-mainmenu-link\" href=\"https://www.cleveland.com/a-greater-cleveland/\">A Greater Cleveland</a>\\n                \\n                \\n                </li>\\n        \\n            <li class=\"advtoprail__mainmenu-menuitem--submenu js-menuitem-submenu\">\\n                \\n                  <a class=\"advtoprail__mainmenu-menuitem-link js-mainmenu-link\" href=\"https://www.cleveland.com/metro/index.ssf/page/a_critical_choice_plain_dealer_1.html\">A Critical Choice: Nursing home care</a>\\n                \\n                \\n                </li>\\n        \\n            <li class=\"advtoprail__mainmenu-menuitem--submenu js-menuitem-submenu\">\\n                \\n                  <a class=\"advtoprail__mainmenu-menuitem-link js-mainmenu-link\" href=\"https://www.cleveland.com/metro/index.ssf/page/court_costs_in_northeast_ohio.html\">At Any (Court) Cost</a>\\n                \\n                \\n                </li>\\n        \\n            <li class=\"advtoprail__mainmenu-menuitem--submenu js-menuitem-submenu\">\\n                \\n                  <a class=\"advtoprail__mainmenu-menuitem-link js-mainmenu-link\" href=\"https://www.cleveland.com/metro/index.ssf/page/clevelands_bike_life.html\">Cleveland&#39;s Bike Life</a>\\n                \\n                \\n                </li>\\n        \\n            <li class=\"advtoprail__mainmenu-menuitem--submenu js-menuitem-submenu\">\\n                \\n                  <a class=\"advtoprail__mainmenu-menuitem-link js-mainmenu-link\" href=\"https://www.cleveland.com/metro/index.ssf/page/dear_cleveland.html\">Dear Cleveland</a>\\n                \\n                \\n                </li>\\n        \\n            <li class=\"advtoprail__mainmenu-menuitem--submenu js-menuitem-submenu\">\\n                \\n                  <a class=\"advtoprail__mainmenu-menuitem-link js-mainmenu-link\" href=\"https://www.cleveland.com/crime/index.ssf/page/heroin.html\">Heroins Human Toll</a>\\n                \\n                \\n                </li>\\n        \\n            <li class=\"advtoprail__mainmenu-menuitem--submenu js-menuitem-submenu\">\\n                \\n                  <a class=\"advtoprail__mainmenu-menuitem-link js-mainmenu-link\" href=\"https://www.cleveland.com/metro/index.ssf/page/justice_for_all_bail_reform_in.html\">Justice for All: Bail reform</a>\\n                \\n                \\n                </li>\\n        \\n            <li class=\"advtoprail__mainmenu-menuitem--submenu js-menuitem-submenu\">\\n                \\n                  <a class=\"advtoprail__mainmenu-menuitem-link js-mainmenu-link\" href=\"https://www.cleveland.com/knowtherx/\">Know the RX: Opioid addiction resources</a>\\n                \\n                \\n                </li>\\n        \\n            <li class=\"advtoprail__mainmenu-menuitem--submenu js-menuitem-submenu\">\\n                \\n                  <a class=\"advtoprail__mainmenu-menuitem-link js-mainmenu-link\" href=\"https://www.cleveland.com/out-of-line/\">Out of Line: Gerrymandering in Ohio</a>\\n                \\n                \\n                </li>\\n        \\n            <li class=\"advtoprail__mainmenu-menuitem--submenu js-menuitem-submenu\">\\n                \\n                  <a class=\"advtoprail__mainmenu-menuitem-link js-mainmenu-link\" href=\"https://www.cleveland.com/metro/index.ssf/page/recovering_hope.html\">Recovering Hope</a>\\n                \\n                \\n                </li>\\n        \\n            <li class=\"advtoprail__mainmenu-menuitem--submenu js-menuitem-submenu\">\\n                \\n                  <a class=\"advtoprail__mainmenu-menuitem-link js-mainmenu-link\" href=\"https://www.cleveland.com/cavs/index.ssf/page/remaking_the_q.html\">Remaking The Q</a>\\n                \\n                \\n                </li>\\n        \\n            <li class=\"advtoprail__mainmenu-menuitem--submenu js-menuitem-submenu\">\\n                \\n                  <a class=\"advtoprail__mainmenu-menuitem-link js-mainmenu-link\" href=\"https://www.cleveland.com/crime/index.ssf/page/stolen_in_the_suburbs_auto_the.html\">Stolen in the Suburbs</a>\\n                \\n                \\n                </li>\\n        \\n    </ul>\\n\\n\\n                \\n                </li>\\n        \\n    </ul>\\n\\n\\n                    \\n                  </li>\\n                \\n                  <li class=\"advtoprail__mainmenu-menuitem js-expandable\">\\n                    \\n                      <span class=\"advtoprail__mainmenu-menuitem-label\">Politics</span>\\n                    \\n                    \\n                      <button class=\"advtoprail__button-submenu js-button-mainmenu\" aria-label=\"Open the Politics submenu\" aria-expanded=\"false\"><span class=\"advtoprail__button-submenu--open\">&rsaquo;</span><span class=\"advtoprail__button-submenu--close\">&lsaquo;</span></button>\\n                      \\n\\n\\n    <ul class=\"advtoprail__mainmenu-menulist--submenu js-submenu\">\\n      <li class=\"advtoprail__mainmenu-menuitem--submenu-backtomain\">\\n        <button class=\"advtoprail__button-mobile-backtomain js-button-backtomain\">\\n          <span class=\"advtoprail__button-icon--backmm\"></span>\\n          <span class=\"advtoprail__button-label--backmm\">Back To Main Menu</span>\\n        </button>\\n      </li>\\n        \\n            <li class=\"advtoprail__mainmenu-menuitem--submenu js-menuitem-submenu\">\\n                \\n                  <a class=\"advtoprail__mainmenu-menuitem-link js-mainmenu-link\" href=\"https://www.cleveland.com/open/\">State Politics</a>\\n                \\n                \\n                </li>\\n        \\n            <li class=\"advtoprail__mainmenu-menuitem--submenu js-menuitem-submenu\">\\n                \\n                  <a class=\"advtoprail__mainmenu-menuitem-link js-mainmenu-link\" href=\"https://www.cleveland.com/politics/\">National Politics &amp; Elections</a>\\n                \\n                \\n                </li>\\n        \\n            <li class=\"advtoprail__mainmenu-menuitem--submenu js-menuitem-submenu\">\\n                \\n                  <a class=\"advtoprail__mainmenu-menuitem-link js-mainmenu-link\" href=\"https://www.cleveland.com/cityhall\">Cleveland City Hall</a>\\n                \\n                \\n                </li>\\n        \\n            <li class=\"advtoprail__mainmenu-menuitem--submenu js-menuitem-submenu\">\\n                \\n                  <a class=\"advtoprail__mainmenu-menuitem-link js-mainmenu-link\" href=\"https://www.cleveland.com/cuyahoga-county\">Cuyahoga County Insider</a>\\n                \\n                \\n                </li>\\n        \\n            <li class=\"advtoprail__mainmenu-menuitem--submenu js-menuitem-submenu\">\\n                \\n                  <a class=\"advtoprail__mainmenu-menuitem-link js-mainmenu-link\" href=\"https://www.cleveland.com/out-of-line/\">Out of Line: Gerrymandering in Ohio</a>\\n                \\n                \\n                </li>\\n        \\n            <li class=\"advtoprail__mainmenu-menuitem--submenu js-menuitem-submenu\">\\n                \\n                  <a class=\"advtoprail__mainmenu-menuitem-link js-mainmenu-link\" href=\"https://www.cleveland.com/politics/index.ssf/page/ohio_matters_redesign_politica.html\">Special Report: Ohio Matters</a>\\n                \\n                \\n                </li>\\n        \\n    </ul>\\n\\n\\n                    \\n                  </li>\\n                \\n                  <li class=\"advtoprail__mainmenu-menuitem js-expandable\">\\n                    \\n                      <a class=\"advtoprail__mainmenu-menuitem-link js-mainmenu-link\" href=\"https://www.cleveland.com/community\">Local News</a>\\n                    \\n                    \\n                      <button class=\"advtoprail__button-submenu js-button-mainmenu\" aria-label=\"Open the Local News submenu\" aria-expanded=\"false\"><span class=\"advtoprail__button-submenu--open\">&rsaquo;</span><span class=\"advtoprail__button-submenu--close\">&lsaquo;</span></button>\\n                      \\n\\n\\n    <ul class=\"advtoprail__mainmenu-menulist--submenu js-submenu\">\\n      <li class=\"advtoprail__mainmenu-menuitem--submenu-backtomain\">\\n        <button class=\"advtoprail__button-mobile-backtomain js-button-backtomain\">\\n          <span class=\"advtoprail__button-icon--backmm\"></span>\\n          <span class=\"advtoprail__button-label--backmm\">Back To Main Menu</span>\\n        </button>\\n      </li>\\n        \\n            <li class=\"advtoprail__mainmenu-menuitem--submenu js-menuitem-submenu\">\\n                \\n                  <a class=\"advtoprail__mainmenu-menuitem-link js-mainmenu-link\" href=\"https://www.cleveland.com/akron\">Akron</a>\\n                \\n                \\n                </li>\\n        \\n            <li class=\"advtoprail__mainmenu-menuitem--submenu js-menuitem-submenu\">\\n                \\n                  <a class=\"advtoprail__mainmenu-menuitem-link js-mainmenu-link\" href=\"https://www.cleveland.com/beachwood/\">Beachwood</a>\\n                \\n                \\n                </li>\\n        \\n            <li class=\"advtoprail__mainmenu-menuitem--submenu js-menuitem-submenu\">\\n                \\n                  <a class=\"advtoprail__mainmenu-menuitem-link js-mainmenu-link\" href=\"https://www.cleveland.com/berea\">Berea</a>\\n                \\n                \\n                </li>\\n        \\n            <li class=\"advtoprail__mainmenu-menuitem--submenu js-menuitem-submenu\">\\n                \\n                  <a class=\"advtoprail__mainmenu-menuitem-link js-mainmenu-link\" href=\"https://www.cleveland.com/brecksville\">Brecksville</a>\\n                \\n                \\n                </li>\\n        \\n            <li class=\"advtoprail__mainmenu-menuitem--submenu js-menuitem-submenu\">\\n                \\n                  <a class=\"advtoprail__mainmenu-menuitem-link js-mainmenu-link\" href=\"https://www.cleveland.com/brunswick/\">Brunswick</a>\\n                \\n                \\n                </li>\\n        \\n            <li class=\"advtoprail__mainmenu-menuitem--submenu js-menuitem-submenu\">\\n                \\n                  <a class=\"advtoprail__mainmenu-menuitem-link js-mainmenu-link\" href=\"https://www.cleveland.com/chagrin-falls/\">Chagrin Falls</a>\\n                \\n                \\n                </li>\\n        \\n            <li class=\"advtoprail__mainmenu-menuitem--submenu js-menuitem-submenu\">\\n                \\n                  <a class=\"advtoprail__mainmenu-menuitem-link js-mainmenu-link\" href=\"https://www.cleveland.com/cleveland-heights/\">Cleveland Heights</a>\\n                \\n                \\n                </li>\\n        \\n            <li class=\"advtoprail__mainmenu-menuitem--submenu js-menuitem-submenu\">\\n                \\n                  <a class=\"advtoprail__mainmenu-menuitem-link js-mainmenu-link\" href=\"https://www.cleveland.com/hillcrest/\">Hillcrest</a>\\n                \\n                \\n                </li>\\n        \\n            <li class=\"advtoprail__mainmenu-menuitem--submenu js-menuitem-submenu\">\\n                \\n                  <a class=\"advtoprail__mainmenu-menuitem-link js-mainmenu-link\" href=\"https://www.cleveland.com/lakewood/\">Lakewood</a>\\n                \\n                \\n                </li>\\n        \\n            <li class=\"advtoprail__mainmenu-menuitem--submenu js-menuitem-submenu\">\\n                \\n                  <a class=\"advtoprail__mainmenu-menuitem-link js-mainmenu-link\" href=\"https://www.cleveland.com/lyndhurst-south-euclid/\">Lyndhurst-South Euclid</a>\\n                \\n                \\n                </li>\\n        \\n            <li class=\"advtoprail__mainmenu-menuitem--submenu js-menuitem-submenu\">\\n                \\n                  <a class=\"advtoprail__mainmenu-menuitem-link js-mainmenu-link\" href=\"https://www.cleveland.com/medina/\">Medina</a>\\n                \\n                \\n                </li>\\n        \\n            <li class=\"advtoprail__mainmenu-menuitem--submenu js-menuitem-submenu\">\\n                \\n                  <a class=\"advtoprail__mainmenu-menuitem-link js-mainmenu-link\" href=\"https://www.cleveland.com/parma/\">Parma</a>\\n                \\n                \\n                </li>\\n        \\n            <li class=\"advtoprail__mainmenu-menuitem--submenu js-menuitem-submenu\">\\n                \\n                  <a class=\"advtoprail__mainmenu-menuitem-link js-mainmenu-link\" href=\"https://www.cleveland.com/shaker-heights/\">Shaker Heights</a>\\n                \\n                \\n                </li>\\n        \\n            <li class=\"advtoprail__mainmenu-menuitem--submenu js-menuitem-submenu\">\\n                \\n                  <a class=\"advtoprail__mainmenu-menuitem-link js-mainmenu-link\" href=\"https://www.cleveland.com/solon/\">Solon</a>\\n                \\n                \\n                </li>\\n        \\n            <li class=\"advtoprail__mainmenu-menuitem--submenu js-menuitem-submenu\">\\n                \\n                  <a class=\"advtoprail__mainmenu-menuitem-link js-mainmenu-link\" href=\"https://www.cleveland.com/strongsville/\">Strongsville</a>\\n                \\n                \\n                </li>\\n        \\n            <li class=\"advtoprail__mainmenu-menuitem--submenu js-menuitem-submenu\">\\n                \\n                  <a class=\"advtoprail__mainmenu-menuitem-link js-mainmenu-link\" href=\"https://www.cleveland.com/westlake/\">Westlake</a>\\n                \\n                \\n                </li>\\n        \\n            <li class=\"advtoprail__mainmenu-menuitem--submenu js-menuitem-submenu\">\\n                \\n                  <a class=\"advtoprail__mainmenu-menuitem-link js-mainmenu-link\" href=\"https://www.cleveland.com/sunnews/index.ssf/2013/01/read_the_news_from_east_and_so.html\">More East Side</a>\\n                \\n                \\n                </li>\\n        \\n            <li class=\"advtoprail__mainmenu-menuitem--submenu js-menuitem-submenu\">\\n                \\n                  <a class=\"advtoprail__mainmenu-menuitem-link js-mainmenu-link\" href=\"https://www.cleveland.com/sunnews/index.ssf/2013/01/read_the_news_from_west_and_so.html\">More West Side</a>\\n                \\n                \\n                </li>\\n        \\n    </ul>\\n\\n\\n                    \\n                  </li>\\n                \\n                  <li class=\"advtoprail__mainmenu-menuitem js-expandable\">\\n                    \\n                      <a class=\"advtoprail__mainmenu-menuitem-link js-mainmenu-link\" href=\"https://www.cleveland.com/opinion/\">Opinion</a>\\n                    \\n                    \\n                      <button class=\"advtoprail__button-submenu js-button-mainmenu\" aria-label=\"Open the Opinion submenu\" aria-expanded=\"false\"><span class=\"advtoprail__button-submenu--open\">&rsaquo;</span><span class=\"advtoprail__button-submenu--close\">&lsaquo;</span></button>\\n                      \\n\\n\\n    <ul class=\"advtoprail__mainmenu-menulist--submenu js-submenu\">\\n      <li class=\"advtoprail__mainmenu-menuitem--submenu-backtomain\">\\n        <button class=\"advtoprail__button-mobile-backtomain js-button-backtomain\">\\n          <span class=\"advtoprail__button-icon--backmm\"></span>\\n          <span class=\"advtoprail__button-label--backmm\">Back To Main Menu</span>\\n        </button>\\n      </li>\\n        \\n            <li class=\"advtoprail__mainmenu-menuitem--submenu js-menuitem-submenu\">\\n                \\n                  <a class=\"advtoprail__mainmenu-menuitem-link js-mainmenu-link\" href=\"https://www.cleveland.com/letters/\">Letters to the Editor</a>\\n                \\n                \\n                </li>\\n        \\n            <li class=\"advtoprail__mainmenu-menuitem--submenu js-menuitem-submenu\">\\n                \\n                  <a class=\"advtoprail__mainmenu-menuitem-link js-mainmenu-link\" href=\"https://www.cleveland.com/darcy\">Jeff Darcy&#39;s Cartoons</a>\\n                \\n                \\n                </li>\\n        \\n            <li class=\"advtoprail__mainmenu-menuitem--submenu js-menuitem-submenu\">\\n                \\n                  <a class=\"advtoprail__mainmenu-menuitem-link js-mainmenu-link\" href=\"https://www.cleveland.com/columns/\">More columnists</a>\\n                \\n                \\n                </li>\\n        \\n    </ul>\\n\\n\\n                    \\n                  </li>\\n                \\n                  <li class=\"advtoprail__mainmenu-menuitem js-expandable\">\\n                    \\n                      <a class=\"advtoprail__mainmenu-menuitem-link js-mainmenu-link\" href=\"https://www.cleveland.com/business/\">Business</a>\\n                    \\n                    \\n                      <button class=\"advtoprail__button-submenu js-button-mainmenu\" aria-label=\"Open the Business submenu\" aria-expanded=\"false\"><span class=\"advtoprail__button-submenu--open\">&rsaquo;</span><span class=\"advtoprail__button-submenu--close\">&lsaquo;</span></button>\\n                      \\n\\n\\n    <ul class=\"advtoprail__mainmenu-menulist--submenu js-submenu\">\\n      <li class=\"advtoprail__mainmenu-menuitem--submenu-backtomain\">\\n        <button class=\"advtoprail__button-mobile-backtomain js-button-backtomain\">\\n          <span class=\"advtoprail__button-icon--backmm\"></span>\\n          <span class=\"advtoprail__button-label--backmm\">Back To Main Menu</span>\\n        </button>\\n      </li>\\n        \\n            <li class=\"advtoprail__mainmenu-menuitem--submenu js-menuitem-submenu\">\\n                \\n                  <a class=\"advtoprail__mainmenu-menuitem-link js-mainmenu-link\" href=\"https://realestate.cleveland.com/realestate-news/\">Real Estate</a>\\n                \\n                \\n                </li>\\n        \\n            <li class=\"advtoprail__mainmenu-menuitem--submenu js-menuitem-submenu\">\\n                \\n                  <a class=\"advtoprail__mainmenu-menuitem-link js-mainmenu-link\" href=\"https://www.cleveland.com/ohio-utilities/\">Energy</a>\\n                \\n                \\n                </li>\\n        \\n            <li class=\"advtoprail__mainmenu-menuitem--submenu js-menuitem-submenu\">\\n                \\n                  <a class=\"advtoprail__mainmenu-menuitem-link js-mainmenu-link\" href=\"https://www.cleveland.com/consumeraffairs/\">Consumer Affairs</a>\\n                \\n                \\n                </li>\\n        \\n            <li class=\"advtoprail__mainmenu-menuitem--submenu js-menuitem-submenu\">\\n                \\n                  <a class=\"advtoprail__mainmenu-menuitem-link js-mainmenu-link\" href=\"https://www.cleveland.com/personalfinance/\">Personal Finance</a>\\n                \\n                \\n                </li>\\n        \\n            <li class=\"advtoprail__mainmenu-menuitem--submenu js-menuitem-submenu\">\\n                \\n                  <a class=\"advtoprail__mainmenu-menuitem-link js-mainmenu-link\" href=\"https://www.cleveland.com/top-workplaces\">Top Workplaces</a>\\n                \\n                \\n                </li>\\n        \\n    </ul>\\n\\n\\n                    \\n                  </li>\\n                \\n                  <li class=\"advtoprail__mainmenu-menuitem js-expandable\">\\n                    \\n                      <a class=\"advtoprail__mainmenu-menuitem-link js-mainmenu-link\" href=\"https://www.cleveland.com/sports/\">Sports</a>\\n                    \\n                    \\n                      <button class=\"advtoprail__button-submenu js-button-mainmenu\" aria-label=\"Open the Sports submenu\" aria-expanded=\"false\"><span class=\"advtoprail__button-submenu--open\">&rsaquo;</span><span class=\"advtoprail__button-submenu--close\">&lsaquo;</span></button>\\n                      \\n\\n\\n    <ul class=\"advtoprail__mainmenu-menulist--submenu js-submenu\">\\n      <li class=\"advtoprail__mainmenu-menuitem--submenu-backtomain\">\\n        <button class=\"advtoprail__button-mobile-backtomain js-button-backtomain\">\\n          <span class=\"advtoprail__button-icon--backmm\"></span>\\n          <span class=\"advtoprail__button-label--backmm\">Back To Main Menu</span>\\n        </button>\\n      </li>\\n        \\n            <li class=\"advtoprail__mainmenu-menuitem--submenu js-menuitem-submenu\">\\n                \\n                  <a class=\"advtoprail__mainmenu-menuitem-link js-mainmenu-link\" href=\"https://www.cleveland.com/browns/\">Browns</a>\\n                \\n                \\n                </li>\\n        \\n            <li class=\"advtoprail__mainmenu-menuitem--submenu js-menuitem-submenu\">\\n                \\n                  <a class=\"advtoprail__mainmenu-menuitem-link js-mainmenu-link\" href=\"https://www.cleveland.com/tribe/\">Indians</a>\\n                \\n                \\n                </li>\\n        \\n            <li class=\"advtoprail__mainmenu-menuitem--submenu js-menuitem-submenu\">\\n                \\n                  <a class=\"advtoprail__mainmenu-menuitem-link js-mainmenu-link\" href=\"https://www.cleveland.com/cavs/\">Cavaliers</a>\\n                \\n                \\n                </li>\\n        \\n            <li class=\"advtoprail__mainmenu-menuitem--submenu js-menuitem-submenu\">\\n                \\n                  <a class=\"advtoprail__mainmenu-menuitem-link js-mainmenu-link\" href=\"https://www.cleveland.com/osu/\">Ohio State</a>\\n                \\n                \\n                </li>\\n        \\n            <li class=\"advtoprail__mainmenu-menuitem--submenu js-menuitem-submenu\">\\n                \\n                  <a class=\"advtoprail__mainmenu-menuitem-link js-mainmenu-link\" href=\"https://www.cleveland.com/big-ten-football/\">Big 10 &amp; Recruiting</a>\\n                \\n                \\n                </li>\\n        \\n            <li class=\"advtoprail__mainmenu-menuitem--submenu js-menuitem-submenu\">\\n                \\n                  <a class=\"advtoprail__mainmenu-menuitem-link js-mainmenu-link\" href=\"https://www.cleveland.com/sports/college/\">College</a>\\n                \\n                \\n                </li>\\n        \\n            <li class=\"advtoprail__mainmenu-menuitem--submenu js-menuitem-submenu js-expandable\">\\n                \\n                  <a class=\"advtoprail__mainmenu-menuitem-link js-mainmenu-link\" href=\"https://www.cleveland.com/sports/columns/\">Columns</a>\\n                \\n                \\n                  <button class=\"advtoprail__button-submenu js-button-mainmenu\" aria-label=\"Open the Columns submenu\" aria-expanded=\"false\"><span class=\"advtoprail__button-submenu--open\">&rsaquo;</span><span class=\"advtoprail__button-submenu--close\">&lsaquo;</span></button>\\n                  \\n\\n\\n    <ul class=\"advtoprail__mainmenu-menulist--subsubmenu js-submenu\">\\n      <li class=\"advtoprail__mainmenu-menuitem--submenu-backtomain\">\\n        <button class=\"advtoprail__button-mobile-backtomain js-button-backtomain\">\\n          <span class=\"advtoprail__button-icon--backmm\"></span>\\n          <span class=\"advtoprail__button-label--backmm\">Back To Main Menu</span>\\n        </button>\\n      </li>\\n        \\n            <li class=\"advtoprail__mainmenu-menuitem--submenu js-menuitem-submenu\">\\n                \\n                  <a class=\"advtoprail__mainmenu-menuitem-link js-mainmenu-link\" href=\"https://connect.cleveland.com/staff/dlesmeri/posts.html\">Doug Lesmerises</a>\\n                \\n                \\n                </li>\\n        \\n            <li class=\"advtoprail__mainmenu-menuitem--submenu js-menuitem-submenu\">\\n                \\n                  <a class=\"advtoprail__mainmenu-menuitem-link js-mainmenu-link\" href=\"https://www.cleveland.com/livingston\">Bill Livingston</a>\\n                \\n                \\n                </li>\\n        \\n            <li class=\"advtoprail__mainmenu-menuitem--submenu js-menuitem-submenu\">\\n                \\n                  <a class=\"advtoprail__mainmenu-menuitem-link js-mainmenu-link\" href=\"https://connect.cleveland.com/staff/dmanolof/posts.html\">Dennis Manoloff</a>\\n                \\n                \\n                </li>\\n        \\n            <li class=\"advtoprail__mainmenu-menuitem--submenu js-menuitem-submenu\">\\n                \\n                  <a class=\"advtoprail__mainmenu-menuitem-link js-mainmenu-link\" href=\"https://www.cleveland.com/pluto\">Terry Pluto</a>\\n                \\n                \\n                </li>\\n        \\n            <li class=\"advtoprail__mainmenu-menuitem--submenu js-menuitem-submenu\">\\n                \\n                  <a class=\"advtoprail__mainmenu-menuitem-link js-mainmenu-link\" href=\"https://www.cleveland.com/budshaw\">Bud Shaw</a>\\n                \\n                \\n                </li>\\n        \\n    </ul>\\n\\n\\n                \\n                </li>\\n        \\n            <li class=\"advtoprail__mainmenu-menuitem--submenu js-menuitem-submenu\">\\n                \\n                  <a class=\"advtoprail__mainmenu-menuitem-link js-mainmenu-link\" href=\"https://www.cleveland.com/monsters/\">Monsters</a>\\n                \\n                \\n                </li>\\n        \\n            <li class=\"advtoprail__mainmenu-menuitem--submenu js-menuitem-submenu\">\\n                \\n                  <a class=\"advtoprail__mainmenu-menuitem-link js-mainmenu-link\" href=\"https://www.cleveland.com/golf/\">Golf</a>\\n                \\n                \\n                </li>\\n        \\n            <li class=\"advtoprail__mainmenu-menuitem--submenu js-menuitem-submenu\">\\n                \\n                  <a class=\"advtoprail__mainmenu-menuitem-link js-mainmenu-link\" href=\"https://www.cleveland.com/horseracing\">Horse Racing</a>\\n                \\n                \\n                </li>\\n        \\n            <li class=\"advtoprail__mainmenu-menuitem--submenu js-menuitem-submenu\">\\n                \\n                  <a class=\"advtoprail__mainmenu-menuitem-link js-mainmenu-link\" href=\"https://www.cleveland.com/outdoors/\">Outdoors</a>\\n                \\n                \\n                </li>\\n        \\n            <li class=\"advtoprail__mainmenu-menuitem--submenu js-menuitem-submenu\">\\n                \\n                  <a class=\"advtoprail__mainmenu-menuitem-link js-mainmenu-link\" href=\"https://www.cleveland.com/sportsinsider/\">Sports Insider</a>\\n                \\n                \\n                </li>\\n        \\n            <li class=\"advtoprail__mainmenu-menuitem--submenu js-menuitem-submenu js-expandable\">\\n                \\n                  <a class=\"advtoprail__mainmenu-menuitem-link js-mainmenu-link\" href=\"https://www.youtube.com/channel/UCJkc1COQO0WiZ2CI7dRdwAQ\">Videos</a>\\n                \\n                \\n                  <button class=\"advtoprail__button-submenu js-button-mainmenu\" aria-label=\"Open the Videos submenu\" aria-expanded=\"false\"><span class=\"advtoprail__button-submenu--open\">&rsaquo;</span><span class=\"advtoprail__button-submenu--close\">&lsaquo;</span></button>\\n                  \\n\\n\\n    <ul class=\"advtoprail__mainmenu-menulist--subsubmenu js-submenu\">\\n      <li class=\"advtoprail__mainmenu-menuitem--submenu-backtomain\">\\n        <button class=\"advtoprail__button-mobile-backtomain js-button-backtomain\">\\n          <span class=\"advtoprail__button-icon--backmm\"></span>\\n          <span class=\"advtoprail__button-label--backmm\">Back To Main Menu</span>\\n        </button>\\n      </li>\\n        \\n            <li class=\"advtoprail__mainmenu-menuitem--submenu js-menuitem-submenu\">\\n                \\n                  <a class=\"advtoprail__mainmenu-menuitem-link js-mainmenu-link\" href=\"https://www.youtube.com/channel/UCQ49uTYsnoTZXzMvuAs6mnA\">Cleveland Browns Videos</a>\\n                \\n                \\n                </li>\\n        \\n            <li class=\"advtoprail__mainmenu-menuitem--submenu js-menuitem-submenu\">\\n                \\n                  <a class=\"advtoprail__mainmenu-menuitem-link js-mainmenu-link\" href=\"https://www.youtube.com/channel/UCqtAJBbMzm3zY1n1TAQCvXQ\">Cleveland Cavaliers Videos</a>\\n                \\n                \\n                </li>\\n        \\n            <li class=\"advtoprail__mainmenu-menuitem--submenu js-menuitem-submenu\">\\n                \\n                  <a class=\"advtoprail__mainmenu-menuitem-link js-mainmenu-link\" href=\"https://www.youtube.com/channel/UCxReL44y_w9oEhSychUWpyw\">Cleveland Indians Videos</a>\\n                \\n                \\n                </li>\\n        \\n            <li class=\"advtoprail__mainmenu-menuitem--submenu js-menuitem-submenu\">\\n                \\n                  <a class=\"advtoprail__mainmenu-menuitem-link js-mainmenu-link\" href=\"https://www.youtube.com/channel/UCbwXqt6It5lTZ4Wnqa32sfQ\">Ohio State Football Videos</a>\\n                \\n                \\n                </li>\\n        \\n    </ul>\\n\\n\\n                \\n                </li>\\n        \\n            <li class=\"advtoprail__mainmenu-menuitem--submenu js-menuitem-submenu\">\\n                \\n                  <a class=\"advtoprail__mainmenu-menuitem-link js-mainmenu-link\" href=\"https://photos.cleveland.com/category/4501/sports/index.html\">Photos</a>\\n                \\n                \\n                </li>\\n        \\n    </ul>\\n\\n\\n                    \\n                  </li>\\n                \\n                  <li class=\"advtoprail__mainmenu-menuitem js-expandable\">\\n                    \\n                      <a class=\"advtoprail__mainmenu-menuitem-link js-mainmenu-link\" href=\"http://highschoolsports.cleveland.com/\">High School Sports</a>\\n                    \\n                    \\n                      <button class=\"advtoprail__button-submenu js-button-mainmenu\" aria-label=\"Open the High School Sports submenu\" aria-expanded=\"false\"><span class=\"advtoprail__button-submenu--open\">&rsaquo;</span><span class=\"advtoprail__button-submenu--close\">&lsaquo;</span></button>\\n                      \\n\\n\\n    <ul class=\"advtoprail__mainmenu-menulist--submenu js-submenu\">\\n      <li class=\"advtoprail__mainmenu-menuitem--submenu-backtomain\">\\n        <button class=\"advtoprail__button-mobile-backtomain js-button-backtomain\">\\n          <span class=\"advtoprail__button-icon--backmm\"></span>\\n          <span class=\"advtoprail__button-label--backmm\">Back To Main Menu</span>\\n        </button>\\n      </li>\\n        \\n            <li class=\"advtoprail__mainmenu-menuitem--submenu js-menuitem-submenu\">\\n                \\n                  <a class=\"advtoprail__mainmenu-menuitem-link js-mainmenu-link\" href=\"http://highschoolsports.cleveland.com/football\">Football</a>\\n                \\n                \\n                </li>\\n        \\n            <li class=\"advtoprail__mainmenu-menuitem--submenu js-menuitem-submenu\">\\n                \\n                  <a class=\"advtoprail__mainmenu-menuitem-link js-mainmenu-link\" href=\"http://highschoolsports.cleveland.com/boysbasketball\">Boys Basketball</a>\\n                \\n                \\n                </li>\\n        \\n            <li class=\"advtoprail__mainmenu-menuitem--submenu js-menuitem-submenu\">\\n                \\n                  <a class=\"advtoprail__mainmenu-menuitem-link js-mainmenu-link\" href=\"http://highschoolsports.cleveland.com/girlsbasketball\">Girls Basketball</a>\\n                \\n                \\n                </li>\\n        \\n            <li class=\"advtoprail__mainmenu-menuitem--submenu js-menuitem-submenu\">\\n                \\n                  <a class=\"advtoprail__mainmenu-menuitem-link js-mainmenu-link\" href=\"http://highschoolsports.cleveland.com/wrestling\">Wrestling</a>\\n                \\n                \\n                </li>\\n        \\n            <li class=\"advtoprail__mainmenu-menuitem--submenu js-menuitem-submenu js-expandable\">\\n                \\n                  <span class=\"advtoprail__mainmenu-menuitem-label\">More HS Sports</span>\\n                \\n                \\n                  <button class=\"advtoprail__button-submenu js-button-mainmenu\" aria-label=\"Open the More HS Sports submenu\" aria-expanded=\"false\"><span class=\"advtoprail__button-submenu--open\">&rsaquo;</span><span class=\"advtoprail__button-submenu--close\">&lsaquo;</span></button>\\n                  \\n\\n\\n    <ul class=\"advtoprail__mainmenu-menulist--subsubmenu js-submenu\">\\n      <li class=\"advtoprail__mainmenu-menuitem--submenu-backtomain\">\\n        <button class=\"advtoprail__button-mobile-backtomain js-button-backtomain\">\\n          <span class=\"advtoprail__button-icon--backmm\"></span>\\n          <span class=\"advtoprail__button-label--backmm\">Back To Main Menu</span>\\n        </button>\\n      </li>\\n        \\n            <li class=\"advtoprail__mainmenu-menuitem--submenu js-menuitem-submenu\">\\n                \\n                  <a class=\"advtoprail__mainmenu-menuitem-link js-mainmenu-link\" href=\"http://highschoolsports.cleveland.com/baseball\">Baseball</a>\\n                \\n                \\n                </li>\\n        \\n            <li class=\"advtoprail__mainmenu-menuitem--submenu js-menuitem-submenu\">\\n                \\n                  <a class=\"advtoprail__mainmenu-menuitem-link js-mainmenu-link\" href=\"http://highschoolsports.cleveland.com/boysbowling\">Boys Bowling</a>\\n                \\n                \\n                </li>\\n        \\n            <li class=\"advtoprail__mainmenu-menuitem--submenu js-menuitem-submenu\">\\n                \\n                  <a class=\"advtoprail__mainmenu-menuitem-link js-mainmenu-link\" href=\"http://highschoolsports.cleveland.com/girlsbowling\">Girls Bowling</a>\\n                \\n                \\n                </li>\\n        \\n            <li class=\"advtoprail__mainmenu-menuitem--submenu js-menuitem-submenu\">\\n                \\n                  <a class=\"advtoprail__mainmenu-menuitem-link js-mainmenu-link\" href=\"http://highschoolsports.cleveland.com/boyscrosscountry\">Boys Cross Country</a>\\n                \\n                \\n                </li>\\n        \\n            <li class=\"advtoprail__mainmenu-menuitem--submenu js-menuitem-submenu\">\\n                \\n                  <a class=\"advtoprail__mainmenu-menuitem-link js-mainmenu-link\" href=\"http://highschoolsports.cleveland.com/girlscrosscountry\">Girls Cross Country</a>\\n                \\n                \\n                </li>\\n        \\n            <li class=\"advtoprail__mainmenu-menuitem--submenu js-menuitem-submenu\">\\n                \\n                  <a class=\"advtoprail__mainmenu-menuitem-link js-mainmenu-link\" href=\"http://highschoolsports.cleveland.com/fieldhockey\">Field Hockey</a>\\n                \\n                \\n                </li>\\n        \\n            <li class=\"advtoprail__mainmenu-menuitem--submenu js-menuitem-submenu\">\\n                \\n                  <a class=\"advtoprail__mainmenu-menuitem-link js-mainmenu-link\" href=\"http://highschoolsports.cleveland.com/boysgolf\">Boys Golf</a>\\n                \\n                \\n                </li>\\n        \\n            <li class=\"advtoprail__mainmenu-menuitem--submenu js-menuitem-submenu\">\\n                \\n                  <a class=\"advtoprail__mainmenu-menuitem-link js-mainmenu-link\" href=\"http://highschoolsports.cleveland.com/girlsgolf\">Girls Golf</a>\\n                \\n                \\n                </li>\\n        \\n            <li class=\"advtoprail__mainmenu-menuitem--submenu js-menuitem-submenu\">\\n                \\n                  <a class=\"advtoprail__mainmenu-menuitem-link js-mainmenu-link\" href=\"http://highschoolsports.cleveland.com/girlsgymnastics\">Girls Gymnastics</a>\\n                \\n                \\n                </li>\\n        \\n            <li class=\"advtoprail__mainmenu-menuitem--submenu js-menuitem-submenu\">\\n                \\n                  <a class=\"advtoprail__mainmenu-menuitem-link js-mainmenu-link\" href=\"http://highschoolsports.cleveland.com/boysicehockey\">Boys Ice Hockey</a>\\n                \\n                \\n                </li>\\n        \\n            <li class=\"advtoprail__mainmenu-menuitem--submenu js-menuitem-submenu\">\\n                \\n                  <a class=\"advtoprail__mainmenu-menuitem-link js-mainmenu-link\" href=\"http://highschoolsports.cleveland.com/boyslacrosse\">Boys Lacrosse</a>\\n                \\n                \\n                </li>\\n        \\n            <li class=\"advtoprail__mainmenu-menuitem--submenu js-menuitem-submenu\">\\n                \\n                  <a class=\"advtoprail__mainmenu-menuitem-link js-mainmenu-link\" href=\"http://highschoolsports.cleveland.com/girlslacrosse\">Girls Lacrosse</a>\\n                \\n                \\n                </li>\\n        \\n            <li class=\"advtoprail__mainmenu-menuitem--submenu js-menuitem-submenu\">\\n                \\n                  <a class=\"advtoprail__mainmenu-menuitem-link js-mainmenu-link\" href=\"http://highschoolsports.cleveland.com/boyssoccer\">Boys Soccer</a>\\n                \\n                \\n                </li>\\n        \\n            <li class=\"advtoprail__mainmenu-menuitem--submenu js-menuitem-submenu\">\\n                \\n                  <a class=\"advtoprail__mainmenu-menuitem-link js-mainmenu-link\" href=\"http://highschoolsports.cleveland.com/girlssoccer\">Girls Soccer</a>\\n                \\n                \\n                </li>\\n        \\n            <li class=\"advtoprail__mainmenu-menuitem--submenu js-menuitem-submenu\">\\n                \\n                  <a class=\"advtoprail__mainmenu-menuitem-link js-mainmenu-link\" href=\"http://highschoolsports.cleveland.com/softball\">Softball</a>\\n                \\n                \\n                </li>\\n        \\n            <li class=\"advtoprail__mainmenu-menuitem--submenu js-menuitem-submenu\">\\n                \\n                  <a class=\"advtoprail__mainmenu-menuitem-link js-mainmenu-link\" href=\"http://highschoolsports.cleveland.com/boysswimming\">Boys Swimming</a>\\n                \\n                \\n                </li>\\n        \\n            <li class=\"advtoprail__mainmenu-menuitem--submenu js-menuitem-submenu\">\\n                \\n                  <a class=\"advtoprail__mainmenu-menuitem-link js-mainmenu-link\" href=\"http://highschoolsports.cleveland.com/girlsswimming\">Girls Swimming</a>\\n                \\n                \\n                </li>\\n        \\n            <li class=\"advtoprail__mainmenu-menuitem--submenu js-menuitem-submenu\">\\n                \\n                  <a class=\"advtoprail__mainmenu-menuitem-link js-mainmenu-link\" href=\"http://highschoolsports.cleveland.com/boystennis\">Boys Tennis</a>\\n                \\n                \\n                </li>\\n        \\n            <li class=\"advtoprail__mainmenu-menuitem--submenu js-menuitem-submenu\">\\n                \\n                  <a class=\"advtoprail__mainmenu-menuitem-link js-mainmenu-link\" href=\"http://highschoolsports.cleveland.com/girlstennis\">Girls Tennis</a>\\n                \\n                \\n                </li>\\n        \\n            <li class=\"advtoprail__mainmenu-menuitem--submenu js-menuitem-submenu\">\\n                \\n                  <a class=\"advtoprail__mainmenu-menuitem-link js-mainmenu-link\" href=\"http://highschoolsports.cleveland.com/boystrackandfield\">Boys Track and Field</a>\\n                \\n                \\n                </li>\\n        \\n            <li class=\"advtoprail__mainmenu-menuitem--submenu js-menuitem-submenu\">\\n                \\n                  <a class=\"advtoprail__mainmenu-menuitem-link js-mainmenu-link\" href=\"http://highschoolsports.cleveland.com/girlstrackandfield\">Girls Track and Field</a>\\n                \\n                \\n                </li>\\n        \\n            <li class=\"advtoprail__mainmenu-menuitem--submenu js-menuitem-submenu\">\\n                \\n                  <a class=\"advtoprail__mainmenu-menuitem-link js-mainmenu-link\" href=\"http://highschoolsports.cleveland.com/girlsvolleyball\">Girls Volleyball</a>\\n                \\n                \\n                </li>\\n        \\n    </ul>\\n\\n\\n                \\n                </li>\\n        \\n    </ul>\\n\\n\\n                    \\n                  </li>\\n                \\n                  <li class=\"advtoprail__mainmenu-menuitem js-expandable\">\\n                    \\n                      <a class=\"advtoprail__mainmenu-menuitem-link js-mainmenu-link\" href=\"https://www.cleveland.com/entertainment/\">Entertainment</a>\\n                    \\n                    \\n                      <button class=\"advtoprail__button-submenu js-button-mainmenu\" aria-label=\"Open the Entertainment submenu\" aria-expanded=\"false\"><span class=\"advtoprail__button-submenu--open\">&rsaquo;</span><span class=\"advtoprail__button-submenu--close\">&lsaquo;</span></button>\\n                      \\n\\n\\n    <ul class=\"advtoprail__mainmenu-menulist--submenu js-submenu\">\\n      <li class=\"advtoprail__mainmenu-menuitem--submenu-backtomain\">\\n        <button class=\"advtoprail__button-mobile-backtomain js-button-backtomain\">\\n          <span class=\"advtoprail__button-icon--backmm\"></span>\\n          <span class=\"advtoprail__button-label--backmm\">Back To Main Menu</span>\\n        </button>\\n      </li>\\n        \\n            <li class=\"advtoprail__mainmenu-menuitem--submenu js-menuitem-submenu js-expandable\">\\n                \\n                  <a class=\"advtoprail__mainmenu-menuitem-link js-mainmenu-link\" href=\"https://www.cleveland.com/food\">Food/Dining</a>\\n                \\n                \\n                  <button class=\"advtoprail__button-submenu js-button-mainmenu\" aria-label=\"Open the Food/Dining submenu\" aria-expanded=\"false\"><span class=\"advtoprail__button-submenu--open\">&rsaquo;</span><span class=\"advtoprail__button-submenu--close\">&lsaquo;</span></button>\\n                  \\n\\n\\n    <ul class=\"advtoprail__mainmenu-menulist--subsubmenu js-submenu\">\\n      <li class=\"advtoprail__mainmenu-menuitem--submenu-backtomain\">\\n        <button class=\"advtoprail__button-mobile-backtomain js-button-backtomain\">\\n          <span class=\"advtoprail__button-icon--backmm\"></span>\\n          <span class=\"advtoprail__button-label--backmm\">Back To Main Menu</span>\\n        </button>\\n      </li>\\n        \\n            <li class=\"advtoprail__mainmenu-menuitem--submenu js-menuitem-submenu\">\\n                \\n                  <a class=\"advtoprail__mainmenu-menuitem-link js-mainmenu-link\" href=\"https://www.cleveland.com/dining\">Dining Guide</a>\\n                \\n                \\n                </li>\\n        \\n            <li class=\"advtoprail__mainmenu-menuitem--submenu js-menuitem-submenu\">\\n                \\n                  <a class=\"advtoprail__mainmenu-menuitem-link js-mainmenu-link\" href=\"https://www.cleveland.com/bars/\">Bars</a>\\n                \\n                \\n                </li>\\n        \\n            <li class=\"advtoprail__mainmenu-menuitem--submenu js-menuitem-submenu\">\\n                \\n                  <a class=\"advtoprail__mainmenu-menuitem-link js-mainmenu-link\" href=\"https://www.cleveland.com/cooking\">Cooking</a>\\n                \\n                \\n                </li>\\n        \\n            <li class=\"advtoprail__mainmenu-menuitem--submenu js-menuitem-submenu\">\\n                \\n                  <a class=\"advtoprail__mainmenu-menuitem-link js-mainmenu-link\" href=\"https://www.cleveland.com/top-restaurants\">Top Restaurants</a>\\n                \\n                \\n                </li>\\n        \\n            <li class=\"advtoprail__mainmenu-menuitem--submenu js-menuitem-submenu\">\\n                \\n                  <a class=\"advtoprail__mainmenu-menuitem-link js-mainmenu-link\" href=\"https://www.cleveland.com/drinks\">Drinks</a>\\n                \\n                \\n                </li>\\n        \\n    </ul>\\n\\n\\n                \\n                </li>\\n        \\n            <li class=\"advtoprail__mainmenu-menuitem--submenu js-menuitem-submenu\">\\n                \\n                  <a class=\"advtoprail__mainmenu-menuitem-link js-mainmenu-link\" href=\"https://www.cleveland.com/best/\">Cleveland&#39;s Best</a>\\n                \\n                \\n                </li>\\n        \\n            <li class=\"advtoprail__mainmenu-menuitem--submenu js-menuitem-submenu\">\\n                \\n                  <a class=\"advtoprail__mainmenu-menuitem-link js-mainmenu-link\" href=\"https://www.cleveland.com/events/\">Events</a>\\n                \\n                \\n                </li>\\n        \\n            <li class=\"advtoprail__mainmenu-menuitem--submenu js-menuitem-submenu\">\\n                \\n                  <a class=\"advtoprail__mainmenu-menuitem-link js-mainmenu-link\" href=\"https://www.cleveland.com/movies/\">Movies</a>\\n                \\n                \\n                </li>\\n        \\n            <li class=\"advtoprail__mainmenu-menuitem--submenu js-menuitem-submenu\">\\n                \\n                  <a class=\"advtoprail__mainmenu-menuitem-link js-mainmenu-link\" href=\"https://www.cleveland.com/music/\">Music</a>\\n                \\n                \\n                </li>\\n        \\n            <li class=\"advtoprail__mainmenu-menuitem--submenu js-menuitem-submenu\">\\n                \\n                  <a class=\"advtoprail__mainmenu-menuitem-link js-mainmenu-link\" href=\"https://www.cleveland.com/tv/\">TV</a>\\n                \\n                \\n                </li>\\n        \\n            <li class=\"advtoprail__mainmenu-menuitem--submenu js-menuitem-submenu\">\\n                \\n                  <a class=\"advtoprail__mainmenu-menuitem-link js-mainmenu-link\" href=\"https://www.cleveland.com/books/\">Books</a>\\n                \\n                \\n                </li>\\n        \\n            <li class=\"advtoprail__mainmenu-menuitem--submenu js-menuitem-submenu\">\\n                \\n                  <a class=\"advtoprail__mainmenu-menuitem-link js-mainmenu-link\" href=\"https://www.cleveland.com/arts/\">Arts</a>\\n                \\n                \\n                </li>\\n        \\n            <li class=\"advtoprail__mainmenu-menuitem--submenu js-menuitem-submenu\">\\n                \\n                  <a class=\"advtoprail__mainmenu-menuitem-link js-mainmenu-link\" href=\"https://www.cleveland.com/onstage/\">Theater</a>\\n                \\n                \\n                </li>\\n        \\n            <li class=\"advtoprail__mainmenu-menuitem--submenu js-menuitem-submenu\">\\n                \\n                  <a class=\"advtoprail__mainmenu-menuitem-link js-mainmenu-link\" href=\"https://www.cleveland.com/friday/\">Friday!</a>\\n                \\n                \\n                </li>\\n        \\n            <li class=\"advtoprail__mainmenu-menuitem--submenu js-menuitem-submenu\">\\n                \\n                  <a class=\"advtoprail__mainmenu-menuitem-link js-mainmenu-link\" href=\"https://www.cleveland.com/people/\">People</a>\\n                \\n                \\n                </li>\\n        \\n            <li class=\"advtoprail__mainmenu-menuitem--submenu js-menuitem-submenu\">\\n                \\n                  <a class=\"advtoprail__mainmenu-menuitem-link js-mainmenu-link\" href=\"https://www.cleveland.com/living/\">Living</a>\\n                \\n                \\n                </li>\\n        \\n            <li class=\"advtoprail__mainmenu-menuitem--submenu js-menuitem-submenu\">\\n                \\n                  <a class=\"advtoprail__mainmenu-menuitem-link js-mainmenu-link\" href=\"https://www.cleveland.com/travel/\">Travel</a>\\n                \\n                \\n                </li>\\n        \\n            <li class=\"advtoprail__mainmenu-menuitem--submenu js-menuitem-submenu\">\\n                \\n                  <a class=\"advtoprail__mainmenu-menuitem-link js-mainmenu-link\" href=\"https://www.cleveland.com/style/\">Style</a>\\n                \\n                \\n                </li>\\n        \\n            <li class=\"advtoprail__mainmenu-menuitem--submenu js-menuitem-submenu\">\\n                \\n                  <a class=\"advtoprail__mainmenu-menuitem-link js-mainmenu-link\" href=\"https://www.cleveland.com/essential/page/visitors-guide.html\">Essential CLE</a>\\n                \\n                \\n                </li>\\n        \\n            <li class=\"advtoprail__mainmenu-menuitem--submenu js-menuitem-submenu\">\\n                \\n                  <a class=\"advtoprail__mainmenu-menuitem-link js-mainmenu-link\" href=\"https://www.cleveland.com/comics\">Comics</a>\\n                \\n                \\n                </li>\\n        \\n            <li class=\"advtoprail__mainmenu-menuitem--submenu js-menuitem-submenu\">\\n                \\n                  <a class=\"advtoprail__mainmenu-menuitem-link js-mainmenu-link\" href=\"https://www.cleveland.com/puzzles-games\">Crossword &amp; Puzzles</a>\\n                \\n                \\n                </li>\\n        \\n    </ul>\\n\\n\\n                    \\n                  </li>\\n                \\n                  <li class=\"advtoprail__mainmenu-menuitem\">\\n                    \\n                      <a class=\"advtoprail__mainmenu-menuitem-link js-mainmenu-link\" href=\"http://obits.cleveland.com/obituaries/cleveland/\">Obituaries</a>\\n                    \\n                    \\n                  </li>\\n                \\n                  <li class=\"advtoprail__mainmenu-menuitem\">\\n                    \\n                      <a class=\"advtoprail__mainmenu-menuitem-link js-mainmenu-link\" href=\"https://www.cleveland.com/jobs/\">Jobs</a>\\n                    \\n                    \\n                  </li>\\n                \\n                  <li class=\"advtoprail__mainmenu-menuitem\">\\n                    \\n                      <a class=\"advtoprail__mainmenu-menuitem-link js-mainmenu-link\" href=\"https://autos.cleveland.com/\">Autos</a>\\n                    \\n                    \\n                  </li>\\n                \\n                  <li class=\"advtoprail__mainmenu-menuitem js-expandable\">\\n                    \\n                      <a class=\"advtoprail__mainmenu-menuitem-link js-mainmenu-link\" href=\"https://realestate.cleveland.com/\">Real Estate</a>\\n                    \\n                    \\n                      <button class=\"advtoprail__button-submenu js-button-mainmenu\" aria-label=\"Open the Real Estate submenu\" aria-expanded=\"false\"><span class=\"advtoprail__button-submenu--open\">&rsaquo;</span><span class=\"advtoprail__button-submenu--close\">&lsaquo;</span></button>\\n                      \\n\\n\\n    <ul class=\"advtoprail__mainmenu-menulist--submenu js-submenu\">\\n      <li class=\"advtoprail__mainmenu-menuitem--submenu-backtomain\">\\n        <button class=\"advtoprail__button-mobile-backtomain js-button-backtomain\">\\n          <span class=\"advtoprail__button-icon--backmm\"></span>\\n          <span class=\"advtoprail__button-label--backmm\">Back To Main Menu</span>\\n        </button>\\n      </li>\\n        \\n            <li class=\"advtoprail__mainmenu-menuitem--submenu js-menuitem-submenu\">\\n                \\n                  <a class=\"advtoprail__mainmenu-menuitem-link js-mainmenu-link\" href=\"https://realestate.cleveland.com/\">Homes</a>\\n                \\n                \\n                </li>\\n        \\n            <li class=\"advtoprail__mainmenu-menuitem--submenu js-menuitem-submenu\">\\n                \\n                  <a class=\"advtoprail__mainmenu-menuitem-link js-mainmenu-link\" href=\"https://realestate.cleveland.com/new-homes/\">New Homes</a>\\n                \\n                \\n                </li>\\n        \\n            <li class=\"advtoprail__mainmenu-menuitem--submenu js-menuitem-submenu\">\\n                \\n                  <a class=\"advtoprail__mainmenu-menuitem-link js-mainmenu-link\" href=\"https://realestate.cleveland.com/for-rent/\">Rent</a>\\n                \\n                \\n                </li>\\n        \\n            <li class=\"advtoprail__mainmenu-menuitem--submenu js-menuitem-submenu\">\\n                \\n                  <a class=\"advtoprail__mainmenu-menuitem-link js-mainmenu-link\" href=\"https://foreclosures.cleveland.com/\">Foreclosures</a>\\n                \\n                \\n                </li>\\n        \\n            <li class=\"advtoprail__mainmenu-menuitem--submenu js-menuitem-submenu\">\\n                \\n                  <a class=\"advtoprail__mainmenu-menuitem-link js-mainmenu-link\" href=\"https://classifieds.cleveland.com/?cur_cat=&amp;orig_cat=&amp;orig_prop=cleveland.com&amp;temp_type=browse&amp;category=results&amp;tp=ME_cleve&amp;property=cleveland.com&amp;classification=Commercial+Real+Estate\">Commercial</a>\\n                \\n                \\n                </li>\\n        \\n            <li class=\"advtoprail__mainmenu-menuitem--submenu js-menuitem-submenu\">\\n                \\n                  <a class=\"advtoprail__mainmenu-menuitem-link js-mainmenu-link\" href=\"https://realestate.cleveland.com/homeideas\">Home Remodeling</a>\\n                \\n                \\n                </li>\\n        \\n            <li class=\"advtoprail__mainmenu-menuitem--submenu js-menuitem-submenu\">\\n                \\n                  <a class=\"advtoprail__mainmenu-menuitem-link js-mainmenu-link\" href=\"https://www.cleveland.com/placead/\">Place an Ad</a>\\n                \\n                \\n                </li>\\n        \\n    </ul>\\n\\n\\n                    \\n                  </li>\\n                \\n                  <li class=\"advtoprail__mainmenu-menuitem js-expandable\">\\n                    \\n                      <a class=\"advtoprail__mainmenu-menuitem-link js-mainmenu-link\" href=\"https://realestate.cleveland.com/for-rent\">Rentals</a>\\n                    \\n                    \\n                      <button class=\"advtoprail__button-submenu js-button-mainmenu\" aria-label=\"Open the Rentals submenu\" aria-expanded=\"false\"><span class=\"advtoprail__button-submenu--open\">&rsaquo;</span><span class=\"advtoprail__button-submenu--close\">&lsaquo;</span></button>\\n                      \\n\\n\\n    <ul class=\"advtoprail__mainmenu-menulist--submenu js-submenu\">\\n      <li class=\"advtoprail__mainmenu-menuitem--submenu-backtomain\">\\n        <button class=\"advtoprail__button-mobile-backtomain js-button-backtomain\">\\n          <span class=\"advtoprail__button-icon--backmm\"></span>\\n          <span class=\"advtoprail__button-label--backmm\">Back To Main Menu</span>\\n        </button>\\n      </li>\\n        \\n            <li class=\"advtoprail__mainmenu-menuitem--submenu js-menuitem-submenu\">\\n                \\n                  <a class=\"advtoprail__mainmenu-menuitem-link js-mainmenu-link\" href=\"https://realestate.cleveland.com/for-rent/\">All Rentals</a>\\n                \\n                \\n                </li>\\n        \\n            <li class=\"advtoprail__mainmenu-menuitem--submenu js-menuitem-submenu\">\\n                \\n                  <a class=\"advtoprail__mainmenu-menuitem-link js-mainmenu-link\" href=\"https://realestate.cleveland.com/for-rent/\">Apartments &amp; Communities</a>\\n                \\n                \\n                </li>\\n        \\n            <li class=\"advtoprail__mainmenu-menuitem--submenu js-menuitem-submenu\">\\n                \\n                  <a class=\"advtoprail__mainmenu-menuitem-link js-mainmenu-link\" href=\"https://www.cityfeet.com/cleveland/\">Commercial Leases</a>\\n                \\n                \\n                </li>\\n        \\n            <li class=\"advtoprail__mainmenu-menuitem--submenu js-menuitem-submenu\">\\n                \\n                  <a class=\"advtoprail__mainmenu-menuitem-link js-mainmenu-link\" href=\"https://www.cleveland.com/placead/\">Place an Ad</a>\\n                \\n                \\n                </li>\\n        \\n    </ul>\\n\\n\\n                    \\n                  </li>\\n                \\n                  <li class=\"advtoprail__mainmenu-menuitem js-expandable\">\\n                    \\n                      <a class=\"advtoprail__mainmenu-menuitem-link js-mainmenu-link\" href=\"https://www.youtube.com/channel/UCJkc1COQO0WiZ2CI7dRdwAQ\">Videos</a>\\n                    \\n                    \\n                      <button class=\"advtoprail__button-submenu js-button-mainmenu\" aria-label=\"Open the Videos submenu\" aria-expanded=\"false\"><span class=\"advtoprail__button-submenu--open\">&rsaquo;</span><span class=\"advtoprail__button-submenu--close\">&lsaquo;</span></button>\\n                      \\n\\n\\n    <ul class=\"advtoprail__mainmenu-menulist--submenu js-submenu\">\\n      <li class=\"advtoprail__mainmenu-menuitem--submenu-backtomain\">\\n        <button class=\"advtoprail__button-mobile-backtomain js-button-backtomain\">\\n          <span class=\"advtoprail__button-icon--backmm\"></span>\\n          <span class=\"advtoprail__button-label--backmm\">Back To Main Menu</span>\\n        </button>\\n      </li>\\n        \\n            <li class=\"advtoprail__mainmenu-menuitem--submenu js-menuitem-submenu\">\\n                \\n                  <a class=\"advtoprail__mainmenu-menuitem-link js-mainmenu-link\" href=\"https://www.youtube.com/channel/UCJkc1COQO0WiZ2CI7dRdwAQ\">cleveland.com Videos</a>\\n                \\n                \\n                </li>\\n        \\n            <li class=\"advtoprail__mainmenu-menuitem--submenu js-menuitem-submenu\">\\n                \\n                  <a class=\"advtoprail__mainmenu-menuitem-link js-mainmenu-link\" href=\"https://www.youtube.com/channel/UCQ49uTYsnoTZXzMvuAs6mnA\">Cleveland Browns Videos</a>\\n                \\n                \\n                </li>\\n        \\n            <li class=\"advtoprail__mainmenu-menuitem--submenu js-menuitem-submenu\">\\n                \\n                  <a class=\"advtoprail__mainmenu-menuitem-link js-mainmenu-link\" href=\"https://www.youtube.com/channel/UCqtAJBbMzm3zY1n1TAQCvXQ\">Cleveland Cavaliers Videos</a>\\n                \\n                \\n                </li>\\n        \\n            <li class=\"advtoprail__mainmenu-menuitem--submenu js-menuitem-submenu\">\\n                \\n                  <a class=\"advtoprail__mainmenu-menuitem-link js-mainmenu-link\" href=\"https://www.youtube.com/channel/UCxReL44y_w9oEhSychUWpyw\">Cleveland Indians Videos</a>\\n                \\n                \\n                </li>\\n        \\n            <li class=\"advtoprail__mainmenu-menuitem--submenu js-menuitem-submenu\">\\n                \\n                  <a class=\"advtoprail__mainmenu-menuitem-link js-mainmenu-link\" href=\"https://www.youtube.com/channel/UCbwXqt6It5lTZ4Wnqa32sfQ\">Ohio State Football Videos</a>\\n                \\n                \\n                </li>\\n        \\n    </ul>\\n\\n\\n                    \\n                  </li>\\n                \\n                  <li class=\"advtoprail__mainmenu-menuitem js-expandable\">\\n                    \\n                      <a class=\"advtoprail__mainmenu-menuitem-link js-mainmenu-link\" href=\"http://photos.cleveland.com/plain-dealer/index.html\">Photos</a>\\n                    \\n                    \\n                      <button class=\"advtoprail__button-submenu js-button-mainmenu\" aria-label=\"Open the Photos submenu\" aria-expanded=\"false\"><span class=\"advtoprail__button-submenu--open\">&rsaquo;</span><span class=\"advtoprail__button-submenu--close\">&lsaquo;</span></button>\\n                      \\n\\n\\n    <ul class=\"advtoprail__mainmenu-menulist--submenu js-submenu\">\\n      <li class=\"advtoprail__mainmenu-menuitem--submenu-backtomain\">\\n        <button class=\"advtoprail__button-mobile-backtomain js-button-backtomain\">\\n          <span class=\"advtoprail__button-icon--backmm\"></span>\\n          <span class=\"advtoprail__button-label--backmm\">Back To Main Menu</span>\\n        </button>\\n      </li>\\n        \\n            <li class=\"advtoprail__mainmenu-menuitem--submenu js-menuitem-submenu\">\\n                \\n                  <a class=\"advtoprail__mainmenu-menuitem-link js-mainmenu-link\" href=\"http://photos.cleveland.com/plain-dealer/index.html\">cleveland.com Photos</a>\\n                \\n                \\n                </li>\\n        \\n            <li class=\"advtoprail__mainmenu-menuitem--submenu js-menuitem-submenu\">\\n                \\n                  <a class=\"advtoprail__mainmenu-menuitem-link js-mainmenu-link\" href=\"http://photos.cleveland.com/photogallery/index.html\">Community Photos</a>\\n                \\n                \\n                </li>\\n        \\n            <li class=\"advtoprail__mainmenu-menuitem--submenu js-menuitem-submenu\">\\n                \\n                  <a class=\"advtoprail__mainmenu-menuitem-link js-mainmenu-link\" href=\"http://photos.cleveland.com/photogallery/upload.html\">Submit Your Photos</a>\\n                \\n                \\n                </li>\\n        \\n    </ul>\\n\\n\\n                    \\n                  </li>\\n                \\n                  <li class=\"advtoprail__mainmenu-menuitem\">\\n                    \\n                      <a class=\"advtoprail__mainmenu-menuitem-link js-mainmenu-link\" href=\"https://www.cleveland.com/akron\">Akron News</a>\\n                    \\n                    \\n                  </li>\\n                \\n                  <li class=\"advtoprail__mainmenu-menuitem\">\\n                    \\n                      <a class=\"advtoprail__mainmenu-menuitem-link js-mainmenu-link\" href=\"https://www.cleveland.com/placead/\">Place an Ad</a>\\n                    \\n                    \\n                  </li>\\n                \\n                  <li class=\"advtoprail__mainmenu-menuitem js-expandable\">\\n                    \\n                      <a class=\"advtoprail__mainmenu-menuitem-link js-mainmenu-link\" href=\"https://classifieds.cleveland.com/\">Classifieds</a>\\n                    \\n                    \\n                      <button class=\"advtoprail__button-submenu js-button-mainmenu\" aria-label=\"Open the Classifieds submenu\" aria-expanded=\"false\"><span class=\"advtoprail__button-submenu--open\">&rsaquo;</span><span class=\"advtoprail__button-submenu--close\">&lsaquo;</span></button>\\n                      \\n\\n\\n    <ul class=\"advtoprail__mainmenu-menulist--submenu js-submenu\">\\n      <li class=\"advtoprail__mainmenu-menuitem--submenu-backtomain\">\\n        <button class=\"advtoprail__button-mobile-backtomain js-button-backtomain\">\\n          <span class=\"advtoprail__button-icon--backmm\"></span>\\n          <span class=\"advtoprail__button-label--backmm\">Back To Main Menu</span>\\n        </button>\\n      </li>\\n        \\n            <li class=\"advtoprail__mainmenu-menuitem--submenu js-menuitem-submenu\">\\n                \\n                  <a class=\"advtoprail__mainmenu-menuitem-link js-mainmenu-link\" href=\"https://classifieds.cleveland.com/?orig_cat=&amp;property=cleveland.com&amp;orig_prop=cleveland.com&amp;temp_type=browse&amp;category=results&amp;tp=ME_cleve&amp;classification=Pets\">Pets</a>\\n                \\n                \\n                </li>\\n        \\n            <li class=\"advtoprail__mainmenu-menuitem--submenu js-menuitem-submenu\">\\n                \\n                  <a class=\"advtoprail__mainmenu-menuitem-link js-mainmenu-link\" href=\"https://classifieds.cleveland.com/?orig_cat=&amp;property=cleveland.com&amp;orig_prop=cleveland.com&amp;temp_type=browse&amp;category=results&amp;tp=ME_cleve&amp;classification=For+Sale\">For Sale</a>\\n                \\n                \\n                </li>\\n        \\n            <li class=\"advtoprail__mainmenu-menuitem--submenu js-menuitem-submenu\">\\n                \\n                  <a class=\"advtoprail__mainmenu-menuitem-link js-mainmenu-link\" href=\"https://classifieds.cleveland.com/?orig_prop=cleveland.com&amp;property=cleveland.com&amp;temp_type=browse&amp;category=results&amp;tp=ME_cleve&amp;classification=Garage-Yard%20and%20Estate%20Sales\">Garage Sales</a>\\n                \\n                \\n                </li>\\n        \\n            <li class=\"advtoprail__mainmenu-menuitem--submenu js-menuitem-submenu\">\\n                \\n                  <a class=\"advtoprail__mainmenu-menuitem-link js-mainmenu-link\" href=\"https://www.cleveland.com/celebrations/\">Celebrations</a>\\n                \\n                \\n                </li>\\n        \\n            <li class=\"advtoprail__mainmenu-menuitem--submenu js-menuitem-submenu\">\\n                \\n                  <a class=\"advtoprail__mainmenu-menuitem-link js-mainmenu-link\" href=\"https://www.cleveland.com/placead/fraud_prevention/index.ssf\">Fraud Prevention</a>\\n                \\n                \\n                </li>\\n        \\n            <li class=\"advtoprail__mainmenu-menuitem--submenu js-menuitem-submenu\">\\n                \\n                  <a class=\"advtoprail__mainmenu-menuitem-link js-mainmenu-link\" href=\"https://www.cleveland.com/placead/manage/index.ssf\">Manage Your Ad</a>\\n                \\n                \\n                </li>\\n        \\n            <li class=\"advtoprail__mainmenu-menuitem--submenu js-menuitem-submenu\">\\n                \\n                  <a class=\"advtoprail__mainmenu-menuitem-link js-mainmenu-link\" href=\"https://www.cleveland.com/placead/\">Place an Ad</a>\\n                \\n                \\n                </li>\\n        \\n    </ul>\\n\\n\\n                    \\n                  </li>\\n                \\n                  <li class=\"advtoprail__mainmenu-menuitem\">\\n                    \\n                      <a class=\"advtoprail__mainmenu-menuitem-link js-mainmenu-link\" href=\"http://findnsave.cleveland.com/?ac=AFFclevelandFSNAVFLS\">Find&amp;Save</a>\\n                    \\n                    \\n                  </li>\\n                \\n                  <li class=\"advtoprail__mainmenu-menuitem js-expandable\">\\n                    \\n                      <a class=\"advtoprail__mainmenu-menuitem-link js-mainmenu-link\" href=\"https://businessfinder.cleveland.com/\">Local Businesses</a>\\n                    \\n                    \\n                      <button class=\"advtoprail__button-submenu js-button-mainmenu\" aria-label=\"Open the Local Businesses submenu\" aria-expanded=\"false\"><span class=\"advtoprail__button-submenu--open\">&rsaquo;</span><span class=\"advtoprail__button-submenu--close\">&lsaquo;</span></button>\\n                      \\n\\n\\n    <ul class=\"advtoprail__mainmenu-menulist--submenu js-submenu\">\\n      <li class=\"advtoprail__mainmenu-menuitem--submenu-backtomain\">\\n        <button class=\"advtoprail__button-mobile-backtomain js-button-backtomain\">\\n          <span class=\"advtoprail__button-icon--backmm\"></span>\\n          <span class=\"advtoprail__button-label--backmm\">Back To Main Menu</span>\\n        </button>\\n      </li>\\n        \\n            <li class=\"advtoprail__mainmenu-menuitem--submenu js-menuitem-submenu\">\\n                \\n                  <a class=\"advtoprail__mainmenu-menuitem-link js-mainmenu-link\" href=\"https://businessfinder.cleveland.com/\">Find A Business</a>\\n                \\n                \\n                </li>\\n        \\n            <li class=\"advtoprail__mainmenu-menuitem--submenu js-menuitem-submenu\">\\n                \\n                  <a class=\"advtoprail__mainmenu-menuitem-link js-mainmenu-link\" href=\"https://businessfinder.cleveland.com/OH-Cleveland/Food-and-Dining\">Food &amp; Dining</a>\\n                \\n                \\n                </li>\\n        \\n            <li class=\"advtoprail__mainmenu-menuitem--submenu js-menuitem-submenu\">\\n                \\n                  <a class=\"advtoprail__mainmenu-menuitem-link js-mainmenu-link\" href=\"https://businessfinder.cleveland.com/OH-Cleveland/Retail-Shopping\">Retail Shopping</a>\\n                \\n                \\n                </li>\\n        \\n            <li class=\"advtoprail__mainmenu-menuitem--submenu js-menuitem-submenu\">\\n                \\n                  <a class=\"advtoprail__mainmenu-menuitem-link js-mainmenu-link\" href=\"https://businessfinder.cleveland.com/OH-Cleveland/Health-and-Medicine\">Health &amp; Medicine</a>\\n                \\n                \\n                </li>\\n        \\n            <li class=\"advtoprail__mainmenu-menuitem--submenu js-menuitem-submenu\">\\n                \\n                  <a class=\"advtoprail__mainmenu-menuitem-link js-mainmenu-link\" href=\"https://businessfinder.cleveland.com/OH-Cleveland/Personal-Care-and-Well-Being\">Personal Care</a>\\n                \\n                \\n                </li>\\n        \\n            <li class=\"advtoprail__mainmenu-menuitem--submenu js-menuitem-submenu\">\\n                \\n                  <a class=\"advtoprail__mainmenu-menuitem-link js-mainmenu-link\" href=\"https://businessfinder.cleveland.com/OH-Cleveland/Entertainment-and-Arts\">Entertainment</a>\\n                \\n                \\n                </li>\\n        \\n            <li class=\"advtoprail__mainmenu-menuitem--submenu js-menuitem-submenu\">\\n                \\n                  <a class=\"advtoprail__mainmenu-menuitem-link js-mainmenu-link\" href=\"https://businessfinder.cleveland.com/OH-Cleveland/Real-Estate\">Real Estate</a>\\n                \\n                \\n                </li>\\n        \\n            <li class=\"advtoprail__mainmenu-menuitem--submenu js-menuitem-submenu\">\\n                \\n                  <a class=\"advtoprail__mainmenu-menuitem-link js-mainmenu-link\" href=\"https://businessfinder.cleveland.com/OH-Cleveland/Automotive\">Automotive</a>\\n                \\n                \\n                </li>\\n        \\n            <li class=\"advtoprail__mainmenu-menuitem--submenu js-menuitem-submenu\">\\n                \\n                  <a class=\"advtoprail__mainmenu-menuitem-link js-mainmenu-link\" href=\"https://businessfinder.cleveland.com/about/advertise.html\">Claim Your Business</a>\\n                \\n                \\n                </li>\\n        \\n    </ul>\\n\\n\\n                    \\n                  </li>\\n                \\n                  <li class=\"advtoprail__mainmenu-menuitem js-expandable\">\\n                    \\n                      <span class=\"advtoprail__mainmenu-menuitem-label\">Follow Us</span>\\n                    \\n                    \\n                      <button class=\"advtoprail__button-submenu js-button-mainmenu\" aria-label=\"Open the Follow Us submenu\" aria-expanded=\"false\"><span class=\"advtoprail__button-submenu--open\">&rsaquo;</span><span class=\"advtoprail__button-submenu--close\">&lsaquo;</span></button>\\n                      \\n\\n\\n    <ul class=\"advtoprail__mainmenu-menulist--submenu js-submenu\">\\n      <li class=\"advtoprail__mainmenu-menuitem--submenu-backtomain\">\\n        <button class=\"advtoprail__button-mobile-backtomain js-button-backtomain\">\\n          <span class=\"advtoprail__button-icon--backmm\"></span>\\n          <span class=\"advtoprail__button-label--backmm\">Back To Main Menu</span>\\n        </button>\\n      </li>\\n        \\n            <li class=\"menuSocial menuFacebookIcon advtoprail__mainmenu-menuitem--social-facebook js-menuitem-submenu\">\\n                \\n                  <a class=\"advtoprail__mainmenu-menuitem-link js-mainmenu-link\" href=\"https://www.facebook.com/pages/clevelandcom/48573742500\">Visit our Facebook Page</a>\\n                \\n                \\n                </li>\\n        \\n            <li class=\"menuSocial menuTwitterIcon advtoprail__mainmenu-menuitem--social-twitter js-menuitem-submenu\">\\n                \\n                  <a class=\"advtoprail__mainmenu-menuitem-link js-mainmenu-link\" href=\"https://twitter.com/clevelanddotcom\">Follow us on Twitter</a>\\n                \\n                \\n                </li>\\n        \\n            <li class=\"menuSocial menuGplusIcon advtoprail__mainmenu-menuitem--social-google js-menuitem-submenu\">\\n                \\n                  <a class=\"advtoprail__mainmenu-menuitem-link js-mainmenu-link\" href=\"https://plus.google.com/u/0/b/107235278707360504631/107235278707360504631/posts\">Visit us on Google Plus</a>\\n                \\n                \\n                </li>\\n        \\n    </ul>\\n\\n\\n                    \\n                  </li>\\n                \\n                \\n                    \\n                    <li class=\"advtoprail__mainmenu-menuitem--subscribe js-expandable\">\\n                        <span id=\"mainmenu-subscriptions\">Subscriptions</span>\\n                        <button class=\"advtoprail__button-submenu js-button-mainmenu\" aria-label=\"Open the subscriptions submenu\" aria-expanded=\"false\">&rsaquo;</button>\\n                        <ul class=\"advtoprail__mainmenu-menulist--submenu js-submenu\">\\n                        <li class=\"advtoprail__mainmenu-menuitem--submenu-backtomain\">\\n                            <button class=\"advtoprail__button-mobile-backtomain js-button-backtomain\">\\n                            <span class=\"advtoprail__button-icon--backmm\"></span>\\n                            <span class=\"advtoprail__button-label--backmm\">Back To Main Menu</span>\\n                            </button>\\n                        </li>\\n                        \\n                            <li class=\"advtoprail__mainmenu-menuitem--submenu\"><a class=\"advtoprail__mainmenu-menuitem-link\" data-value=\"\" href=\"https://members.plaindealer.com/dssSubscribe.aspx\">The Plain Dealer</a></li>\\n                        \\n                            <li class=\"advtoprail__mainmenu-menuitem--submenu\"><a class=\"advtoprail__mainmenu-menuitem-link\" data-value=\"\" href=\"https://members.plaindealer.com/dssSubscribe.aspx\">Sun News</a></li>\\n                        \\n                            <li class=\"advtoprail__mainmenu-menuitem--submenu\"><a class=\"advtoprail__mainmenu-menuitem-link\" data-value=\"\" href=\"https://members.plaindealer.com/\">Media Insider Rewards</a></li>\\n                        \\n                        </ul>\\n                    </li>\\n                    \\n                \\n              </ul>\\n            </div>\\n          </div>\\n        </div>\\n      </nav>\\n    </div>\\n    <div class=\"advtoprail__weather js-weather\">\\n      <button class=\"advtoprail__weather-button js-button-masthead js-button-weather\" aria-label=\"Find Your Local Weather Forecast\" aria-expanded=\"false\"  data-buttonname=\"weatherUnset\">\\n        <span class=\"advtoprail__weather-conditions js-weather-conditions\">\\n          <span class=\"advtoprail__weather-temperature js-weather-temperature\"></span>\\n        </span>\\n      </button>\\n      <div class=\"advtoprail__dropdown--weather js-dropdown\" role=\"dialog\" aria-hidden=\"true\" aria-expanded=\"false\">\\n        <div class=\"advtoprail__menuborderarrow--weather\"></div>\\n        <div class=\"advtoprail__dropdown-outer\">\\n          <div class=\"advtoprail__dropdown-inner--weather\" aria-live=\"polite\">\\n            <button class=\"advtoprail__button-mobile-backtomain js-button-backtomain\">\\n              <span class=\"advtoprail__button-icon--backmm\"></span>\\n              <span class=\"advtoprail__button-label--backmm\">Back To Main Menu</span>\\n            </button>\\n            <button class=\"advtoprail__button--close js-button-close\" aria-label=\"Close the Find Your Weather Forecast popup\">\\n              <span class=\"advtoprail__button-icon--close\">Close</span>\\n            </button>\\n            <div class=\"advtoprail__weather-details js-weather-form\">\\n              <div class=\"advtoprail__weather-title\">Customize Your Weather</div>\\n              <div class=\"advtoprail__weather-label\">Set Your Location:</div>\\n              <div class=\"advtoprail__weather-error js-setweather-error\"></div>\\n              <div class=\"aria-hidden\">Enter City and State or Zip Code</div>\\n              <input class=\"advtoprail__input js-setweather-input\" name=\"advtoprail__input\" type=\"text\" value=\"\" placeholder=\"Enter City and State or Zip Code\" />\\n              <input class=\"advtoprail__submit js-setweather-submit\" type=\"submit\" value=\"Submit\" />\\n            </div>\\n            <div class=\"advtoprail__weather-details js-weather-confirm\">\\n              <div class=\"advtoprail__weather-title\">Congratulations!</div>\\n              <div class=\"advtoprail__weather-label--confirm\">Your weather is set to <span class=\"js-chosen-location\"></span>. You can change the location at any time.</div>\\n              <input class=\"advtoprail__submit js-setweather-done\" type=\"button\" value=\"Done\" />\\n            </div>\\n            <div class=\"advtoprail__weather-details js-weather-forecast\">\\n              <div class=\"advtoprail__weather-subtitle\">AccuWeather.com Quick Look</div>\\n              <div class=\"advtoprail__weather-title js-weather-title\"></div>\\n              <button class=\"advtoprail__weather-button--change-location js-change-location\">Change your current location &raquo;</button>\\n              <div class=\"advtoprail__weather-forecast js-forecasts\">\\n                <div class=\"advtoprail__weather-forecast-period js-forecast-current\">\\n                  <span class=\"advtoprail__weather-forecast-label js-weather-forecast-label\">Current</span>\\n                  <span class=\"advtoprail__weather-forecast-highlow js-weather-forecast-highlow\"></span>\\n                  <span class=\"advtoprail__weather-forecast-temperature js-weather-forecast-temperature\"></span>\\n                  <span class=\"advtoprail__weather-forecast-condition js-weather-forecast-condition\"></span>\\n                </div>\\n                <div class=\"advtoprail__weather-forecast-period js-forecast-tonight\">\\n                  <span class=\"advtoprail__weather-forecast-label js-weather-forecast-label\">Tonight</span>\\n                  <span class=\"advtoprail__weather-forecast-highlow js-weather-forecast-highlow\"></span>\\n                  <span class=\"advtoprail__weather-forecast-temperature js-weather-forecast-temperature\"></span>\\n                  <span class=\"advtoprail__weather-forecast-condition js-weather-forecast-condition\"></span>\\n                </div>\\n                <div class=\"advtoprail__weather-forecast-period js-forecast-tomorrow\">\\n                  <span class=\"advtoprail__weather-forecast-label js-weather-forecast-label\">Tomorrow</span>\\n                  <span class=\"advtoprail__weather-forecast-highlow js-weather-forecast-highlow\"></span>\\n                  <span class=\"advtoprail__weather-forecast-temperature js-weather-forecast-temperature\"></span>\\n                  <span class=\"advtoprail__weather-forecast-condition js-weather-forecast-condition\"></span>\\n                </div>\\n              </div>\\n              <button class=\"advtoprail__weather-button-fullreport js-button-fullreport\">View Full Weather Report</button>\\n            </div>\\n          </div>\\n        </div>\\n      </div>\\n    </div>\\n    <div class=\"adunit nomobilead\" id=\"TopRail_Sponsor\"></div>\\n  </div>\\n  \\n  <div class=\"advtoprail__masthead js-masthead\">\\n    <div class=\"advtoprail__masthead-logo js-masthead-logo\">\\n      <a class=\"advtoprail__masthead-afflink\" href=\"http://www.cleveland.com/\" aria-label=\"Visit the Cleveland.com homepage\">\\n        <span class=\"advtoprail__iconlabel--hidden\">Cleveland.com</span>\\n      </a>\\n      \\n    </div>\\n  </div>\\n  <div class=\"advtoprail__right-corner\">\\n    \\n      \\n        <button class=\"advtoprail__button-subscribe js-button-masthead\" aria-label=\"View all of Cleveland.com\\'s\\' available newspaper subscriptions and email newsletters\" aria-expanded=\"false\"  data-buttonname=\"subscription\">\\n            <div class=\"advtoprail__button-subscribe-label\">Subscribe</div>\\n        </button>\\n        <div class=\"advtoprail__dropdown js-dropdown\" role=\"dialog\" aria-hidden=\"true\" aria-expanded=\"false\">\\n            <div class=\"advtoprail__menuborderarrow\"></div>\\n            <div class=\"advtoprail__dropdown-outer\">\\n            <div class=\"advtoprail__dropdown-inner\">\\n                <ul class=\"advtoprail__subscription-menulist\">\\n                \\n                    <li class=\"advtoprail__subscription-menuitem\"><a class=\"advtoprail__subscription-link js-subscription-link\" href=\"https://members.plaindealer.com/dssSubscribe.aspx\" aria-label=\"Subscribe to The Plain Dealer\">The Plain Dealer</a></li>\\n                \\n                    <li class=\"advtoprail__subscription-menuitem\"><a class=\"advtoprail__subscription-link js-subscription-link\" href=\"https://members.plaindealer.com/dssSubscribe.aspx\" aria-label=\"Subscribe to Sun News\">Sun News</a></li>\\n                \\n                    <li class=\"advtoprail__subscription-menuitem\"><a class=\"advtoprail__subscription-link js-subscription-link\" href=\"https://members.plaindealer.com/\" aria-label=\"Subscribe to Media Insider Rewards\">Media Insider Rewards</a></li>\\n                \\n                </ul>\\n            </div>\\n            </div>\\n        </div>\\n      \\n    \\n    <button class=\"advtoprail__button--account js-button-account\" aria-expanded=\"false\" aria-label=\"Sign in to Cleveland.com\">\\n        <span class=\"advtoprail__button-icon--account\"></span>\\n        <span class=\"advtoprail__iconlabel\">Sign In</span>\\n    </button>\\n    <div class=\"advtoprail__dropdown-user js-dropdown-user\" role=\"dialog\" aria-hidden=\"true\" aria-expanded=\"false\">\\n      <button class=\"advtoprail__button--close js-button-close js-button-account-close\">\\n        <span class=\"advtoprail__button-icon--close\" aria-label=\"Close the User Account section\">Close</span>\\n      </button>\\n      <img class=\"advtoprail__user-profile-image js-account-image\" alt=\"User Profile\"/>\\n      <div class=\"advtoprail__user-profile-nameplate js-account-name\">\\n        You are signed in as<br/>\\n      </div>\\n      <div class=\"advtoprail__user-profile-links\">\\n        <a class=\"advtoprail__link--account-profile js-edit-profile\" aria-label=\"View your public profile\">Public Profile</a>\\n        <a class=\"advtoprail__link--account-edit js-button-edit\" aria-label=\"Edit your profile\">Edit Profile</a>\\n        \\n        <a class=\"advtoprail__link--account-signout js-edit-signout\">Sign Out</a>\\n      </div>\\n    </div>\\n    <button class=\"advtoprail__button--search js-button-search\" id=\"adv_search\" aria-expanded=\"false\" aria-label=\"Search Cleveland.com\">\\n        <span class=\"advtoprail__button-icon--search\"></span>\\n        <span class=\"advtoprail__iconlabel\">Search</span>\\n    </button>\\n  </div>\\n</header>\\n\\n\\n<!-- /toprail -->\\n\\n\\t\\t\\n\\t\\t\\t\\n\\t\\t\\t\\t\\n\\t\\t\\t\\n\\t\\t\\n\\t\\n\\n\\n<!-- ./templates/global/shared/nav/masthead.mtml end -->\\n\\n\\t\\t<!-- End Masthead -->\\n\\n\\t\\t\\n\\t\\t\\t\\n\\t\\t\\t\\n\\t\\n\\t\\n    \\n    \\n    \\n    \\n\\n\\n\\n\\r\\n\\r\\n\\r\\n\\t\\r\\n\\t\\r\\n\\t\\r\\n\\n\\n\\t\\t\\t\\t\\t\\t\\t\\t\\t\\t\\t\\t\\t\\t\\t\\t\\t\\t\\t\\t\\t\\t\\t\\t\\t\\t\\t\\t\\t\\n<div class=\"wrapper\">\\n    <main class=\"main\" role=\"main\" aria-live=\"polite\">\\n        <article id=\"article\" data-article-id=\"21622286\" class=\"article h-entry\">\\n            <header id=\"article__header\" class=\"article__header\">\\n                <nav id=\"articleLabel\" class=\"articleLabel\" aria-label=\"articleLabel\">\\n                    <ol id=\"articleLabel__list\" class=\"articleLabel__list\">\\n                        <li id=\"articleLabel__listItem\" class=\"articleLabel__listItem\">\\n                            <a id=\"articleLabel__link\" href=\"http://www.cleveland.com/metro/index.ssf/\" title=\"Navigate to Metro News\">Metro News</a>\\n                        </li>\\n                    </ol>\\n                </nav>\\n                \\n                <h1 id=\"articleHeadline\" class=\"p-name\">Case Western Reserve University President Barbara Snyder\\'s base salary and bonus pay tops among private colleges in Ohio </h1>\\n                <div id=\"dateline\" class=\"dateline\">\\n                    \\n                    <span class=\"dateline__updated\">Updated <time datetime=\"2017-12-12T01:42:32Z\" aria-label=\"Article updated date and time\">December 11, 2017 at  9:42 PM</time>;</span>\\n                    \\n                    <span class=\"dateline__published\">Posted <time datetime=\"2017-12-10T22:00:00Z\" aria-label=\"Article published date and time\">December 10, 2017 at  6:00 PM</time></span>\\n                </div>\\n                <figure class=\"article__mmm article__mmm--photo\"><div class=\"mmm__wrapper\"><div class=\"mmm__image-wrapper\"><img srcset=\"http://image.cleveland.com/home/cleve-media/width328/img/plain_dealer_metro/photo/cwrus-snyder-tops-pay-scale-highest-paid-of-ohio-private-college-chiefs-at-over-1m-yearly-581ba32ba99d75e9.jpg 328w,\\n                         http://image.cleveland.com/home/cleve-media/width480/img/plain_dealer_metro/photo/cwrus-snyder-tops-pay-scale-highest-paid-of-ohio-private-college-chiefs-at-over-1m-yearly-581ba32ba99d75e9.jpg 480w,\\n                         http://image.cleveland.com/home/cleve-media/width600/img/plain_dealer_metro/photo/cwrus-snyder-tops-pay-scale-highest-paid-of-ohio-private-college-chiefs-at-over-1m-yearly-581ba32ba99d75e9.jpg 600w,\\n                         http://image.cleveland.com/home/cleve-media/width960/img/plain_dealer_metro/photo/cwrus-snyder-tops-pay-scale-highest-paid-of-ohio-private-college-chiefs-at-over-1m-yearly-581ba32ba99d75e9.jpg 960w\"\\n                    sizes=\"(min-width: 980px) 533px,\\n                        (min-width: 600px) 91vw,\\n                        100vw\" \\n                    src=\"http://image.cleveland.com/home/cleve-media/width600/img/plain_dealer_metro/photo/cwrus-snyder-tops-pay-scale-highest-paid-of-ohio-private-college-chiefs-at-over-1m-yearly-581ba32ba99d75e9.jpg\" alt=\"Case Western Reserve University President Barbara Snyder\\'s base pay and bonus for 2015 ranked her first among private college presidents in Ohio. \"></div><figcaption class=\"mmm__caption\" id=\"mmm__caption\">Case Western Reserve University President Barbara Snyder\\'s base pay and bonus for 2015 ranked her first among private college presidents in Ohio. (<cite>John Kuntz, cleveland.com</cite>)\\n            </figcaption></div></figure>\\n    \\n\\n\\n                <!-- Comment Bubble and Gigya Sharebar -->\\n                <div id=\"article__commentBubble-socialShare\" class=\"article__commentBubble-socialShare\">\\n                    <div id=\"commentBubble__container\" class=\"commentBubble__container\">\\n                        <button id=\"commentBubble\" class=\"commentBubble commentBubble--noComments\">\\n                        <span id=\"commentBubbleSpan\" class=\"commentBubbleSpan\" data-type=\"commentBubble\">Comment</span>\\n                        </button>\\n                    </div>\\n                <div id=\"social_21622286\" class=\"adi-share-auto\" data-layout=\"horizontal\" data-link=\"https://www.cleveland.com/metro/index.ssf/2017/12/case_western_reserve_university_president_barbara_snyders_base_salary_and_bonus_pay_tops_among_private_colleges_in_ohio.html\" data-title=\"Case Western Reserve University President Barbara Snyder\\'s base salary and bonus pay tops among private colleges in Ohio \" data-thumbnail=\"http://media.cleveland.com/plain_dealer_metro/photo/23873711-standard.jpg\"></div>\\n                </div>\\n                \\n\\n\\n\\n\\n\\n\\n<div id=\"byline\" class=\"byline\">\\n    <p id=\"byline__author\" class=\"byline__author\">By <a id=\"byline__authorLink\" href=\"http://connect.cleveland.com/staff/kfarkas/posts.html\" title=\"Visit Karen Farkas, cleveland.com\\'s Author Page\">Karen Farkas, cleveland.com</a></p>\\n    \\n        <p id=\"byline__authorEmail\" class=\"byline__authorEmail\"><a id=\"byline__authorEmailLink\" href=\"mailto:kfarkas@cleveland.com \" title=\"Email Karen Farkas, cleveland.com\">kfarkas@cleveland.com </a></p>\\n    \\n    \\n        \\n    \\n</div><!-- /Byline -->\\n\\n            </header>\\n            <div id=\"article__story\" class=\"article__story\">\\n                <!-- Article -->\\n    <div id=\"entryContent\" class=\"entry-content\">\\n        <p>CLEVELAND, Ohio -&nbsp;<a href=\"http://www.case.edu/\">Case Western Reserve University&nbsp;</a>President Barbara Snyder\\'s $700,312 base pay and $175,000 bonus in 2015 again made her the highest paid private college leader in Ohio, according to an annual report.</p>\\n<p>Nationally, Snyder\\'s total compensation of $1.154 million, which can include deferred compensation and other pay, ranked 41st out of 541 presidents of private colleges according to the report by the&nbsp;<a href=\"http://chronicle.com/\">Chronicle of Higher Education.</a></p>\\n<p>She is among 58 presidents to earn $1 million or more. The previous year, 39 private college presidents earned more than $1 million.</p>\\n<p>The Chronicle\\'s <a href=\"https://www.chronicle.com/interactives/executive-compensation#id=table_private_2015\">compensation tables </a>come from a review of federal tax documents from the 2015 calendar year, the most recent available.&nbsp;</p>\\n<p>Former University of Dayton President&nbsp;Daniel Curran, who left in 2016, ranked eighth in the U.S. with a total compensation of $2.44 million, but $1.66 million of that was in other pay, which was likely deferred compensation awarded after he announced his retirement. His total pay in 2014 was $771,354.</p>\\n<p>Following is total compensation for other presidents at private colleges in Ohio in 2015:</p>\\n<ul>\\n<li>Grant Cornwell, College of Wooster (left in 2015): $911,651</li>\\n<li>Marvin Krislov, Oberlin College (left in 2016): &nbsp;$829,913</li>\\n<li>Mark Roosevelt, Antioch College, (left in 2015): $507,672</li>\\n<li>Laurie Joyner, Wittenberg University (left in 2015): $463,504</li>\\n<li>Richard Giese, University of Mount Union (left in 2015): $453,800</li>\\n<li>Sean Decatur,Kenyon College: $451,698</li>\\n<li>Adam Weinberg, Denison University: $435,322</li>\\n<li>Daniel Dibiasio, Ohio Northern University: $414,716</li>\\n<li>Denvy Bowman, Capital University (left in 2016): $388,570</li>\\n<li>Anne Steele, Muskingum University (left in 2016): $384,233</li>\\n<li>Kathy Krendl, Otterbein University: &nbsp;$378,035</li>\\n<li>Rockwell Jones, Ohio Wesleyan University: $366,625</li>\\n<li>Robert Helmer, Baldwin Wallace University: $365,616</li>\\n<li>Robert Huntington, Heidelberg University: $300,005</li>\\n<li>Lori Varlotta, Hiram College: $293,336</li>\\n<li>Joseph Bruno, Marietta College (left in 2016): $288,295</li>\\n<li>W. Richard Merriman Jr., University of Mount Union (started in June 2015): $221,761</li>\\n</ul>\\n<p>The Rev. Robert Niehoff, president of John Carroll University (retired in 2017), Rev. Sean Sheridan of &nbsp;Franciscan University of Steubenville and Rev. Michael Graham Xavier University do not take salaries.</p>\\n<p>See the full list of presidents at&nbsp;<a href=\"http://www.chronicle.com/compensation\">chronicle.com/compensation.</a></p>\\n<p>The Chronicle\\'s list of pay for public college presidents was released in July.</p>\\n<p><a href=\"http://www.cleveland.com/metro/index.ssf/2017/06/ohio_state_university_presiden_6.html\">Ohio State University President Michael Drake is 7th highest paid U.S. public college president</a></p>\\n<p>Ohio State President Michael Drake, with a total compensation of $1.03 million, was one of eight presidents who earned $1 million or more in the 2015-16 fiscal year.</p>\\n<p>But when compared to Ohio State\\'s 2014 annual $5.2 billion operating budget, Drake\\'s pay per million in expenses is $199 -- among the lowest for presidents.</p>\\n<p>By comparison, Cleveland State University President Ronald Berkman, whose total compensation was $641,817, oversaw an annual operating budget of $300.3 million in 2014. His pay per million in expenses was $2,127.</p>\\n<p>Kent State University President Beverly Warren\\'s pay per million in expenses was $1,006. Her total compensation was $560,659 and she oversaw an annual operating budget of $557.4 million in 2014.&nbsp;</p>\\n<p>The<a href=\"http://www.chronicle.com/interactives/executive-compensation\">&nbsp;Chronicle\\'s analysis&nbsp;</a>was based on 254 presidents from 221 colleges.</p>\\n<p>According to the Chronicle:</p>\\n<ul>\\n<li>The average pay of private college presidents who served the full year in 2015 was $569,932, up 9 percent over presidents who served a full year in 2014.</li>\\n<li>Nine of the 10 highest-paid chief executives earned more from bonuses and deferred compensation than they did from base salaries.</li>\\n<li>The analysis is based on the latest available federal tax filings of the 500 private, nonprofit colleges with the largest endowments. The data include compensation figures for 568 presidents who served at 500 institutions for all or part of 2015. There were 352 presidents who served all of 2014 and 2015.</li>\\n<li>The number of presidents earning over $1 million is attributed, in part, to a market where presidents are negotiating more deferred compensation and bonus packages before they take the job.</li>\\n<li>The top two earners, Wake Forest University President Nathan Hatch ($4 million) and former Emory University President James Wagner ($3.5 million) were each paid more than $2 million in deferred compensation in 2015.</li>\\n</ul>\\n<p>The Chronicle also compares pay to presidents in context of their colleges, including looking at each institution\\'s expenses, average tuition and fees and professor salaries.</p>\\n        \\n        \\n    </div>\\n<!-- /Article -->\\n\\n                <div id=\"article__footer\" class=\"article__footer\">\\n                    <button id=\"commentButton\" class=\"commentButton\" type=\"button\">View Comments</button>\\n                </div>\\n            </div>\\n        </article>\\n    </main>\\n    <div id=\"sidebar\" class=\"sidebar\"></div>\\n</div>\\n<script type=\"text/javascript\">\\n    /* <![CDATA[ */\\n    if (window.location.host.substr(0,6) == \"photos\" ) {\\n        var arcs_page_template = \\'gallery\\';\\n    } else {\\n        var arcs_page_template = \\'article\\';\\n    }\\n    /* ]]> */\\n</script>\\n\\n  \\n\\n\\n\\n\\t\\t\\n\\n\\t\\t\\n\\t\\t<!-- ./templates/global/shared/nav/footer.mtml start -->\\n<br />\\n\\n\\n\\t\\n    \\n\\t\\n\\n  <footer id=\"footer\">\\n    <div class=\"wrapper clearfix\">\\n\\n        <div id=\"footer-logos\">\\n            <img src=\"//static.advance.net/static/cleve/static/img/footer-logo-cleve-inc.png\" alt=\"cleveland.com an advance Ohio platform in partnership with The Plain Dealer\">\\n        </div>\\n\\n        \\n            <div id=\"footer-col-1\" class=\"footer-col\">\\n                \\n                    <div class=\"cluster clearfix\">\\n                        <h2>About Us</h2>\\n\\n                        \\n                            <ul  >\\n                                \\n                                    <li class=\"\" style=\"\">\\n                                        \\n                                            <a href=\"https://www.cleveland.com/about-us/\">About Cleveland.com</a>\\n                                        \\n                                    </li>\\n                                \\n                                    <li class=\"\" style=\"\">\\n                                        \\n                                            <a href=\"https://www.advance-ohio.com/about/\">About Advance Ohio</a>\\n                                        \\n                                    </li>\\n                                \\n                                    <li class=\"\" style=\"\">\\n                                        \\n                                            <a href=\"https://www.advance-ohio.com/contact\">Advertise with us</a>\\n                                        \\n                                    </li>\\n                                \\n                                    <li class=\"\" style=\"\">\\n                                        \\n                                            <a href=\"https://www.advance.net/faqs/\">Audience FAQ</a>\\n                                        \\n                                    </li>\\n                                \\n                            </ul>\\n                        \\n                            <ul   aria-label=\"More from About Us\" >\\n                                \\n                                    <li class=\"\" style=\"\">\\n                                        \\n                                            <a href=\"https://www.cleveland.com/contactus/\">Contact Us</a>\\n                                        \\n                                    </li>\\n                                \\n                                    <li class=\"\" style=\"\">\\n                                        \\n                                            <a href=\"https://sjobs.brassring.com/TGWebHost/home.aspx?partnerid=26212&amp;siteid=5254\">Career Opportunities</a>\\n                                        \\n                                    </li>\\n                                \\n                                    <li class=\"\" style=\"\">\\n                                        \\n                                            <a href=\"https://blog.cleveland.com/updates/2009/08/community_faq.html\">Community FAQ</a>\\n                                        \\n                                    </li>\\n                                \\n                            </ul>\\n                        \\n                    </div>\\n                \\n                    <div class=\"cluster clearfix\">\\n                        <h2>Subscribe</h2>\\n\\n                        \\n                            <ul class=\"full-width\" >\\n                                \\n                                    <li class=\"\" style=\"\">\\n                                        \\n                                            <a href=\"https://members.plaindealer.com/dssSubscribe.aspx\">The Plain Dealer</a>\\n                                        \\n                                    </li>\\n                                \\n                                    <li class=\"\" style=\"\">\\n                                        \\n                                            <a href=\"https://members.plaindealer.com/dssSubscribe.aspx\">Sun News</a>\\n                                        \\n                                    </li>\\n                                \\n                                    <li class=\"\" style=\"\">\\n                                        \\n                                            <a href=\"https://www.cleveland.com/newsletters/\">eNewsletters</a>\\n                                        \\n                                    </li>\\n                                \\n                            </ul>\\n                        \\n                    </div>\\n                \\n                    <div class=\"cluster clearfix\">\\n                        <h2>Subscriber Service</h2>\\n\\n                        \\n                            <ul class=\"full-width\" >\\n                                \\n                                    <li class=\"\" style=\"\">\\n                                        \\n                                            <a href=\"https://members.plaindealer.com/\">Media Insider Rewards</a>\\n                                        \\n                                    </li>\\n                                \\n                                    <li class=\"\" style=\"\">\\n                                        \\n                                            <a href=\"https://members.plaindealer.com/login.aspx?ReturnUrl=%2fSecurePage%2fMyProfile.aspx\">View My Profile</a>\\n                                        \\n                                    </li>\\n                                \\n                                    <li class=\"\" style=\"\">\\n                                        \\n                                            <a href=\"https://benefits.plaindealer.com/plain-dealer-retail-rack-buy/\">Pick up The Plain Dealer</a>\\n                                        \\n                                    </li>\\n                                \\n                                    <li class=\"\" style=\"\">\\n                                        \\n                                            <a href=\"https://members.plaindealer.com/login.aspx?ReturnUrl=%2fSecurePage%2fMissedPaper.aspx\">Report a Delivery Issue</a>\\n                                        \\n                                    </li>\\n                                \\n                                    <li class=\"\" style=\"\">\\n                                        \\n                                            <a href=\"https://members.plaindealer.com/login.aspx?ReturnUrl=%2fSecurePage%2fVacationStop.aspx\">Place a Vacation Hold</a>\\n                                        \\n                                    </li>\\n                                \\n                                    <li class=\"\" style=\"\">\\n                                        \\n                                            <a href=\"https://members.plaindealer.com/login.aspx?ReturnUrl=%2fSecurePage%2fPayment.aspx\">Make a Payment</a>\\n                                        \\n                                    </li>\\n                                \\n                                    <li class=\"\" style=\"\">\\n                                        \\n                                            <a href=\"mailto:circhelp@plaindealer.com\">Email The Plain Dealer</a>\\n                                        \\n                                    </li>\\n                                \\n                            </ul>\\n                        \\n                    </div>\\n                \\n            </div>\\n        \\n            <div id=\"footer-col-2\" class=\"footer-col\">\\n                \\n                    <div class=\"cluster clearfix\">\\n                        <h2>Cleveland.com Sections</h2>\\n\\n                        \\n                            <ul  >\\n                                \\n                                    <li class=\"\" style=\"\">\\n                                        \\n                                            <a href=\"https://www.cleveland.com/news/\">News</a>\\n                                        \\n                                    </li>\\n                                \\n                                    <li class=\"\" style=\"\">\\n                                        \\n                                            <a href=\"https://www.cleveland.com/sports/\">Sports</a>\\n                                        \\n                                    </li>\\n                                \\n                                    <li class=\"\" style=\"\">\\n                                        \\n                                            <a href=\"https://www.cleveland.com/entertainment/\">Entertainment</a>\\n                                        \\n                                    </li>\\n                                \\n                                    <li class=\"\" style=\"\">\\n                                        \\n                                            <a href=\"https://www.cleveland.com/business\">Business</a>\\n                                        \\n                                    </li>\\n                                \\n                                    <li class=\"\" style=\"\">\\n                                        \\n                                            <a href=\"https://www.cleveland.com/open/\">Politics</a>\\n                                        \\n                                    </li>\\n                                \\n                                    <li class=\"\" style=\"\">\\n                                        \\n                                            <a href=\"https://www.cleveland.com/opinion/\">Opinion</a>\\n                                        \\n                                    </li>\\n                                \\n                                    <li class=\"\" style=\"\">\\n                                        \\n                                            <a href=\"https://highschoolsports.cleveland.com/\">High School Sports</a>\\n                                        \\n                                    </li>\\n                                \\n                                    <li class=\"\" style=\"\">\\n                                        \\n                                            <a href=\"https://www.cleveland.com/living/\">Living</a>\\n                                        \\n                                    </li>\\n                                \\n                            </ul>\\n                        \\n                            <ul   aria-label=\"More from Cleveland.com Sections\" >\\n                                \\n                                    <li class=\"\" style=\"\">\\n                                        \\n                                            <a href=\"https://obits.cleveland.com/Cleveland/DeathNotices.asp\">Obituaries</a>\\n                                        \\n                                    </li>\\n                                \\n                                    <li class=\"\" style=\"\">\\n                                        \\n                                            <a href=\"https://www.cleveland.com/jobs/\">Jobs</a>\\n                                        \\n                                    </li>\\n                                \\n                                    <li class=\"\" style=\"\">\\n                                        \\n                                            <a href=\"https://autos.cleveland.com/\">Autos</a>\\n                                        \\n                                    </li>\\n                                \\n                                    <li class=\"\" style=\"\">\\n                                        \\n                                            <a href=\"https://realestate.cleveland.com/\">Real Estate</a>\\n                                        \\n                                    </li>\\n                                \\n                                    <li class=\"\" style=\"\">\\n                                        \\n                                            <a href=\"https://realestate.cleveland.com/for-rent\">Rentals</a>\\n                                        \\n                                    </li>\\n                                \\n                                    <li class=\"\" style=\"\">\\n                                        \\n                                            <a href=\"https://classifieds.cleveland.com/\">Classifieds</a>\\n                                        \\n                                    </li>\\n                                \\n                                    <li class=\"\" style=\"\">\\n                                        \\n                                            <a href=\"http://findnsave.cleveland.com/\">Shopping Deals and Coupons</a>\\n                                        \\n                                    </li>\\n                                \\n                                    <li class=\"\" style=\"\">\\n                                        \\n                                            <a href=\"https://businessfinder.cleveland.com/\">Local Businesses</a>\\n                                        \\n                                    </li>\\n                                \\n                                    <li class=\"\" style=\"\">\\n                                        \\n                                            <a href=\"https://www.cleveland.com/newsletters/\">Deals in Your Area</a>\\n                                        \\n                                    </li>\\n                                \\n                            </ul>\\n                        \\n                    </div>\\n                \\n                    <div class=\"cluster clearfix\">\\n                        <h2>Your Regional News Pages</h2>\\n\\n                        \\n                            <ul  >\\n                                \\n                                    <li class=\"\" style=\"\">\\n                                        \\n                                            <a href=\"https://www.cleveland.com/beachwood\">Beachwood</a>\\n                                        \\n                                    </li>\\n                                \\n                                    <li class=\"\" style=\"\">\\n                                        \\n                                            <a href=\"https://www.cleveland.com/brunswick\">Brunswick</a>\\n                                        \\n                                    </li>\\n                                \\n                                    <li class=\"\" style=\"\">\\n                                        \\n                                            <a href=\"https://www.cleveland.com/lakewood\">Lakewood</a>\\n                                        \\n                                    </li>\\n                                \\n                            </ul>\\n                        \\n                            <ul   aria-label=\"More from Your Regional News Pages\" >\\n                                \\n                                    <li class=\"\" style=\"\">\\n                                        \\n                                            <a href=\"https://www.cleveland.com/parma\">Parma &amp; Parma Heights</a>\\n                                        \\n                                    </li>\\n                                \\n                                    <li class=\"\" style=\"\">\\n                                        \\n                                            <a href=\"https://www.cleveland.com/strongsville\">Strongsville</a>\\n                                        \\n                                    </li>\\n                                \\n                                    <li class=\"\" style=\"\">\\n                                        \\n                                            <a href=\"https://www.cleveland.com/community\">More Communities</a>\\n                                        \\n                                    </li>\\n                                \\n                            </ul>\\n                        \\n                    </div>\\n                \\n                    <div class=\"cluster clearfix\">\\n                        <h2>Mobile</h2>\\n\\n                        \\n                            <ul class=\"full-width\" >\\n                                \\n                                    <li class=\"\" style=\"\">\\n                                        \\n                                            <a href=\"https://www.cleveland.com/mobile-device/\">Mobile Apps</a>\\n                                        \\n                                    </li>\\n                                \\n                            </ul>\\n                        \\n                    </div>\\n                \\n            </div>\\n        \\n            <div id=\"footer-col-3\" class=\"footer-col\">\\n                \\n                    <div class=\"cluster clearfix\">\\n                        <h2>More on Cleveland.com</h2>\\n\\n                        \\n                            <ul  >\\n                                \\n                                    <li class=\"\" style=\"\">\\n                                        \\n                                            <a href=\"https://www.youtube.com/channel/UCJkc1COQO0WiZ2CI7dRdwAQ\">Videos</a>\\n                                        \\n                                    </li>\\n                                \\n                                    <li class=\"\" style=\"\">\\n                                        \\n                                            <a href=\"http://photos.cleveland.com/\">Photos</a>\\n                                        \\n                                    </li>\\n                                \\n                                    <li class=\"\" style=\"\">\\n                                        \\n                                            <a href=\"https://www.cleveland.com/interact/\">Interact with us</a>\\n                                        \\n                                    </li>\\n                                \\n                                    <li class=\"\" style=\"\">\\n                                        \\n                                            <a href=\"https://www.cleveland.com/weather/\">Weather</a>\\n                                        \\n                                    </li>\\n                                \\n                            </ul>\\n                        \\n                            <ul   aria-label=\"More from More on Cleveland.com\" >\\n                                \\n                                    <li class=\"\" style=\"\">\\n                                        \\n                                            <a href=\"https://jobs.cleveland.com/login\">Post a job</a>\\n                                        \\n                                    </li>\\n                                \\n                                    <li class=\"\" style=\"\">\\n                                        \\n                                            <a href=\"https://www.cleveland.com/placead/\">Post a classified ad</a>\\n                                        \\n                                    </li>\\n                                \\n                                    <li class=\"\" style=\"\">\\n                                        \\n                                            <a href=\"https://www.cleveland.com/placead/\">Sell your car</a>\\n                                        \\n                                    </li>\\n                                \\n                                    <li class=\"\" style=\"\">\\n                                        \\n                                            <a href=\"https://www.cleveland.com/placead/\">Sell/rent your home</a>\\n                                        \\n                                    </li>\\n                                \\n                                    <li class=\"\" style=\"\">\\n                                        \\n                                            <a href=\"https://www.cleveland.com/siteindex\">Sitemap &amp; search</a>\\n                                        \\n                                    </li>\\n                                \\n                                    <li class=\"\" style=\"\">\\n                                        \\n                                            <a href=\"https://www.cleveland.com/sponsor-content-index/?prx_adpz=1109\">Sponsor Content</a>\\n                                        \\n                                    </li>\\n                                \\n                            </ul>\\n                        \\n                    </div>\\n                \\n                    <div class=\"cluster clearfix\">\\n                        <h2>Follow Us</h2>\\n\\n                        \\n                            <ul class=\"full-width\" >\\n                                \\n                                    <li class=\"\" style=\"\">\\n                                        \\n                                            <a href=\"https://twitter.com/clevelanddotcom\" class=\"adv-icn-twitter icn-link\">Twitter</a> |  <a href=\"https://www.facebook.com/pages/clevelandcom/48573742500\" class=\"adv-icn-facebook icn-link\">Facebook</a> |  <a href=\"https://plus.google.com/u/0/b/107235278707360504631/107235278707360504631/posts\" class=\"adv-icn-google icn-link\">Google+</a> | <a class=\"adv-icn-instagram icn-link\" href=\"https://instagram.com/clevelanddotcom\">Instagram</a> |  <a class=\"adv-icn-pinterest icn-link\" href=\"https://www.pinterest.com/clevelanddotcom/\">Pinterest</a>\\n                                        \\n                                    </li>\\n                                \\n                            </ul>\\n                        \\n                    </div>\\n                \\n            </div>\\n        \\n\\n    </div>\\n\\n    <div id=\"disclaimer\">\\n        <a href=\"https://www.advancelocal.com/\" id=\"AdvanceDigitalLogo\">Advance Local</a>\\n        <p>\\n            Use of and/or registration on any portion of this site constitutes acceptance of our\\n            <a href=\"https://www.cleveland.com/user-agreement/\">User Agreement</a> (updated 5/25/18) and\\n            <a href=\"https://www.cleveland.com/privacy-policy/\">Privacy Policy and Cookie Statement</a> (updated 5/25/18).\\n        </p>\\n        <p>\\n            &copy; 2018  Advance Local Media LLC. All rights reserved (<a href=\"https://www.cleveland.com/aboutus/\">About Us</a>).<br>\\n            The material on this site may not be reproduced, distributed, transmitted, cached or otherwise used, except with the \\n            prior written permission of Advance Local.\\n        </p>\\n        <p>\\n            <a href=\"https://www.cleveland.com/communityrules\">Community Rules</a>\\n            apply to all content you upload or otherwise submit to this site.\\n        </p>\\n        <p>\\n            <a href=\"/privacy-policy/#california_top\">Your California Privacy Rights</a>\\n        </p>\\n        <p>\\n            <a href=\"https://www.cleveland.com/privacy-policy/#oba_top\">\\n            <img src=\"//static.advance.net/static/common/img/ad_choices_arrow_transparent.png\" alt=\"\"> Ad Choices</a>\\n        </p>\\n    </div>\\n</footer>\\n\\n  \\n  <!-- this is no longer used for site catalyst -->\\n\\n\\n\\t\\n\\n\\n\\n<!-- ./templates/global/shared/nav/footer.mtml end -->\\n\\n\\n\\t\\t\\n\\t\\t<!-- Quantcast Tag moved to bottom_1 -->\\r\\n\\n\\t\\t\\n\\t\\t<!-- Nielsen code moved to bottom1 -->\\r\\n\\n\\n\\t\\t\\n\\t\\t\\t\\n\\t\\t\\t\\t\\n\\t\\t\\t\\t<script type=\"text/javascript\" >\\n\\t\\t\\t\\t/* <![CDATA[ */\\n\\t\\t\\t\\t\\n \\t\\t\\t\\t\\n\\n\\t\\n\\n\\n\\t\\n\\n\\n\\t\\twindow.m_context = \"blog_entry\";\\n\\t\\n\\t\\t\\twindow.m_blog_type = \"text\";\\n\\t\\t\\twindow.m_blog_id = \"8002316\";\\n\\t\\t\\twindow.m_blog_name = \"Metro News\";\\n\\t\\t\\twindow.m_blog_url = \"http://www.cleveland.com/metro/index.ssf/\";\\n\\t\\t\\twindow.m_blog_newspaper = \"The Plain Dealer\";\\n\\t\\t\\twindow.m_section = \"News\";\\n\\t\\t\\twindow.m_subsection = \"\";\\n\\t\\n\\t\\n\\t\\t\\n\\t\\t\\t\\twindow.m_entry_title = \"Case Western Reserve University President Barbara Snyder\\\\\\'s base salary and bonus pay tops among private colleges in Ohio \";\\n\\t\\t\\t\\twindow.m_entry_categories = \"\";\\n\\t\\t\\t\\twindow.m_entry_author_name = \"Karen Farkas, cleveland.com\";\\n\\t\\t\\t\\twindow.m_entry_author_username = \"kfarkas\";\\n\\t\\t\\t\\twindow.m_entry_author_public_email = \"kfarkas@cleveland.com \";\\n\\t\\t\\t\\twindow.m_entry_creation_date = \"Sunday, December 10, 2017,  6:00 PM\";\\n\\t\\t\\t\\twindow.m_entry_wordcount = \"672\";\\n\\n\\t\\t\\t\\n\\t\\t\\t\\n\\t\\t\\t\\t\\n\\t\\t\\t\\t\\t\\twindow.m_page_type = \\'cal\\';\\n\\t\\t\\t\\t\\twindow.moat_section = window.m_page_type;\\n\\t\\t\\t\\t\\n\\t\\t\\t\\n\\t\\t\\n\\t\\t\\twindow.m_entry_basename = \"case_western_reserve_university_president_barbara_snyders_base_salary_and_bonus_pay_tops_among_private_colleges_in_ohio\";\\n\\t\\t\\twindow.m_entry_link = \"http://www.cleveland.com/metro/index.ssf/2017/12/case_western_reserve_university_president_barbara_snyders_base_salary_and_bonus_pay_tops_among_private_colleges_in_ohio.html\";\\n\\t\\t\\twindow.m_entry_tags = \"@fbia;@real-time-news;baldwin-wallace-university;barbara-snyder;case-western-reserve-university;john-carroll-university;oberlin-college\";\\n\\t\\t\\twindow.m_entry_keywords = \"\";\\n\\t\\t\\twindow.m_entry_id = \"21622286\";\\n\\t\\t\\twindow.m_entry_entities = \"[{ \\\\\"entityType\\\\\": \\\\\"JobTitle\\\\\", \\\\\"entity\\\\\": \\\\\"president\\\\\" },{ \\\\\"entityType\\\\\": \\\\\"StateOrCounty\\\\\", \\\\\"entity\\\\\": \\\\\"Ohio\\\\\" },{ \\\\\"entityType\\\\\": \\\\\"Organization\\\\\", \\\\\"entity\\\\\": \\\\\"University of Mount Union\\\\\" },{ \\\\\"entityType\\\\\": \\\\\"Organization\\\\\", \\\\\"entity\\\\\": \\\\\"Case Western Reserve University\\\\\" },{ \\\\\"entityType\\\\\": \\\\\"PrintMedia\\\\\", \\\\\"entity\\\\\": \\\\\"The Chronicle\\\\\" }]\";\\n\\t\\n\\n\\n\\n\\t\\t\\t\\t\\n\\t\\t\\t\\t\\n\\n/* setting vars here; moved core js to media server in movabletype.js */\\n\\twindow.blogId = 8002316;\\n\\twindow.blogIdStr = \"&blog_id=8002316\";\\n\\twindow.blogURL = \"http://www.cleveland.com/metro/index.ssf/\";\\n\\twindow.blogType = \"text\";\\n\\twindow.blogLayout = \"impact_home_newsletter\";\\n\\n\\twindow.advAffiliate = \"cleve\";\\n\\twindow.advDomain = \"cleveland.com\";\\n\\twindow.advEnvPrefix = \"\";\\n\\twindow.advVersion = \"alpha\";\\n\\n\\twindow.mtAffiliate = \"cleve\";\\n\\twindow.mtArmorValue = \"7a66e1e6cfb9858b4098a7d4ae3638b780fdfe18\";\\n\\n\\n\\n\\n\\t\\t\\t\\t\\n\\t\\t\\t\\twindow.Social = {\\n            \\'title\\':\\'Case Western Reserve University President Barbara Snyder\\\\\\'s base salary and bonus pay tops among private colleges in Ohio \\',\\n            \\'link\\':\\'https://www.cleveland.com/metro/index.ssf/2017/12/case_western_reserve_university_president_barbara_snyders_base_salary_and_bonus_pay_tops_among_private_colleges_in_ohio.html\\',\\n            \\'desc\\': \\'Case Western Reserve University President Barbara Snyder\\\\\\'s $700,312 base pay and $175,000 bonus in 2015 again made her the highest paid  private college leader in Ohio, according to an annual report.\\',\\n            \\'thumbnail\\': \\'http://media.cleveland.com/plain_dealer_metro/photo/23873711-standard.jpg\\'\\n   };\\n\\n\\n\\t\\t\\t\\t\\n\\t\\t\\t\\t/* ]]> */\\n\\t\\t\\t\\t</script>\\n\\t\\t\\t\\t<script type=\"text/javascript\">\\n\\t\\t\\t\\t\\twindow.mtCookieName = \"mt_blog_user\";\\n\\t\\t\\t\\t\\twindow.mtSessionCookieName = \"mt_commenter\";\\n\\t\\t\\t\\t\\twindow.mtCookieDomain = document.location.host.replace(/([0-9a-z\\\\-]+?\\\\.)+([0-9a-z\\\\-]+?\\\\.[a-z]{3})/, \".$2\");\\n\\t\\t\\t\\t\\twindow.mtCookiePath = \"/\";\\n\\t\\t\\t\\t\\twindow.mtCookieTimeout = 14400;\\n\\t\\t\\t\\t\\twindow.signinSubDomain = window.advEnvPrefix.match(\"dev\") ? \"http://signup\" : \"https://signup\";\\n\\t\\t\\t\\t\\twindow.mediaURL = \"http://media\" + window.advEnvPrefix + \".\" + window.advDomain + \"/design/\" + window.advVersion;\\n\\t\\t\\t\\t\\twindow.avatarURL = \"http://media\" + window.advEnvPrefix + \".\" + window.advDomain + \"/avatars\";\\n\\t\\t\\t\\t\\twindow.mtRegistrationAllowed = !0;\\n\\t\\t\\t\\t\\twindow.mtRegistrationRequired = !0;\\n\\t\\t\\t\\t\\twindow.mtRegisterCGIPath = window.signinSubDomain + window.advEnvPrefix + \".advance.net/\";\\n\\t\\t\\t\\t\\twindow.mtRelativeCGIPath = \"/cgi-bin/mte/\";\\n\\t\\t\\t\\t\\twindow.mtCommunityScript = \"community/\";\\n\\t\\t\\t\\t\\twindow.mtCaptchaFields = \"\";\\n\\t\\t\\t\\t\\t\\n\\t\\t\\t\\t\\twindow.mmm = {\\n\\t\\t\\t\\t\\t\\tcaption: \"Case Western Reserve University President Barbara Snyder\\\\\\'s base pay and bonus for 2015 ranked her first among private college presidents in Ohio. \",\\n\\t\\t\\t\\t\\t\\tcredit: \"John Kuntz, cleveland.com\",\\n\\t\\t\\t\\t\\t\\tid: \"23873711\",\\n\\t\\t\\t\\t\\t\\t\\n\\t\\t\\t\\t\\t\\ttype: \"photo\",\\n\\t\\t\\t\\t\\t\\turl: \"http://media.cleveland.com/plain_dealer_metro/photo/23873711-small.jpg\"\\n\\t\\t\\t\\t\\t\\t\\n\\t\\t\\t\\t\\t};\\n\\t\\t\\t\\t\\t\\n\\t\\t\\t\\t</script>\\n\\t\\t\\t\\t<script type=\"text/javascript\" src=\"https://static.advance.net/static/cleve/static/js/cal.js\"></script>\\n\\t\\t\\t\\n\\t\\t\\n\\n\\t\\t\\n\\t</body>\\n</html>\\n\\n\\t\\n\\n\\n\\n'"
     ]
    },
    {
     "name": "stdout",
     "output_type": "stream",
     "text": [
      "\n"
     ]
    }
   ],
   "source": [
    "url ='https://www.cleveland.com/metro/index.ssf/2017/12/case_western_reserve_university_president_barbara_snyders_base_salary_and_bonus_pay_tops_among_private_colleges_in_ohio.html'\n",
    "from requests_html import HTMLSession\n",
    "r = HTMLSession().get(url)\n",
    "print(r.html.raw_html)"
   ]
  },
  {
   "cell_type": "code",
   "execution_count": 55,
   "metadata": {},
   "outputs": [
    {
     "data": {
      "text/plain": [
       "[<Element 'ul' >]"
      ]
     },
     "execution_count": 55,
     "metadata": {},
     "output_type": "execute_result"
    }
   ],
   "source": [
    "element_hyper = r.html.find('#entryContent > ul:nth-child(7)')\n",
    "element_hyper"
   ]
  },
  {
   "cell_type": "code",
   "execution_count": 56,
   "metadata": {},
   "outputs": [
    {
     "name": "stdout",
     "output_type": "stream",
     "text": [
      "Grant Cornwell, College of Wooster (left in 2015): $911,651\n",
      "Marvin Krislov, Oberlin College (left in 2016):  $829,913\n",
      "Mark Roosevelt, Antioch College, (left in 2015): $507,672\n",
      "Laurie Joyner, Wittenberg University (left in 2015): $463,504\n",
      "Richard Giese, University of Mount Union (left in 2015): $453,800\n",
      "Sean Decatur,Kenyon College: $451,698\n",
      "Adam Weinberg, Denison University: $435,322\n",
      "Daniel Dibiasio, Ohio Northern University: $414,716\n",
      "Denvy Bowman, Capital University (left in 2016): $388,570\n",
      "Anne Steele, Muskingum University (left in 2016): $384,233\n",
      "Kathy Krendl, Otterbein University:  $378,035\n",
      "Rockwell Jones, Ohio Wesleyan University: $366,625\n",
      "Robert Helmer, Baldwin Wallace University: $365,616\n",
      "Robert Huntington, Heidelberg University: $300,005\n",
      "Lori Varlotta, Hiram College: $293,336\n",
      "Joseph Bruno, Marietta College (left in 2016): $288,295\n",
      "W. Richard Merriman Jr., University of Mount Union (started in June 2015): $221,761\n"
     ]
    }
   ],
   "source": [
    "print(element_hyper[0].text)"
   ]
  },
  {
   "cell_type": "code",
   "execution_count": 57,
   "metadata": {},
   "outputs": [
    {
     "data": {
      "text/plain": [
       "[', College of Wooster (',\n",
       " ', Oberlin College (',\n",
       " ', Antioch College, (',\n",
       " ', Wittenberg University (',\n",
       " ', University of Mount Union (',\n",
       " ',Kenyon College:',\n",
       " ', Denison University:',\n",
       " ', Ohio Northern University:',\n",
       " ', Capital University (',\n",
       " ', Muskingum University (',\n",
       " ', Otterbein University:',\n",
       " ', Ohio Wesleyan University:',\n",
       " ', Baldwin Wallace University:',\n",
       " ', Heidelberg University:',\n",
       " ', Hiram College:',\n",
       " ', Marietta College (',\n",
       " ', University of Mount Union (']"
      ]
     },
     "execution_count": 57,
     "metadata": {},
     "output_type": "execute_result"
    }
   ],
   "source": [
    "list1=element_hyper[0].text\n",
    "import re\n",
    "college_names = re.findall(r\"\\,\\D+[\\,\\(:]\", list1)\n",
    "college_names"
   ]
  },
  {
   "cell_type": "code",
   "execution_count": 59,
   "metadata": {},
   "outputs": [
    {
     "name": "stdout",
     "output_type": "stream",
     "text": [
      "['911,651', '829,913', '507,672', '463,504', '453,800', '451,698', '435,322', '414,716', '388,570', '384,233', '378,035', '366,625', '365,616', '300,005', '293,336', '288,295', '221,761']\n"
     ]
    }
   ],
   "source": [
    "amount1 = re.findall('\\d\\d\\d,\\d\\d\\d',list1)\n",
    "print(amount1)"
   ]
  },
  {
   "cell_type": "code",
   "execution_count": 60,
   "metadata": {},
   "outputs": [
    {
     "name": "stdout",
     "output_type": "stream",
     "text": [
      "['911651', '829913', '507672', '463504', '453800', '451698', '435322', '414716', '388570', '384233', '378035', '366625', '365616', '300005', '293336', '288295', '221761']\n",
      "[455.8255, 414.9565, 253.836, 231.752, 226.9, 225.849, 217.661, 207.358, 194.285, 192.1165, 189.0175, 183.3125, 182.808, 150.0025, 146.668, 144.1475, 110.8805]\n"
     ]
    }
   ],
   "source": [
    "amount = []\n",
    "for i in amount1:\n",
    "    amount.append(i.replace(',', ''))\n",
    "print(amount)\n",
    "list2 = []\n",
    "y = 0\n",
    "for i in amount:\n",
    "    y = float(i) /2000\n",
    "    list2.append(y)\n",
    "print(list2)"
   ]
  },
  {
   "cell_type": "code",
   "execution_count": 61,
   "metadata": {},
   "outputs": [
    {
     "data": {
      "text/plain": [
       "[' College of Wooster ',\n",
       " ' Oberlin College ',\n",
       " ' Antioch College ',\n",
       " ' Wittenberg University ',\n",
       " ' University of Mount Union ',\n",
       " 'Kenyon College',\n",
       " ' Denison University',\n",
       " ' Ohio Northern University',\n",
       " ' Capital University ',\n",
       " ' Muskingum University ',\n",
       " ' Otterbein University',\n",
       " ' Ohio Wesleyan University',\n",
       " ' Baldwin Wallace University',\n",
       " ' Heidelberg University',\n",
       " ' Hiram College',\n",
       " ' Marietta College ',\n",
       " ' University of Mount Union ']"
      ]
     },
     "execution_count": 61,
     "metadata": {},
     "output_type": "execute_result"
    }
   ],
   "source": [
    "colleges = []\n",
    "for i in college_names:\n",
    "    colleges.append(i[1:-1].replace(',',''))\n",
    "colleges"
   ]
  },
  {
   "cell_type": "code",
   "execution_count": 62,
   "metadata": {},
   "outputs": [
    {
     "name": "stdout",
     "output_type": "stream",
     "text": [
      "{' College of Wooster ': 455.8255, ' Oberlin College ': 414.9565, ' Antioch College ': 253.836, ' Wittenberg University ': 231.752, ' University of Mount Union ': 110.8805, 'Kenyon College': 225.849, ' Denison University': 217.661, ' Ohio Northern University': 207.358, ' Capital University ': 194.285, ' Muskingum University ': 192.1165, ' Otterbein University': 189.0175, ' Ohio Wesleyan University': 183.3125, ' Baldwin Wallace University': 182.808, ' Heidelberg University': 150.0025, ' Hiram College': 146.668, ' Marietta College ': 144.1475}\n"
     ]
    }
   ],
   "source": [
    "new_list = list(zip(colleges, list2))\n",
    "result_dict = dict(new_list)\n",
    "print(result_dict)"
   ]
  },
  {
   "cell_type": "code",
   "execution_count": 63,
   "metadata": {},
   "outputs": [
    {
     "name": "stdout",
     "output_type": "stream",
     "text": [
      " College of Wooster            :    455.8255\n",
      " Oberlin College               :    414.9565\n",
      " Antioch College               :    253.836\n",
      " Wittenberg University         :    231.752\n",
      " University of Mount Union     :    226.9\n",
      "Kenyon College                 :    225.849\n",
      " Denison University            :    217.661\n",
      " Ohio Northern University      :    207.358\n",
      " Capital University            :    194.285\n",
      " Muskingum University          :    192.1165\n",
      " Otterbein University          :    189.0175\n",
      " Ohio Wesleyan University      :    183.3125\n",
      " Baldwin Wallace University    :    182.808\n",
      " Heidelberg University         :    150.0025\n",
      " Hiram College                 :    146.668\n",
      " Marietta College              :    144.1475\n",
      " University of Mount Union     :    110.8805\n"
     ]
    }
   ],
   "source": [
    "for i, j in new_list:\n",
    "    print('{:30s} {:4.1} {}'.format(i, ':', j))"
   ]
  },
  {
   "cell_type": "code",
   "execution_count": 64,
   "metadata": {},
   "outputs": [
    {
     "data": {
      "text/plain": [
       "{' College of Wooster ': 455.8255,\n",
       " ' Oberlin College ': 414.9565,\n",
       " ' Antioch College ': 253.836,\n",
       " ' Wittenberg University ': 231.752,\n",
       " 'Kenyon College': 225.849,\n",
       " ' Denison University': 217.661,\n",
       " ' Ohio Northern University': 207.358,\n",
       " ' Capital University ': 194.285,\n",
       " ' Muskingum University ': 192.1165,\n",
       " ' Otterbein University': 189.0175,\n",
       " ' Ohio Wesleyan University': 183.3125,\n",
       " ' Baldwin Wallace University': 182.808,\n",
       " ' Heidelberg University': 150.0025,\n",
       " ' Hiram College': 146.668,\n",
       " ' Marietta College ': 144.1475,\n",
       " ' University of Mount Union ': 110.8805}"
      ]
     },
     "execution_count": 64,
     "metadata": {},
     "output_type": "execute_result"
    }
   ],
   "source": [
    "from operator import itemgetter \n",
    "new_list1 = []\n",
    "for i, j in sorted(result_dict.items(), key = itemgetter(1), reverse=True):\n",
    "    new_list1.append((i, j))\n",
    "sorted_dict = dict(new_list1)\n",
    "sorted_dict"
   ]
  },
  {
   "cell_type": "code",
   "execution_count": 65,
   "metadata": {},
   "outputs": [
    {
     "name": "stdout",
     "output_type": "stream",
     "text": [
      " College of Wooster            :    455.8255\n",
      " Oberlin College               :    414.9565\n",
      " Antioch College               :    253.836\n",
      " Wittenberg University         :    231.752\n",
      "Kenyon College                 :    225.849\n",
      " Denison University            :    217.661\n",
      " Ohio Northern University      :    207.358\n",
      " Capital University            :    194.285\n",
      " Muskingum University          :    192.1165\n",
      " Otterbein University          :    189.0175\n",
      " Ohio Wesleyan University      :    183.3125\n",
      " Baldwin Wallace University    :    182.808\n",
      " Heidelberg University         :    150.0025\n",
      " Hiram College                 :    146.668\n",
      " Marietta College              :    144.1475\n",
      " University of Mount Union     :    110.8805\n"
     ]
    }
   ],
   "source": [
    "from operator import itemgetter  \n",
    "for i, j in sorted(result_dict.items(), key = itemgetter(1), reverse=True):\n",
    "    print('{:30s} {:4.1} {}'.format(i, ':', j))"
   ]
  }
 ],
 "metadata": {
  "kernelspec": {
   "display_name": "Python 3",
   "language": "python",
   "name": "python3"
  },
  "language_info": {
   "codemirror_mode": {
    "name": "ipython",
    "version": 3
   },
   "file_extension": ".py",
   "mimetype": "text/x-python",
   "name": "python",
   "nbconvert_exporter": "python",
   "pygments_lexer": "ipython3",
   "version": "3.7.1"
  }
 },
 "nbformat": 4,
 "nbformat_minor": 2
}
