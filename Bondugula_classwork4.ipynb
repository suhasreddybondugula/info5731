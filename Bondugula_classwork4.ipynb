{
  "nbformat": 4,
  "nbformat_minor": 0,
  "metadata": {
    "colab": {
      "name": "Copy of classwork4-info5731.ipynb",
      "version": "0.3.2",
      "provenance": [],
      "collapsed_sections": [],
      "include_colab_link": true
    },
    "kernelspec": {
      "name": "python3",
      "display_name": "Python 3"
    },
    "accelerator": "GPU"
  },
  "cells": [
    {
      "cell_type": "markdown",
      "metadata": {
        "id": "view-in-github",
        "colab_type": "text"
      },
      "source": [
        "<a href=\"https://colab.research.google.com/github/suhasreddybondugula/info5731/blob/master/Bondugula_classwork4.ipynb\" target=\"_parent\"><img src=\"https://colab.research.google.com/assets/colab-badge.svg\" alt=\"Open In Colab\"/></a>"
      ]
    },
    {
      "metadata": {
        "id": "nVTucGeB4PNf",
        "colab_type": "text"
      },
      "cell_type": "markdown",
      "source": [
        "# Class Work 4"
      ]
    },
    {
      "metadata": {
        "id": "n_Edg2kT4ay_",
        "colab_type": "text"
      },
      "cell_type": "markdown",
      "source": [
        "Please go to [this link](https://github.com/wshuyi/info-5731-public/raw/master/loans.csv) to download the dataset. It comes from a simplified version of [lending club data](https://www.lendingclub.com/info/download-data.action).\n",
        "\n",
        "If you want to use fast.ai to solve this assignment, click on [this link](https://docs.fast.ai/tabular.html) for the documentation."
      ]
    },
    {
      "metadata": {
        "id": "8hpjKNIB4bKD",
        "colab_type": "code",
        "colab": {}
      },
      "cell_type": "code",
      "source": [
        "import pandas as pd"
      ],
      "execution_count": 0,
      "outputs": []
    },
    {
      "metadata": {
        "id": "VTVGhzh04b6T",
        "colab_type": "text"
      },
      "cell_type": "markdown",
      "source": [
        "**Question 1 (10 points).** Load the dataset into a Pandas Dataframe named `df`. Print out the first five lines of  `df`."
      ]
    },
    {
      "metadata": {
        "id": "qlzhAIZq4fO3",
        "colab_type": "code",
        "colab": {
          "base_uri": "https://localhost:8080/",
          "height": 279
        },
        "outputId": "da6112bd-4c4e-40dd-8b3d-8634dcd4437a"
      },
      "cell_type": "code",
      "source": [
        "#TODO: Your Code Here\n",
        "df = pd.read_csv(\"https://raw.githubusercontent.com/wshuyi/info-5731-public/master/loans.csv\")\n",
        "df.head()"
      ],
      "execution_count": 2,
      "outputs": [
        {
          "output_type": "execute_result",
          "data": {
            "text/html": [
              "<div>\n",
              "<style scoped>\n",
              "    .dataframe tbody tr th:only-of-type {\n",
              "        vertical-align: middle;\n",
              "    }\n",
              "\n",
              "    .dataframe tbody tr th {\n",
              "        vertical-align: top;\n",
              "    }\n",
              "\n",
              "    .dataframe thead th {\n",
              "        text-align: right;\n",
              "    }\n",
              "</style>\n",
              "<table border=\"1\" class=\"dataframe\">\n",
              "  <thead>\n",
              "    <tr style=\"text-align: right;\">\n",
              "      <th></th>\n",
              "      <th>grade</th>\n",
              "      <th>sub_grade</th>\n",
              "      <th>short_emp</th>\n",
              "      <th>emp_length_num</th>\n",
              "      <th>home_ownership</th>\n",
              "      <th>dti</th>\n",
              "      <th>purpose</th>\n",
              "      <th>term</th>\n",
              "      <th>last_delinq_none</th>\n",
              "      <th>last_major_derog_none</th>\n",
              "      <th>revol_util</th>\n",
              "      <th>total_rec_late_fee</th>\n",
              "      <th>safe_loans</th>\n",
              "    </tr>\n",
              "  </thead>\n",
              "  <tbody>\n",
              "    <tr>\n",
              "      <th>0</th>\n",
              "      <td>C</td>\n",
              "      <td>C1</td>\n",
              "      <td>1</td>\n",
              "      <td>1</td>\n",
              "      <td>RENT</td>\n",
              "      <td>17.47</td>\n",
              "      <td>debt_consolidation</td>\n",
              "      <td>36 months</td>\n",
              "      <td>1</td>\n",
              "      <td>1</td>\n",
              "      <td>50.8</td>\n",
              "      <td>0.0</td>\n",
              "      <td>0</td>\n",
              "    </tr>\n",
              "    <tr>\n",
              "      <th>1</th>\n",
              "      <td>A</td>\n",
              "      <td>A4</td>\n",
              "      <td>0</td>\n",
              "      <td>6</td>\n",
              "      <td>RENT</td>\n",
              "      <td>18.98</td>\n",
              "      <td>car</td>\n",
              "      <td>36 months</td>\n",
              "      <td>0</td>\n",
              "      <td>1</td>\n",
              "      <td>32.1</td>\n",
              "      <td>0.0</td>\n",
              "      <td>1</td>\n",
              "    </tr>\n",
              "    <tr>\n",
              "      <th>2</th>\n",
              "      <td>A</td>\n",
              "      <td>A3</td>\n",
              "      <td>0</td>\n",
              "      <td>2</td>\n",
              "      <td>MORTGAGE</td>\n",
              "      <td>19.56</td>\n",
              "      <td>debt_consolidation</td>\n",
              "      <td>36 months</td>\n",
              "      <td>1</td>\n",
              "      <td>1</td>\n",
              "      <td>48.1</td>\n",
              "      <td>0.0</td>\n",
              "      <td>0</td>\n",
              "    </tr>\n",
              "    <tr>\n",
              "      <th>3</th>\n",
              "      <td>B</td>\n",
              "      <td>B4</td>\n",
              "      <td>0</td>\n",
              "      <td>5</td>\n",
              "      <td>OWN</td>\n",
              "      <td>25.40</td>\n",
              "      <td>debt_consolidation</td>\n",
              "      <td>36 months</td>\n",
              "      <td>0</td>\n",
              "      <td>1</td>\n",
              "      <td>85.0</td>\n",
              "      <td>0.0</td>\n",
              "      <td>0</td>\n",
              "    </tr>\n",
              "    <tr>\n",
              "      <th>4</th>\n",
              "      <td>F</td>\n",
              "      <td>F3</td>\n",
              "      <td>0</td>\n",
              "      <td>2</td>\n",
              "      <td>RENT</td>\n",
              "      <td>6.00</td>\n",
              "      <td>other</td>\n",
              "      <td>60 months</td>\n",
              "      <td>0</td>\n",
              "      <td>1</td>\n",
              "      <td>85.4</td>\n",
              "      <td>0.0</td>\n",
              "      <td>1</td>\n",
              "    </tr>\n",
              "  </tbody>\n",
              "</table>\n",
              "</div>"
            ],
            "text/plain": [
              "  grade sub_grade  short_emp  emp_length_num home_ownership    dti  \\\n",
              "0     C        C1          1               1           RENT  17.47   \n",
              "1     A        A4          0               6           RENT  18.98   \n",
              "2     A        A3          0               2       MORTGAGE  19.56   \n",
              "3     B        B4          0               5            OWN  25.40   \n",
              "4     F        F3          0               2           RENT   6.00   \n",
              "\n",
              "              purpose        term  last_delinq_none  last_major_derog_none  \\\n",
              "0  debt_consolidation   36 months                 1                      1   \n",
              "1                 car   36 months                 0                      1   \n",
              "2  debt_consolidation   36 months                 1                      1   \n",
              "3  debt_consolidation   36 months                 0                      1   \n",
              "4               other   60 months                 0                      1   \n",
              "\n",
              "   revol_util  total_rec_late_fee  safe_loans  \n",
              "0        50.8                 0.0           0  \n",
              "1        32.1                 0.0           1  \n",
              "2        48.1                 0.0           0  \n",
              "3        85.0                 0.0           0  \n",
              "4        85.4                 0.0           1  "
            ]
          },
          "metadata": {
            "tags": []
          },
          "execution_count": 2
        }
      ]
    },
    {
      "metadata": {
        "id": "FDCc-o-G4fs0",
        "colab_type": "text"
      },
      "cell_type": "markdown",
      "source": [
        "You should get something like this:\n",
        "\n",
        "![](https://github.com/wshuyi/github_pub_img/raw/master/assets/2019-04-16-11-01-03-944728.png)\n"
      ]
    },
    {
      "metadata": {
        "id": "44NOIXdU4gzq",
        "colab_type": "code",
        "colab": {}
      },
      "cell_type": "code",
      "source": [
        ""
      ],
      "execution_count": 0,
      "outputs": []
    },
    {
      "metadata": {
        "id": "9BcHZyDz4jFp",
        "colab_type": "text"
      },
      "cell_type": "markdown",
      "source": [
        "**Question 2 (10 points).** Print out the list of column names of `df`."
      ]
    },
    {
      "metadata": {
        "id": "TFYAqOwL4jUM",
        "colab_type": "code",
        "colab": {
          "base_uri": "https://localhost:8080/",
          "height": 84
        },
        "outputId": "58722e25-76bf-4e55-9089-7fa3cbafcb96"
      },
      "cell_type": "code",
      "source": [
        "#TODO: Your Code Here\n",
        "df.columns"
      ],
      "execution_count": 3,
      "outputs": [
        {
          "output_type": "execute_result",
          "data": {
            "text/plain": [
              "Index(['grade', 'sub_grade', 'short_emp', 'emp_length_num', 'home_ownership',\n",
              "       'dti', 'purpose', 'term', 'last_delinq_none', 'last_major_derog_none',\n",
              "       'revol_util', 'total_rec_late_fee', 'safe_loans'],\n",
              "      dtype='object')"
            ]
          },
          "metadata": {
            "tags": []
          },
          "execution_count": 3
        }
      ]
    },
    {
      "metadata": {
        "id": "R5indXlb4pB5",
        "colab_type": "text"
      },
      "cell_type": "markdown",
      "source": [
        "You should get something like this:\n",
        "\n",
        "![](https://github.com/wshuyi/github_pub_img/raw/master/assets/2019-04-16-11-01-03-945063.png)"
      ]
    },
    {
      "metadata": {
        "id": "4sQqfGI54k5B",
        "colab_type": "code",
        "colab": {}
      },
      "cell_type": "code",
      "source": [
        ""
      ],
      "execution_count": 0,
      "outputs": []
    },
    {
      "metadata": {
        "id": "Z8uTcWnk4lmR",
        "colab_type": "text"
      },
      "cell_type": "markdown",
      "source": [
        "Here is the definition of each column.\n",
        "\n",
        "* `grade`：LC assigned loan grade\n",
        "* `sub_grade`: LC assigned loan subgrade\n",
        "* `short_emp`：one year or less of employment\n",
        "* `emp_length_num`：Employment length in years. Possible values are between 0 and 10 where 0 means less than one year and 10 means ten or more years.\n",
        "* `home_ownership`：The home ownership status provided by the borrower during registration. Our values are: RENT, OWN, MORTGAGE, OTHER.\n",
        "* `dti`：A ratio calculated using the borrower’s total monthly debt payments on the total debt obligations, excluding mortgage and the requested LC loan, divided by the borrower’s self-reported monthly income.\n",
        "* `purpose`：A category provided by the borrower for the loan request.\n",
        "* `term`：The number of payments on the loan. Values are in months and can be either 36 or 60.\n",
        "* `last_delinq_none`：has borrower had a delinquincy\n",
        "* `last_major_derog_none`：has borrower had 90 day or worse rating\n",
        "* `revol_util`：percent of available credit being used\n",
        "* `total_rec_late_fee`：late fees received to date\n",
        "* `safe_loans`：safe loan or not, use it as **target label**"
      ]
    },
    {
      "metadata": {
        "id": "fs9IYSCN4stR",
        "colab_type": "text"
      },
      "cell_type": "markdown",
      "source": [
        "You will need to build a model to predict if a loan is safe."
      ]
    },
    {
      "metadata": {
        "id": "IPD2iBEM4t5f",
        "colab_type": "code",
        "colab": {}
      },
      "cell_type": "code",
      "source": [
        ""
      ],
      "execution_count": 0,
      "outputs": []
    },
    {
      "metadata": {
        "id": "wZPNwBFv4uNf",
        "colab_type": "text"
      },
      "cell_type": "markdown",
      "source": [
        "**Question 3 (10 points).** Split 20% of the dataset into `test` Dataframe, use `random_state=1` to make sure our data are identical. Print out the first five rows of `test`."
      ]
    },
    {
      "metadata": {
        "id": "p7JCVLiv4vdz",
        "colab_type": "code",
        "colab": {
          "base_uri": "https://localhost:8080/",
          "height": 299
        },
        "outputId": "9c050184-1249-46bf-a53b-2af28b580daa"
      },
      "cell_type": "code",
      "source": [
        "#TODO: Your Code Here\n",
        "import tensorflow as tf\n",
        "from tensorflow import keras\n",
        "from sklearn.model_selection \n",
        "import train_test_split\n",
        "train, valid = train_test_split(df, test_size=0.2, random_state=1)\n",
        "valid.head()"
      ],
      "execution_count": 8,
      "outputs": [
        {
          "output_type": "execute_result",
          "data": {
            "text/html": [
              "<div>\n",
              "<style scoped>\n",
              "    .dataframe tbody tr th:only-of-type {\n",
              "        vertical-align: middle;\n",
              "    }\n",
              "\n",
              "    .dataframe tbody tr th {\n",
              "        vertical-align: top;\n",
              "    }\n",
              "\n",
              "    .dataframe thead th {\n",
              "        text-align: right;\n",
              "    }\n",
              "</style>\n",
              "<table border=\"1\" class=\"dataframe\">\n",
              "  <thead>\n",
              "    <tr style=\"text-align: right;\">\n",
              "      <th></th>\n",
              "      <th>grade</th>\n",
              "      <th>sub_grade</th>\n",
              "      <th>short_emp</th>\n",
              "      <th>emp_length_num</th>\n",
              "      <th>home_ownership</th>\n",
              "      <th>dti</th>\n",
              "      <th>purpose</th>\n",
              "      <th>term</th>\n",
              "      <th>last_delinq_none</th>\n",
              "      <th>last_major_derog_none</th>\n",
              "      <th>revol_util</th>\n",
              "      <th>total_rec_late_fee</th>\n",
              "      <th>safe_loans</th>\n",
              "    </tr>\n",
              "  </thead>\n",
              "  <tbody>\n",
              "    <tr>\n",
              "      <th>8406</th>\n",
              "      <td>B</td>\n",
              "      <td>B5</td>\n",
              "      <td>0</td>\n",
              "      <td>9</td>\n",
              "      <td>MORTGAGE</td>\n",
              "      <td>23.26</td>\n",
              "      <td>debt_consolidation</td>\n",
              "      <td>36 months</td>\n",
              "      <td>1</td>\n",
              "      <td>1</td>\n",
              "      <td>65.8</td>\n",
              "      <td>0.0</td>\n",
              "      <td>1</td>\n",
              "    </tr>\n",
              "    <tr>\n",
              "      <th>42392</th>\n",
              "      <td>C</td>\n",
              "      <td>C2</td>\n",
              "      <td>0</td>\n",
              "      <td>6</td>\n",
              "      <td>RENT</td>\n",
              "      <td>5.16</td>\n",
              "      <td>major_purchase</td>\n",
              "      <td>36 months</td>\n",
              "      <td>1</td>\n",
              "      <td>1</td>\n",
              "      <td>51.0</td>\n",
              "      <td>0.0</td>\n",
              "      <td>0</td>\n",
              "    </tr>\n",
              "    <tr>\n",
              "      <th>16231</th>\n",
              "      <td>C</td>\n",
              "      <td>C3</td>\n",
              "      <td>0</td>\n",
              "      <td>9</td>\n",
              "      <td>MORTGAGE</td>\n",
              "      <td>15.40</td>\n",
              "      <td>credit_card</td>\n",
              "      <td>60 months</td>\n",
              "      <td>1</td>\n",
              "      <td>1</td>\n",
              "      <td>72.1</td>\n",
              "      <td>0.0</td>\n",
              "      <td>1</td>\n",
              "    </tr>\n",
              "    <tr>\n",
              "      <th>40059</th>\n",
              "      <td>C</td>\n",
              "      <td>C4</td>\n",
              "      <td>0</td>\n",
              "      <td>7</td>\n",
              "      <td>RENT</td>\n",
              "      <td>30.29</td>\n",
              "      <td>credit_card</td>\n",
              "      <td>36 months</td>\n",
              "      <td>1</td>\n",
              "      <td>1</td>\n",
              "      <td>43.3</td>\n",
              "      <td>0.0</td>\n",
              "      <td>0</td>\n",
              "    </tr>\n",
              "    <tr>\n",
              "      <th>27945</th>\n",
              "      <td>B</td>\n",
              "      <td>B4</td>\n",
              "      <td>0</td>\n",
              "      <td>4</td>\n",
              "      <td>RENT</td>\n",
              "      <td>10.34</td>\n",
              "      <td>small_business</td>\n",
              "      <td>60 months</td>\n",
              "      <td>1</td>\n",
              "      <td>1</td>\n",
              "      <td>57.2</td>\n",
              "      <td>0.0</td>\n",
              "      <td>0</td>\n",
              "    </tr>\n",
              "  </tbody>\n",
              "</table>\n",
              "</div>"
            ],
            "text/plain": [
              "      grade sub_grade  short_emp  emp_length_num home_ownership    dti  \\\n",
              "8406      B        B5          0               9       MORTGAGE  23.26   \n",
              "42392     C        C2          0               6           RENT   5.16   \n",
              "16231     C        C3          0               9       MORTGAGE  15.40   \n",
              "40059     C        C4          0               7           RENT  30.29   \n",
              "27945     B        B4          0               4           RENT  10.34   \n",
              "\n",
              "                  purpose        term  last_delinq_none  \\\n",
              "8406   debt_consolidation   36 months                 1   \n",
              "42392      major_purchase   36 months                 1   \n",
              "16231         credit_card   60 months                 1   \n",
              "40059         credit_card   36 months                 1   \n",
              "27945      small_business   60 months                 1   \n",
              "\n",
              "       last_major_derog_none  revol_util  total_rec_late_fee  safe_loans  \n",
              "8406                       1        65.8                 0.0           1  \n",
              "42392                      1        51.0                 0.0           0  \n",
              "16231                      1        72.1                 0.0           1  \n",
              "40059                      1        43.3                 0.0           0  \n",
              "27945                      1        57.2                 0.0           0  "
            ]
          },
          "metadata": {
            "tags": []
          },
          "execution_count": 8
        }
      ]
    },
    {
      "metadata": {
        "id": "es0NcRjT4wJL",
        "colab_type": "text"
      },
      "cell_type": "markdown",
      "source": [
        "You should get something like this:\n",
        "\n",
        "![](https://github.com/wshuyi/github_pub_img/raw/master/assets/2019-04-16-11-01-03-945439.png)"
      ]
    },
    {
      "metadata": {
        "id": "XcCQPCUB4xUX",
        "colab_type": "code",
        "colab": {}
      },
      "cell_type": "code",
      "source": [
        ""
      ],
      "execution_count": 0,
      "outputs": []
    },
    {
      "metadata": {
        "id": "W_HpE8O44x4a",
        "colab_type": "text"
      },
      "cell_type": "markdown",
      "source": [
        "**Question 4 (20 points).** Do feature selection and engineering. Convert your data into the Input format of the deep learning framework accordingly. If you use Tensorflow, print out your feature columns. If you use fast.ai, print `data.train_ds.cont_names`."
      ]
    },
    {
      "metadata": {
        "id": "uPRLsOkM4y0t",
        "colab_type": "code",
        "colab": {
          "base_uri": "https://localhost:8080/",
          "height": 238
        },
        "outputId": "8164001c-aa19-4854-b55c-9e4c370360bd"
      },
      "cell_type": "code",
      "source": [
        "#TODO: Your Code Here\n",
        "from tensorflow import feature_column\n",
        "numeric_columns = [ 'emp_length_num', \n",
        "       'dti','revol_util', 'total_rec_late_fee']\n",
        "categorical_columns = ['grade', 'sub_grade', 'short_emp', 'home_ownership',\n",
        "       'purpose', 'term', 'last_delinq_none', 'last_major_derog_none']\n",
        "feature_columns = []\n",
        "for header in numeric_columns:\n",
        "  feature_columns.append(feature_column.numeric_column(header))\n",
        "def get_one_hot_rom_categorical(colname):\n",
        "  categorical = feature_column.categorical_column_with_vocabulary_list(\n",
        "  colname,\n",
        "  train[colname].unique().tolist())\n",
        "  return feature_column.indicator_column(categorical)\n",
        "get_one_hot_rom_categorical(\"home_ownership\")\n",
        "for col in categorical_columns:\n",
        "  feature_columns.append(get_one_hot_rom_categorical(col))\n",
        "feature_columns"
      ],
      "execution_count": 9,
      "outputs": [
        {
          "output_type": "execute_result",
          "data": {
            "text/plain": [
              "[NumericColumn(key='emp_length_num', shape=(1,), default_value=None, dtype=tf.float32, normalizer_fn=None),\n",
              " NumericColumn(key='dti', shape=(1,), default_value=None, dtype=tf.float32, normalizer_fn=None),\n",
              " NumericColumn(key='revol_util', shape=(1,), default_value=None, dtype=tf.float32, normalizer_fn=None),\n",
              " NumericColumn(key='total_rec_late_fee', shape=(1,), default_value=None, dtype=tf.float32, normalizer_fn=None),\n",
              " IndicatorColumn(categorical_column=VocabularyListCategoricalColumn(key='grade', vocabulary_list=('A', 'C', 'E', 'D', 'B', 'G', 'F'), dtype=tf.string, default_value=-1, num_oov_buckets=0)),\n",
              " IndicatorColumn(categorical_column=VocabularyListCategoricalColumn(key='sub_grade', vocabulary_list=('A5', 'C4', 'E2', 'D5', 'A1', 'C3', 'C1', 'B3', 'B1', 'G2', 'D3', 'B2', 'D1', 'F5', 'E1', 'G1', 'B5', 'G3', 'A2', 'D4', 'E4', 'F4', 'E3', 'E5', 'B4', 'A3', 'D2', 'A4', 'F3', 'C5', 'C2', 'F2', 'G5', 'F1', 'G4'), dtype=tf.string, default_value=-1, num_oov_buckets=0)),\n",
              " IndicatorColumn(categorical_column=VocabularyListCategoricalColumn(key='short_emp', vocabulary_list=(0, 1), dtype=tf.int64, default_value=-1, num_oov_buckets=0)),\n",
              " IndicatorColumn(categorical_column=VocabularyListCategoricalColumn(key='home_ownership', vocabulary_list=('RENT', 'MORTGAGE', 'OWN', 'OTHER'), dtype=tf.string, default_value=-1, num_oov_buckets=0)),\n",
              " IndicatorColumn(categorical_column=VocabularyListCategoricalColumn(key='purpose', vocabulary_list=('debt_consolidation', 'credit_card', 'moving', 'wedding', 'home_improvement', 'other', 'major_purchase', 'small_business', 'medical', 'vacation', 'house', 'car'), dtype=tf.string, default_value=-1, num_oov_buckets=0)),\n",
              " IndicatorColumn(categorical_column=VocabularyListCategoricalColumn(key='term', vocabulary_list=(' 36 months', ' 60 months'), dtype=tf.string, default_value=-1, num_oov_buckets=0)),\n",
              " IndicatorColumn(categorical_column=VocabularyListCategoricalColumn(key='last_delinq_none', vocabulary_list=(0, 1), dtype=tf.int64, default_value=-1, num_oov_buckets=0)),\n",
              " IndicatorColumn(categorical_column=VocabularyListCategoricalColumn(key='last_major_derog_none', vocabulary_list=(1, 0), dtype=tf.int64, default_value=-1, num_oov_buckets=0))]"
            ]
          },
          "metadata": {
            "tags": []
          },
          "execution_count": 9
        }
      ]
    },
    {
      "metadata": {
        "id": "fLbBxrcH40SX",
        "colab_type": "text"
      },
      "cell_type": "markdown",
      "source": [
        "For Tensorflow, your output should be like this.\n",
        "\n",
        "![](https://github.com/wshuyi/github_pub_img/raw/master/assets/2019-04-16-11-01-03-946006.png)"
      ]
    },
    {
      "metadata": {
        "id": "400njlsJ41dQ",
        "colab_type": "text"
      },
      "cell_type": "markdown",
      "source": [
        "For fast.ai, your output should be like this.\n",
        "\n",
        "![](https://github.com/wshuyi/github_pub_img/raw/master/assets/2019-04-16-11-01-03-946326.png)"
      ]
    },
    {
      "metadata": {
        "id": "AP44-liY40l6",
        "colab_type": "code",
        "colab": {}
      },
      "cell_type": "code",
      "source": [
        ""
      ],
      "execution_count": 0,
      "outputs": []
    },
    {
      "metadata": {
        "id": "1qloafJx43XN",
        "colab_type": "text"
      },
      "cell_type": "markdown",
      "source": [
        "**Question 5 (20 points).** Build a model containing two hidden layers, train it and get the accuracy on your valid set.\n"
      ]
    },
    {
      "metadata": {
        "id": "IfeObq-f44pF",
        "colab_type": "code",
        "colab": {}
      },
      "cell_type": "code",
      "source": [
        "#TODO: Your Code Here"
      ],
      "execution_count": 0,
      "outputs": []
    },
    {
      "metadata": {
        "id": "9G9qs0mk45D6",
        "colab_type": "text"
      },
      "cell_type": "markdown",
      "source": [
        "For Tensorflow, your output should be like this.\n",
        "\n",
        "![](https://github.com/wshuyi/github_pub_img/raw/master/assets/2019-04-16-11-01-03-946707.png)\n"
      ]
    },
    {
      "metadata": {
        "id": "fsxkOXg147_7",
        "colab_type": "text"
      },
      "cell_type": "markdown",
      "source": [
        "For fast.ai, your output should be like this.\n",
        "\n",
        "![](https://github.com/wshuyi/github_pub_img/raw/master/assets/2019-04-16-11-01-03-947035.png)"
      ]
    },
    {
      "metadata": {
        "id": "9trOgZDr46Zk",
        "colab_type": "code",
        "colab": {}
      },
      "cell_type": "code",
      "source": [
        ""
      ],
      "execution_count": 0,
      "outputs": []
    },
    {
      "metadata": {
        "id": "IKeyJgY1482V",
        "colab_type": "text"
      },
      "cell_type": "markdown",
      "source": [
        "**Question 6 (10 points).** Get predictions on your test set, and convert the results to 0 or 1s. Print out your predictions."
      ]
    },
    {
      "metadata": {
        "id": "ZgSpeRGu491q",
        "colab_type": "code",
        "colab": {}
      },
      "cell_type": "code",
      "source": [
        "#TODO: Your Code Here"
      ],
      "execution_count": 0,
      "outputs": []
    },
    {
      "metadata": {
        "id": "GMblyYqg4-UW",
        "colab_type": "text"
      },
      "cell_type": "markdown",
      "source": [
        "For Tensorflow, your output should be like this.\n",
        "\n",
        "![](https://github.com/wshuyi/github_pub_img/raw/master/assets/2019-04-16-11-01-03-947325.png)"
      ]
    },
    {
      "metadata": {
        "id": "OxP7ichS4_kA",
        "colab_type": "text"
      },
      "cell_type": "markdown",
      "source": [
        "For fast.ai, your output should be like this.\n",
        "\n",
        "![](https://github.com/wshuyi/github_pub_img/raw/master/assets/2019-04-16-11-01-03-947642.png)"
      ]
    },
    {
      "metadata": {
        "id": "deMc9OkI5AhN",
        "colab_type": "code",
        "colab": {}
      },
      "cell_type": "code",
      "source": [
        ""
      ],
      "execution_count": 0,
      "outputs": []
    },
    {
      "metadata": {
        "id": "p0rfGsZF5CQ5",
        "colab_type": "text"
      },
      "cell_type": "markdown",
      "source": [
        "**Question 7 (10 points).** Use the `classification_report` function from `sklearn.metrics` to make a classification report."
      ]
    },
    {
      "metadata": {
        "id": "t5Fi5Lya5DZp",
        "colab_type": "code",
        "colab": {}
      },
      "cell_type": "code",
      "source": [
        "#TODO: Your Code Here"
      ],
      "execution_count": 0,
      "outputs": []
    },
    {
      "metadata": {
        "id": "frXmDsb35Dsc",
        "colab_type": "text"
      },
      "cell_type": "markdown",
      "source": [
        "You should get something like this:\n",
        "\n",
        "\n",
        "![](https://github.com/wshuyi/github_pub_img/raw/master/assets/2019-04-16-11-01-03-948014.png)"
      ]
    },
    {
      "metadata": {
        "id": "cZPoivKZ5Eue",
        "colab_type": "code",
        "colab": {}
      },
      "cell_type": "code",
      "source": [
        ""
      ],
      "execution_count": 0,
      "outputs": []
    },
    {
      "metadata": {
        "id": "x4C07JWW5FIw",
        "colab_type": "text"
      },
      "cell_type": "markdown",
      "source": [
        "**Question 8 (10 points).** Make a confusion matrix based on your predictions on test dataset."
      ]
    },
    {
      "metadata": {
        "id": "x1W65d8P5GCJ",
        "colab_type": "code",
        "colab": {}
      },
      "cell_type": "code",
      "source": [
        "#TODO: Your Code Here"
      ],
      "execution_count": 0,
      "outputs": []
    },
    {
      "metadata": {
        "id": "DlBuYpwJ5GbC",
        "colab_type": "text"
      },
      "cell_type": "markdown",
      "source": [
        "You should get something like this:\n",
        "\n",
        "![](https://github.com/wshuyi/github_pub_img/raw/master/assets/2019-04-16-11-01-03-948319.png)"
      ]
    },
    {
      "metadata": {
        "id": "6PoFAUSz5HYa",
        "colab_type": "code",
        "colab": {}
      },
      "cell_type": "code",
      "source": [
        ""
      ],
      "execution_count": 0,
      "outputs": []
    }
  ]
}