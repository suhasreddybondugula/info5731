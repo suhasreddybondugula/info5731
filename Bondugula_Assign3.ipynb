{
  "nbformat": 4,
  "nbformat_minor": 0,
  "metadata": {
    "colab": {
      "name": "Copy of Assignment 3.ipynb",
      "version": "0.3.2",
      "provenance": [],
      "collapsed_sections": []
    },
    "kernelspec": {
      "name": "python3",
      "display_name": "Python 3"
    }
  },
  "cells": [
    {
      "metadata": {
        "id": "9GLEkynozH-d",
        "colab_type": "text"
      },
      "cell_type": "markdown",
      "source": [
        "# Assignment 3\n",
        "\n",
        "In this assignment, you will try to gather information from open data via API and visualize them.\n",
        "\n",
        "We will use the API from wikipedia as an example.\n",
        "\n",
        "Please go to [this web page](https://wikitech.wikimedia.org/wiki/Analytics/AQS/Pageviews), to learn how to get Pageviews of a certain wikipedia page.\n",
        "\n",
        "![](https://github.com/wshuyi/github_pub_img/raw/master/assets/2019-02-13-10-57-35-202134.png)\n",
        "\n",
        "As you can see here, to get a pageview count timeseries of en.wikipedia's article \"[Albert Enstein](https://en.wikipedia.org/wiki/Albert_Einstein)\" for the month of October 2015, you can use the following url with a \"GET\" method.\n",
        "\n",
        "[https://wikimedia.org/api/rest\\_v1/metrics/pageviews/per-article/en.wikipedia/all-access/all-agents/Albert\\_Einstein/daily/2015100100/2015103100](https://wikimedia.org/api/rest_v1/metrics/pageviews/per-article/en.wikipedia/all-access/all-agents/Albert_Einstein/daily/2015100100/2015103100)\n",
        "\n",
        "Your task, is to get Pageviews count timeseries of en.wikipedia's article \"[University of North Texas](https://en.wikipedia.org/wiki/University_of_North_Texas)\" for the month of January 2019.\n",
        "\n",
        "\n",
        "![](https://github.com/wshuyi/github_pub_img/raw/master/assets/2019-02-13-10-57-35-210502.png)\n",
        "\n",
        "Please answer the following questions by putting your code in the corresponding chunks. You can create new code or text chunks if necessary.\n",
        "\n"
      ]
    },
    {
      "metadata": {
        "id": "ySIA8u72zPIc",
        "colab_type": "text"
      },
      "cell_type": "markdown",
      "source": [
        "**Question 1. (20 points)** Make the corresponding url to gather the required data, and save it into a variable called 'url'.\n",
        "\n"
      ]
    },
    {
      "metadata": {
        "id": "NDBkVHDlzRtp",
        "colab_type": "code",
        "colab": {}
      },
      "cell_type": "code",
      "source": [
        "# to do: your code here\n",
        "\n",
        "url = 'https://wikimedia.org/api/rest_v1/metrics/pageviews/per-article/en.wikipedia/all-access/all-agents/University_of_North_Texas/daily/2019010100/2019013100'"
      ],
      "execution_count": 0,
      "outputs": []
    },
    {
      "metadata": {
        "id": "9dQcHDnvzR_m",
        "colab_type": "text"
      },
      "cell_type": "markdown",
      "source": [
        "**Question 2. (20 points)** Call the API by using the url you created in Question 1, and print out the JSON data. (If you are not familiar with JSON format, please follow [this link](https://en.wikipedia.org/wiki/JSON). Also, you can visit [this link](https://www.w3schools.com/python/python_json.asp) to know how to operate on JSON data with Python. )\n",
        "\n",
        "![](https://github.com/wshuyi/github_pub_img/raw/master/assets/2019-02-13-10-57-35-196474.png)\n",
        "\n"
      ]
    },
    {
      "metadata": {
        "id": "UwObkLeozTxU",
        "colab_type": "code",
        "colab": {
          "base_uri": "https://localhost:8080/",
          "height": 3662
        },
        "outputId": "ee258372-7542-4bb3-fec9-2182ae479bd6"
      },
      "cell_type": "code",
      "source": [
        "import requests\n",
        "r = requests.get(url = url)\n",
        "data = r.json()\n",
        "data"
      ],
      "execution_count": 16,
      "outputs": [
        {
          "output_type": "execute_result",
          "data": {
            "text/plain": [
              "{'items': [{'access': 'all-access',\n",
              "   'agent': 'all-agents',\n",
              "   'article': 'University_of_North_Texas',\n",
              "   'granularity': 'daily',\n",
              "   'project': 'en.wikipedia',\n",
              "   'timestamp': '2019010100',\n",
              "   'views': 732},\n",
              "  {'access': 'all-access',\n",
              "   'agent': 'all-agents',\n",
              "   'article': 'University_of_North_Texas',\n",
              "   'granularity': 'daily',\n",
              "   'project': 'en.wikipedia',\n",
              "   'timestamp': '2019010200',\n",
              "   'views': 834},\n",
              "  {'access': 'all-access',\n",
              "   'agent': 'all-agents',\n",
              "   'article': 'University_of_North_Texas',\n",
              "   'granularity': 'daily',\n",
              "   'project': 'en.wikipedia',\n",
              "   'timestamp': '2019010300',\n",
              "   'views': 821},\n",
              "  {'access': 'all-access',\n",
              "   'agent': 'all-agents',\n",
              "   'article': 'University_of_North_Texas',\n",
              "   'granularity': 'daily',\n",
              "   'project': 'en.wikipedia',\n",
              "   'timestamp': '2019010400',\n",
              "   'views': 719},\n",
              "  {'access': 'all-access',\n",
              "   'agent': 'all-agents',\n",
              "   'article': 'University_of_North_Texas',\n",
              "   'granularity': 'daily',\n",
              "   'project': 'en.wikipedia',\n",
              "   'timestamp': '2019010500',\n",
              "   'views': 672},\n",
              "  {'access': 'all-access',\n",
              "   'agent': 'all-agents',\n",
              "   'article': 'University_of_North_Texas',\n",
              "   'granularity': 'daily',\n",
              "   'project': 'en.wikipedia',\n",
              "   'timestamp': '2019010600',\n",
              "   'views': 676},\n",
              "  {'access': 'all-access',\n",
              "   'agent': 'all-agents',\n",
              "   'article': 'University_of_North_Texas',\n",
              "   'granularity': 'daily',\n",
              "   'project': 'en.wikipedia',\n",
              "   'timestamp': '2019010700',\n",
              "   'views': 632},\n",
              "  {'access': 'all-access',\n",
              "   'agent': 'all-agents',\n",
              "   'article': 'University_of_North_Texas',\n",
              "   'granularity': 'daily',\n",
              "   'project': 'en.wikipedia',\n",
              "   'timestamp': '2019010800',\n",
              "   'views': 788},\n",
              "  {'access': 'all-access',\n",
              "   'agent': 'all-agents',\n",
              "   'article': 'University_of_North_Texas',\n",
              "   'granularity': 'daily',\n",
              "   'project': 'en.wikipedia',\n",
              "   'timestamp': '2019010900',\n",
              "   'views': 712},\n",
              "  {'access': 'all-access',\n",
              "   'agent': 'all-agents',\n",
              "   'article': 'University_of_North_Texas',\n",
              "   'granularity': 'daily',\n",
              "   'project': 'en.wikipedia',\n",
              "   'timestamp': '2019011000',\n",
              "   'views': 673},\n",
              "  {'access': 'all-access',\n",
              "   'agent': 'all-agents',\n",
              "   'article': 'University_of_North_Texas',\n",
              "   'granularity': 'daily',\n",
              "   'project': 'en.wikipedia',\n",
              "   'timestamp': '2019011100',\n",
              "   'views': 784},\n",
              "  {'access': 'all-access',\n",
              "   'agent': 'all-agents',\n",
              "   'article': 'University_of_North_Texas',\n",
              "   'granularity': 'daily',\n",
              "   'project': 'en.wikipedia',\n",
              "   'timestamp': '2019011200',\n",
              "   'views': 663},\n",
              "  {'access': 'all-access',\n",
              "   'agent': 'all-agents',\n",
              "   'article': 'University_of_North_Texas',\n",
              "   'granularity': 'daily',\n",
              "   'project': 'en.wikipedia',\n",
              "   'timestamp': '2019011300',\n",
              "   'views': 685},\n",
              "  {'access': 'all-access',\n",
              "   'agent': 'all-agents',\n",
              "   'article': 'University_of_North_Texas',\n",
              "   'granularity': 'daily',\n",
              "   'project': 'en.wikipedia',\n",
              "   'timestamp': '2019011400',\n",
              "   'views': 752},\n",
              "  {'access': 'all-access',\n",
              "   'agent': 'all-agents',\n",
              "   'article': 'University_of_North_Texas',\n",
              "   'granularity': 'daily',\n",
              "   'project': 'en.wikipedia',\n",
              "   'timestamp': '2019011500',\n",
              "   'views': 731},\n",
              "  {'access': 'all-access',\n",
              "   'agent': 'all-agents',\n",
              "   'article': 'University_of_North_Texas',\n",
              "   'granularity': 'daily',\n",
              "   'project': 'en.wikipedia',\n",
              "   'timestamp': '2019011600',\n",
              "   'views': 779},\n",
              "  {'access': 'all-access',\n",
              "   'agent': 'all-agents',\n",
              "   'article': 'University_of_North_Texas',\n",
              "   'granularity': 'daily',\n",
              "   'project': 'en.wikipedia',\n",
              "   'timestamp': '2019011700',\n",
              "   'views': 779},\n",
              "  {'access': 'all-access',\n",
              "   'agent': 'all-agents',\n",
              "   'article': 'University_of_North_Texas',\n",
              "   'granularity': 'daily',\n",
              "   'project': 'en.wikipedia',\n",
              "   'timestamp': '2019011800',\n",
              "   'views': 616},\n",
              "  {'access': 'all-access',\n",
              "   'agent': 'all-agents',\n",
              "   'article': 'University_of_North_Texas',\n",
              "   'granularity': 'daily',\n",
              "   'project': 'en.wikipedia',\n",
              "   'timestamp': '2019011900',\n",
              "   'views': 502},\n",
              "  {'access': 'all-access',\n",
              "   'agent': 'all-agents',\n",
              "   'article': 'University_of_North_Texas',\n",
              "   'granularity': 'daily',\n",
              "   'project': 'en.wikipedia',\n",
              "   'timestamp': '2019012000',\n",
              "   'views': 487},\n",
              "  {'access': 'all-access',\n",
              "   'agent': 'all-agents',\n",
              "   'article': 'University_of_North_Texas',\n",
              "   'granularity': 'daily',\n",
              "   'project': 'en.wikipedia',\n",
              "   'timestamp': '2019012100',\n",
              "   'views': 505},\n",
              "  {'access': 'all-access',\n",
              "   'agent': 'all-agents',\n",
              "   'article': 'University_of_North_Texas',\n",
              "   'granularity': 'daily',\n",
              "   'project': 'en.wikipedia',\n",
              "   'timestamp': '2019012200',\n",
              "   'views': 567},\n",
              "  {'access': 'all-access',\n",
              "   'agent': 'all-agents',\n",
              "   'article': 'University_of_North_Texas',\n",
              "   'granularity': 'daily',\n",
              "   'project': 'en.wikipedia',\n",
              "   'timestamp': '2019012300',\n",
              "   'views': 537},\n",
              "  {'access': 'all-access',\n",
              "   'agent': 'all-agents',\n",
              "   'article': 'University_of_North_Texas',\n",
              "   'granularity': 'daily',\n",
              "   'project': 'en.wikipedia',\n",
              "   'timestamp': '2019012400',\n",
              "   'views': 504},\n",
              "  {'access': 'all-access',\n",
              "   'agent': 'all-agents',\n",
              "   'article': 'University_of_North_Texas',\n",
              "   'granularity': 'daily',\n",
              "   'project': 'en.wikipedia',\n",
              "   'timestamp': '2019012500',\n",
              "   'views': 574},\n",
              "  {'access': 'all-access',\n",
              "   'agent': 'all-agents',\n",
              "   'article': 'University_of_North_Texas',\n",
              "   'granularity': 'daily',\n",
              "   'project': 'en.wikipedia',\n",
              "   'timestamp': '2019012600',\n",
              "   'views': 430},\n",
              "  {'access': 'all-access',\n",
              "   'agent': 'all-agents',\n",
              "   'article': 'University_of_North_Texas',\n",
              "   'granularity': 'daily',\n",
              "   'project': 'en.wikipedia',\n",
              "   'timestamp': '2019012700',\n",
              "   'views': 412},\n",
              "  {'access': 'all-access',\n",
              "   'agent': 'all-agents',\n",
              "   'article': 'University_of_North_Texas',\n",
              "   'granularity': 'daily',\n",
              "   'project': 'en.wikipedia',\n",
              "   'timestamp': '2019012800',\n",
              "   'views': 486},\n",
              "  {'access': 'all-access',\n",
              "   'agent': 'all-agents',\n",
              "   'article': 'University_of_North_Texas',\n",
              "   'granularity': 'daily',\n",
              "   'project': 'en.wikipedia',\n",
              "   'timestamp': '2019012900',\n",
              "   'views': 605},\n",
              "  {'access': 'all-access',\n",
              "   'agent': 'all-agents',\n",
              "   'article': 'University_of_North_Texas',\n",
              "   'granularity': 'daily',\n",
              "   'project': 'en.wikipedia',\n",
              "   'timestamp': '2019013000',\n",
              "   'views': 515},\n",
              "  {'access': 'all-access',\n",
              "   'agent': 'all-agents',\n",
              "   'article': 'University_of_North_Texas',\n",
              "   'granularity': 'daily',\n",
              "   'project': 'en.wikipedia',\n",
              "   'timestamp': '2019013100',\n",
              "   'views': 489}]}"
            ]
          },
          "metadata": {
            "tags": []
          },
          "execution_count": 16
        }
      ]
    },
    {
      "metadata": {
        "id": "TNrhAwQLzVII",
        "colab_type": "text"
      },
      "cell_type": "markdown",
      "source": [
        "**Question 3. (20 points)** Load the JSON data into Pandas Dataframe, and show the first five rows.\n",
        "\n",
        "![](https://github.com/wshuyi/github_pub_img/raw/master/assets/2019-02-13-10-57-35-214261.png)\n",
        "\n"
      ]
    },
    {
      "metadata": {
        "id": "ndFJH614zFog",
        "colab_type": "code",
        "colab": {
          "base_uri": "https://localhost:8080/",
          "height": 195
        },
        "outputId": "9b1bd175-0aa4-44ec-e386-e1beee0f8f34"
      },
      "cell_type": "code",
      "source": [
        "# to do: your code here\n",
        "import pandas as pd\n",
        "from pandas.io.json import json_normalize\n",
        "df = pd.DataFrame(data['items'])\n",
        "df[:5]"
      ],
      "execution_count": 17,
      "outputs": [
        {
          "output_type": "execute_result",
          "data": {
            "text/html": [
              "<div>\n",
              "<style scoped>\n",
              "    .dataframe tbody tr th:only-of-type {\n",
              "        vertical-align: middle;\n",
              "    }\n",
              "\n",
              "    .dataframe tbody tr th {\n",
              "        vertical-align: top;\n",
              "    }\n",
              "\n",
              "    .dataframe thead th {\n",
              "        text-align: right;\n",
              "    }\n",
              "</style>\n",
              "<table border=\"1\" class=\"dataframe\">\n",
              "  <thead>\n",
              "    <tr style=\"text-align: right;\">\n",
              "      <th></th>\n",
              "      <th>access</th>\n",
              "      <th>agent</th>\n",
              "      <th>article</th>\n",
              "      <th>granularity</th>\n",
              "      <th>project</th>\n",
              "      <th>timestamp</th>\n",
              "      <th>views</th>\n",
              "    </tr>\n",
              "  </thead>\n",
              "  <tbody>\n",
              "    <tr>\n",
              "      <th>0</th>\n",
              "      <td>all-access</td>\n",
              "      <td>all-agents</td>\n",
              "      <td>University_of_North_Texas</td>\n",
              "      <td>daily</td>\n",
              "      <td>en.wikipedia</td>\n",
              "      <td>2019010100</td>\n",
              "      <td>732</td>\n",
              "    </tr>\n",
              "    <tr>\n",
              "      <th>1</th>\n",
              "      <td>all-access</td>\n",
              "      <td>all-agents</td>\n",
              "      <td>University_of_North_Texas</td>\n",
              "      <td>daily</td>\n",
              "      <td>en.wikipedia</td>\n",
              "      <td>2019010200</td>\n",
              "      <td>834</td>\n",
              "    </tr>\n",
              "    <tr>\n",
              "      <th>2</th>\n",
              "      <td>all-access</td>\n",
              "      <td>all-agents</td>\n",
              "      <td>University_of_North_Texas</td>\n",
              "      <td>daily</td>\n",
              "      <td>en.wikipedia</td>\n",
              "      <td>2019010300</td>\n",
              "      <td>821</td>\n",
              "    </tr>\n",
              "    <tr>\n",
              "      <th>3</th>\n",
              "      <td>all-access</td>\n",
              "      <td>all-agents</td>\n",
              "      <td>University_of_North_Texas</td>\n",
              "      <td>daily</td>\n",
              "      <td>en.wikipedia</td>\n",
              "      <td>2019010400</td>\n",
              "      <td>719</td>\n",
              "    </tr>\n",
              "    <tr>\n",
              "      <th>4</th>\n",
              "      <td>all-access</td>\n",
              "      <td>all-agents</td>\n",
              "      <td>University_of_North_Texas</td>\n",
              "      <td>daily</td>\n",
              "      <td>en.wikipedia</td>\n",
              "      <td>2019010500</td>\n",
              "      <td>672</td>\n",
              "    </tr>\n",
              "  </tbody>\n",
              "</table>\n",
              "</div>"
            ],
            "text/plain": [
              "       access       agent                    article granularity  \\\n",
              "0  all-access  all-agents  University_of_North_Texas       daily   \n",
              "1  all-access  all-agents  University_of_North_Texas       daily   \n",
              "2  all-access  all-agents  University_of_North_Texas       daily   \n",
              "3  all-access  all-agents  University_of_North_Texas       daily   \n",
              "4  all-access  all-agents  University_of_North_Texas       daily   \n",
              "\n",
              "        project   timestamp  views  \n",
              "0  en.wikipedia  2019010100    732  \n",
              "1  en.wikipedia  2019010200    834  \n",
              "2  en.wikipedia  2019010300    821  \n",
              "3  en.wikipedia  2019010400    719  \n",
              "4  en.wikipedia  2019010500    672  "
            ]
          },
          "metadata": {
            "tags": []
          },
          "execution_count": 17
        }
      ]
    },
    {
      "metadata": {
        "id": "qT1mjIAFzWs5",
        "colab_type": "text"
      },
      "cell_type": "markdown",
      "source": [
        "**Question 4. (20 points)** Figure out the max and min views and corresponding date.\n",
        "\n",
        "![](https://github.com/wshuyi/github_pub_img/raw/master/assets/2019-02-13-10-57-35-195410.png)\n",
        "\n",
        "![](https://github.com/wshuyi/github_pub_img/raw/master/assets/2019-02-13-10-57-35-197160.png)\n",
        "\n"
      ]
    },
    {
      "metadata": {
        "id": "92z6TdkxzX3p",
        "colab_type": "code",
        "colab": {
          "base_uri": "https://localhost:8080/",
          "height": 118
        },
        "outputId": "1a308495-f406-4c37-a1e5-9ee0795aaf6b"
      },
      "cell_type": "code",
      "source": [
        "# to do: your code here\n",
        "new_column = ['views','timestamp']\n",
        "new_df = df[new_column]\n",
        "max=df['views'].idxmax()\n",
        "min=df['views'].idxmin()\n",
        "for i in df.index:\n",
        "  if i==max:\n",
        "    print(new_df.loc[i])\n",
        "  elif i==min:\n",
        "    print(new_df.loc[i])"
      ],
      "execution_count": 54,
      "outputs": [
        {
          "output_type": "stream",
          "text": [
            "views               834\n",
            "timestamp    2019010200\n",
            "Name: 1, dtype: object\n",
            "views               412\n",
            "timestamp    2019012700\n",
            "Name: 26, dtype: object\n"
          ],
          "name": "stdout"
        }
      ]
    },
    {
      "metadata": {
        "id": "5YNmlvXkzYXC",
        "colab_type": "text"
      },
      "cell_type": "markdown",
      "source": [
        "**Question 5. (20 points)** Plot line chart of Pageviews for the whole month.\n",
        "\n",
        "![](https://github.com/wshuyi/github_pub_img/raw/master/assets/2019-02-13-10-57-35-197005.png)\n"
      ]
    },
    {
      "metadata": {
        "id": "w_SMnicQzY1Q",
        "colab_type": "code",
        "colab": {
          "base_uri": "https://localhost:8080/",
          "height": 402
        },
        "outputId": "27998458-604f-4d2c-9220-d0292cd3858b"
      },
      "cell_type": "code",
      "source": [
        "import matplotlib.pyplot as plt\n",
        "\n",
        "df.views.plot()\n",
        "plt.ylabel('views')\n",
        "plt.title('feb', loc='right', y=-0.15)\n",
        "plt.title('Jan 2019', loc='left', y=-0.15)\n",
        "plt.title('date', y=-0.25)\n",
        "plt.xticks([1,7,14,21,28])\n",
        "plt.show()"
      ],
      "execution_count": 56,
      "outputs": [
        {
          "output_type": "display_data",
          "data": {
            "image/png": "[encoded data removed]",
            "text/plain": [
              "<Figure size 576x396 with 1 Axes>"
            ]
          },
          "metadata": {
            "tags": []
          }
        }
      ]
    }
  ]
}