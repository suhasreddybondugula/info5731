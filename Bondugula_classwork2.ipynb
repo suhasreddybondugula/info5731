{
  "nbformat": 4,
  "nbformat_minor": 0,
  "metadata": {
    "colab": {
      "name": "Copy of classwork2.ipynb",
      "version": "0.3.2",
      "provenance": [],
      "collapsed_sections": []
    },
    "kernelspec": {
      "name": "python3",
      "display_name": "Python 3"
    }
  },
  "cells": [
    {
      "metadata": {
        "id": "00TbCTENXkDt",
        "colab_type": "text"
      },
      "cell_type": "markdown",
      "source": [
        "# Class work 2"
      ]
    },
    {
      "metadata": {
        "id": "pLDeyVA_XopP",
        "colab_type": "text"
      },
      "cell_type": "markdown",
      "source": [
        "In this class work, you will try to do **Exploratory Data Analysis** with Pandas."
      ]
    },
    {
      "metadata": {
        "id": "yU7U4BV5_zyk",
        "colab_type": "text"
      },
      "cell_type": "markdown",
      "source": [
        "## Data Preperation"
      ]
    },
    {
      "metadata": {
        "id": "iYVG-cN9YanN",
        "colab_type": "text"
      },
      "cell_type": "markdown",
      "source": [
        "Please run the following lines of codes, to get source data."
      ]
    },
    {
      "metadata": {
        "id": "kXj21moT-xkR",
        "colab_type": "code",
        "colab": {
          "base_uri": "https://localhost:8080/",
          "height": 286
        },
        "outputId": "f993daa2-a0df-48d0-eccc-11f8acf5706a"
      },
      "cell_type": "code",
      "source": [
        "!wget https://github.com/wshuyi/info-5731-public/raw/master/winemag-data-130k-v2.csv.zip"
      ],
      "execution_count": 1,
      "outputs": [
        {
          "output_type": "stream",
          "text": [
            "--2019-02-19 20:53:43--  https://github.com/wshuyi/info-5731-public/raw/master/winemag-data-130k-v2.csv.zip\n",
            "Resolving github.com (github.com)... 192.30.253.113, 192.30.253.112\n",
            "Connecting to github.com (github.com)|192.30.253.113|:443... connected.\n",
            "HTTP request sent, awaiting response... 302 Found\n",
            "Location: https://raw.githubusercontent.com/wshuyi/info-5731-public/master/winemag-data-130k-v2.csv.zip [following]\n",
            "--2019-02-19 20:53:43--  https://raw.githubusercontent.com/wshuyi/info-5731-public/master/winemag-data-130k-v2.csv.zip\n",
            "Resolving raw.githubusercontent.com (raw.githubusercontent.com)... 151.101.0.133, 151.101.64.133, 151.101.128.133, ...\n",
            "Connecting to raw.githubusercontent.com (raw.githubusercontent.com)|151.101.0.133|:443... connected.\n",
            "HTTP request sent, awaiting response... 200 OK\n",
            "Length: 17180932 (16M) [application/zip]\n",
            "Saving to: ‘winemag-data-130k-v2.csv.zip’\n",
            "\n",
            "winemag-data-130k-v 100%[===================>]  16.38M  72.3MB/s    in 0.2s    \n",
            "\n",
            "2019-02-19 20:53:44 (72.3 MB/s) - ‘winemag-data-130k-v2.csv.zip’ saved [17180932/17180932]\n",
            "\n"
          ],
          "name": "stdout"
        }
      ]
    },
    {
      "metadata": {
        "id": "6-kHQW5Q-0hL",
        "colab_type": "code",
        "colab": {
          "base_uri": "https://localhost:8080/",
          "height": 50
        },
        "outputId": "7ad2bccc-8d28-4c47-d266-f85816ff74a5"
      },
      "cell_type": "code",
      "source": [
        "!unzip winemag-data-130k-v2.csv.zip"
      ],
      "execution_count": 2,
      "outputs": [
        {
          "output_type": "stream",
          "text": [
            "Archive:  winemag-data-130k-v2.csv.zip\n",
            "  inflating: winemag-data-130k-v2.csv  \n"
          ],
          "name": "stdout"
        }
      ]
    },
    {
      "metadata": {
        "id": "bCMqjn3nXsuk",
        "colab_type": "text"
      },
      "cell_type": "markdown",
      "source": [
        "## Questions\n",
        "\n",
        "5 points for each question, and full score is 100. "
      ]
    },
    {
      "metadata": {
        "id": "75w4RZfS_UQC",
        "colab_type": "text"
      },
      "cell_type": "markdown",
      "source": [
        "**Question 1.** The data file is stored in csv format and named \"winemag-data-130k-v2.csv \". Please read it into a Pandas dataframe, and name the dataframe as \"reviews\". Make sure the first column should be \"country\", instead of a **\"unnamed\"** one. Display the first 5 rows."
      ]
    },
    {
      "metadata": {
        "id": "qW1V3R1K_nMT",
        "colab_type": "code",
        "colab": {
          "base_uri": "https://localhost:8080/",
          "height": 447
        },
        "outputId": "5c24593f-3a12-4516-833a-13c66bdb9bed"
      },
      "cell_type": "code",
      "source": [
        "import pandas as pd\n",
        "\n",
        "reviews=pd.read_csv('winemag-data-130k-v2.csv')\n",
        "\n",
        "reviews.drop(['Unnamed: 0'], axis=1)\n",
        "\n",
        "reviews.head()"
      ],
      "execution_count": 4,
      "outputs": [
        {
          "output_type": "execute_result",
          "data": {
            "text/html": [
              "<div>\n",
              "<style scoped>\n",
              "    .dataframe tbody tr th:only-of-type {\n",
              "        vertical-align: middle;\n",
              "    }\n",
              "\n",
              "    .dataframe tbody tr th {\n",
              "        vertical-align: top;\n",
              "    }\n",
              "\n",
              "    .dataframe thead th {\n",
              "        text-align: right;\n",
              "    }\n",
              "</style>\n",
              "<table border=\"1\" class=\"dataframe\">\n",
              "  <thead>\n",
              "    <tr style=\"text-align: right;\">\n",
              "      <th></th>\n",
              "      <th>Unnamed: 0</th>\n",
              "      <th>country</th>\n",
              "      <th>description</th>\n",
              "      <th>designation</th>\n",
              "      <th>points</th>\n",
              "      <th>price</th>\n",
              "      <th>province</th>\n",
              "      <th>region_1</th>\n",
              "      <th>region_2</th>\n",
              "      <th>taster_name</th>\n",
              "      <th>taster_twitter_handle</th>\n",
              "      <th>title</th>\n",
              "      <th>variety</th>\n",
              "      <th>winery</th>\n",
              "    </tr>\n",
              "  </thead>\n",
              "  <tbody>\n",
              "    <tr>\n",
              "      <th>0</th>\n",
              "      <td>0</td>\n",
              "      <td>Italy</td>\n",
              "      <td>Aromas include tropical fruit, broom, brimston...</td>\n",
              "      <td>Vulkà Bianco</td>\n",
              "      <td>87</td>\n",
              "      <td>NaN</td>\n",
              "      <td>Sicily &amp; Sardinia</td>\n",
              "      <td>Etna</td>\n",
              "      <td>NaN</td>\n",
              "      <td>Kerin O’Keefe</td>\n",
              "      <td>@kerinokeefe</td>\n",
              "      <td>Nicosia 2013 Vulkà Bianco  (Etna)</td>\n",
              "      <td>White Blend</td>\n",
              "      <td>Nicosia</td>\n",
              "    </tr>\n",
              "    <tr>\n",
              "      <th>1</th>\n",
              "      <td>1</td>\n",
              "      <td>Portugal</td>\n",
              "      <td>This is ripe and fruity, a wine that is smooth...</td>\n",
              "      <td>Avidagos</td>\n",
              "      <td>87</td>\n",
              "      <td>15.0</td>\n",
              "      <td>Douro</td>\n",
              "      <td>NaN</td>\n",
              "      <td>NaN</td>\n",
              "      <td>Roger Voss</td>\n",
              "      <td>@vossroger</td>\n",
              "      <td>Quinta dos Avidagos 2011 Avidagos Red (Douro)</td>\n",
              "      <td>Portuguese Red</td>\n",
              "      <td>Quinta dos Avidagos</td>\n",
              "    </tr>\n",
              "    <tr>\n",
              "      <th>2</th>\n",
              "      <td>2</td>\n",
              "      <td>US</td>\n",
              "      <td>Tart and snappy, the flavors of lime flesh and...</td>\n",
              "      <td>NaN</td>\n",
              "      <td>87</td>\n",
              "      <td>14.0</td>\n",
              "      <td>Oregon</td>\n",
              "      <td>Willamette Valley</td>\n",
              "      <td>Willamette Valley</td>\n",
              "      <td>Paul Gregutt</td>\n",
              "      <td>@paulgwine</td>\n",
              "      <td>Rainstorm 2013 Pinot Gris (Willamette Valley)</td>\n",
              "      <td>Pinot Gris</td>\n",
              "      <td>Rainstorm</td>\n",
              "    </tr>\n",
              "    <tr>\n",
              "      <th>3</th>\n",
              "      <td>3</td>\n",
              "      <td>US</td>\n",
              "      <td>Pineapple rind, lemon pith and orange blossom ...</td>\n",
              "      <td>Reserve Late Harvest</td>\n",
              "      <td>87</td>\n",
              "      <td>13.0</td>\n",
              "      <td>Michigan</td>\n",
              "      <td>Lake Michigan Shore</td>\n",
              "      <td>NaN</td>\n",
              "      <td>Alexander Peartree</td>\n",
              "      <td>NaN</td>\n",
              "      <td>St. Julian 2013 Reserve Late Harvest Riesling ...</td>\n",
              "      <td>Riesling</td>\n",
              "      <td>St. Julian</td>\n",
              "    </tr>\n",
              "    <tr>\n",
              "      <th>4</th>\n",
              "      <td>4</td>\n",
              "      <td>US</td>\n",
              "      <td>Much like the regular bottling from 2012, this...</td>\n",
              "      <td>Vintner's Reserve Wild Child Block</td>\n",
              "      <td>87</td>\n",
              "      <td>65.0</td>\n",
              "      <td>Oregon</td>\n",
              "      <td>Willamette Valley</td>\n",
              "      <td>Willamette Valley</td>\n",
              "      <td>Paul Gregutt</td>\n",
              "      <td>@paulgwine</td>\n",
              "      <td>Sweet Cheeks 2012 Vintner's Reserve Wild Child...</td>\n",
              "      <td>Pinot Noir</td>\n",
              "      <td>Sweet Cheeks</td>\n",
              "    </tr>\n",
              "  </tbody>\n",
              "</table>\n",
              "</div>"
            ],
            "text/plain": [
              "   Unnamed: 0   country                                        description  \\\n",
              "0           0     Italy  Aromas include tropical fruit, broom, brimston...   \n",
              "1           1  Portugal  This is ripe and fruity, a wine that is smooth...   \n",
              "2           2        US  Tart and snappy, the flavors of lime flesh and...   \n",
              "3           3        US  Pineapple rind, lemon pith and orange blossom ...   \n",
              "4           4        US  Much like the regular bottling from 2012, this...   \n",
              "\n",
              "                          designation  points  price           province  \\\n",
              "0                        Vulkà Bianco      87    NaN  Sicily & Sardinia   \n",
              "1                            Avidagos      87   15.0              Douro   \n",
              "2                                 NaN      87   14.0             Oregon   \n",
              "3                Reserve Late Harvest      87   13.0           Michigan   \n",
              "4  Vintner's Reserve Wild Child Block      87   65.0             Oregon   \n",
              "\n",
              "              region_1           region_2         taster_name  \\\n",
              "0                 Etna                NaN       Kerin O’Keefe   \n",
              "1                  NaN                NaN          Roger Voss   \n",
              "2    Willamette Valley  Willamette Valley        Paul Gregutt   \n",
              "3  Lake Michigan Shore                NaN  Alexander Peartree   \n",
              "4    Willamette Valley  Willamette Valley        Paul Gregutt   \n",
              "\n",
              "  taster_twitter_handle                                              title  \\\n",
              "0          @kerinokeefe                  Nicosia 2013 Vulkà Bianco  (Etna)   \n",
              "1            @vossroger      Quinta dos Avidagos 2011 Avidagos Red (Douro)   \n",
              "2           @paulgwine       Rainstorm 2013 Pinot Gris (Willamette Valley)   \n",
              "3                   NaN  St. Julian 2013 Reserve Late Harvest Riesling ...   \n",
              "4           @paulgwine   Sweet Cheeks 2012 Vintner's Reserve Wild Child...   \n",
              "\n",
              "          variety               winery  \n",
              "0     White Blend              Nicosia  \n",
              "1  Portuguese Red  Quinta dos Avidagos  \n",
              "2      Pinot Gris            Rainstorm  \n",
              "3        Riesling           St. Julian  \n",
              "4      Pinot Noir         Sweet Cheeks  "
            ]
          },
          "metadata": {
            "tags": []
          },
          "execution_count": 4
        }
      ]
    },
    {
      "metadata": {
        "id": "SLIvVmMncJp4",
        "colab_type": "code",
        "colab": {}
      },
      "cell_type": "code",
      "source": [
        "# Expected Output:\n",
        "image_url = \"https://github.com/wshuyi/github_pub_img/raw/master/assets/2019-02-18-10-21-51-880386.png\"\n",
        "from IPython.display import Image\n",
        "Image(image_url)"
      ],
      "execution_count": 0,
      "outputs": []
    },
    {
      "metadata": {
        "id": "IcCTDpO1AwkP",
        "colab_type": "text"
      },
      "cell_type": "markdown",
      "source": [
        "**Question 2.** What is the data type of the `points` column in the dataset?"
      ]
    },
    {
      "metadata": {
        "colab_type": "code",
        "id": "UBAPam8FXTyX",
        "colab": {
          "base_uri": "https://localhost:8080/",
          "height": 34
        },
        "outputId": "6731a123-5462-4eb8-bb90-596fcce46eba"
      },
      "cell_type": "code",
      "source": [
        "# TODO: your code here\n",
        "reviews.points.dtype"
      ],
      "execution_count": 5,
      "outputs": [
        {
          "output_type": "execute_result",
          "data": {
            "text/plain": [
              "dtype('int64')"
            ]
          },
          "metadata": {
            "tags": []
          },
          "execution_count": 5
        }
      ]
    },
    {
      "metadata": {
        "id": "3FWHkhoFctMa",
        "colab_type": "code",
        "colab": {}
      },
      "cell_type": "code",
      "source": [
        "# Expected Output:\n",
        "image_url = \"https://github.com/wshuyi/github_pub_img/raw/master/assets/2019-02-18-10-22-08-367025.png\"\n",
        "from IPython.display import Image\n",
        "Image(image_url)"
      ],
      "execution_count": 0,
      "outputs": []
    },
    {
      "metadata": {
        "id": "kzK8xgGaOhS6",
        "colab_type": "text"
      },
      "cell_type": "markdown",
      "source": [
        "**Question 3.** Select the `description` column from `reviews` and assign the result to the variable `desc`. Show the first 5 rows of `desc`."
      ]
    },
    {
      "metadata": {
        "colab_type": "code",
        "id": "TqrZGd7wXUSa",
        "colab": {
          "base_uri": "https://localhost:8080/",
          "height": 118
        },
        "outputId": "a5086c7b-72e4-4344-dfca-3ad79c9f599c"
      },
      "cell_type": "code",
      "source": [
        "# TODO: your code here\n",
        "desc = reviews.description\n",
        "desc.head()"
      ],
      "execution_count": 30,
      "outputs": [
        {
          "output_type": "execute_result",
          "data": {
            "text/plain": [
              "0    Aromas include tropical fruit, broom, brimston...\n",
              "1    This is ripe and fruity, a wine that is smooth...\n",
              "2    Tart and snappy, the flavors of lime flesh and...\n",
              "3    Pineapple rind, lemon pith and orange blossom ...\n",
              "4    Much like the regular bottling from 2012, this...\n",
              "Name: description, dtype: object"
            ]
          },
          "metadata": {
            "tags": []
          },
          "execution_count": 30
        }
      ]
    },
    {
      "metadata": {
        "id": "VxnoTs4NcvEM",
        "colab_type": "code",
        "colab": {}
      },
      "cell_type": "code",
      "source": [
        "# Expected Output:\n",
        "image_url = \"https://github.com/wshuyi/github_pub_img/raw/master/assets/2019-02-18-10-22-46-339216.png\"\n",
        "from IPython.display import Image\n",
        "Image(image_url)"
      ],
      "execution_count": 0,
      "outputs": []
    },
    {
      "metadata": {
        "id": "3EcvMcQVOuRF",
        "colab_type": "text"
      },
      "cell_type": "markdown",
      "source": [
        "**Question 4.** what type of object is `desc`?"
      ]
    },
    {
      "metadata": {
        "colab_type": "code",
        "id": "Ntt-XJeiXUv9",
        "colab": {
          "base_uri": "https://localhost:8080/",
          "height": 34
        },
        "outputId": "b8034926-5817-4a33-dc1d-2815581f1f90"
      },
      "cell_type": "code",
      "source": [
        "# TODO: your code here\n",
        "type(desc)"
      ],
      "execution_count": 31,
      "outputs": [
        {
          "output_type": "execute_result",
          "data": {
            "text/plain": [
              "pandas.core.series.Series"
            ]
          },
          "metadata": {
            "tags": []
          },
          "execution_count": 31
        }
      ]
    },
    {
      "metadata": {
        "id": "SseLGPuScyAM",
        "colab_type": "code",
        "colab": {}
      },
      "cell_type": "code",
      "source": [
        "# Expected Output:\n",
        "image_url = \"https://github.com/wshuyi/github_pub_img/raw/master/assets/2019-02-18-10-22-58-641958.png\"\n",
        "from IPython.display import Image\n",
        "Image(image_url)"
      ],
      "execution_count": 0,
      "outputs": []
    },
    {
      "metadata": {
        "id": "CwrlkouyO2hs",
        "colab_type": "text"
      },
      "cell_type": "markdown",
      "source": [
        "**Question 5.** Select the first value from the description column of `reviews`, assigning it to variable `first_description`. Show the content of `first_description`."
      ]
    },
    {
      "metadata": {
        "colab_type": "code",
        "id": "RskJKxrkXVQD",
        "colab": {
          "base_uri": "https://localhost:8080/",
          "height": 34
        },
        "outputId": "6cc7e734-eccc-413d-bffd-79b3211923a6"
      },
      "cell_type": "code",
      "source": [
        "# TODO: your code here\n",
        "first_description = desc[0]\n",
        "first_description"
      ],
      "execution_count": 16,
      "outputs": [
        {
          "output_type": "execute_result",
          "data": {
            "text/plain": [
              "\"Aromas include tropical fruit, broom, brimstone and dried herb. The palate isn't overly expressive, offering unripened apple, citrus and dried sage alongside brisk acidity.\""
            ]
          },
          "metadata": {
            "tags": []
          },
          "execution_count": 16
        }
      ]
    },
    {
      "metadata": {
        "id": "6g_osKvBc0qp",
        "colab_type": "code",
        "colab": {}
      },
      "cell_type": "code",
      "source": [
        "# Expected Output:\n",
        "image_url = \"https://github.com/wshuyi/github_pub_img/raw/master/assets/2019-02-18-10-23-18-848390.png\"\n",
        "from IPython.display import Image\n",
        "Image(image_url)"
      ],
      "execution_count": 0,
      "outputs": []
    },
    {
      "metadata": {
        "id": "7vqxm9CaPLPZ",
        "colab_type": "text"
      },
      "cell_type": "markdown",
      "source": [
        "**Question 6.** Select the first row of data (the first record) from `reviews`, assigning it to the variable `first_row`. Show the content of `first_row`."
      ]
    },
    {
      "metadata": {
        "colab_type": "code",
        "id": "QNZfRkHHXVpm",
        "colab": {
          "base_uri": "https://localhost:8080/",
          "height": 127
        },
        "outputId": "bf170876-10e8-4156-9fde-53f36ad2f152"
      },
      "cell_type": "code",
      "source": [
        "# TODO: your code here\n",
        "first_row = reviews.head(1)\n",
        "first_row"
      ],
      "execution_count": 20,
      "outputs": [
        {
          "output_type": "execute_result",
          "data": {
            "text/html": [
              "<div>\n",
              "<style scoped>\n",
              "    .dataframe tbody tr th:only-of-type {\n",
              "        vertical-align: middle;\n",
              "    }\n",
              "\n",
              "    .dataframe tbody tr th {\n",
              "        vertical-align: top;\n",
              "    }\n",
              "\n",
              "    .dataframe thead th {\n",
              "        text-align: right;\n",
              "    }\n",
              "</style>\n",
              "<table border=\"1\" class=\"dataframe\">\n",
              "  <thead>\n",
              "    <tr style=\"text-align: right;\">\n",
              "      <th></th>\n",
              "      <th>Unnamed: 0</th>\n",
              "      <th>country</th>\n",
              "      <th>description</th>\n",
              "      <th>designation</th>\n",
              "      <th>points</th>\n",
              "      <th>price</th>\n",
              "      <th>province</th>\n",
              "      <th>region_1</th>\n",
              "      <th>region_2</th>\n",
              "      <th>taster_name</th>\n",
              "      <th>taster_twitter_handle</th>\n",
              "      <th>title</th>\n",
              "      <th>variety</th>\n",
              "      <th>winery</th>\n",
              "    </tr>\n",
              "  </thead>\n",
              "  <tbody>\n",
              "    <tr>\n",
              "      <th>0</th>\n",
              "      <td>0</td>\n",
              "      <td>Italy</td>\n",
              "      <td>Aromas include tropical fruit, broom, brimston...</td>\n",
              "      <td>Vulkà Bianco</td>\n",
              "      <td>87</td>\n",
              "      <td>NaN</td>\n",
              "      <td>Sicily &amp; Sardinia</td>\n",
              "      <td>Etna</td>\n",
              "      <td>NaN</td>\n",
              "      <td>Kerin O’Keefe</td>\n",
              "      <td>@kerinokeefe</td>\n",
              "      <td>Nicosia 2013 Vulkà Bianco  (Etna)</td>\n",
              "      <td>White Blend</td>\n",
              "      <td>Nicosia</td>\n",
              "    </tr>\n",
              "  </tbody>\n",
              "</table>\n",
              "</div>"
            ],
            "text/plain": [
              "   Unnamed: 0 country                                        description  \\\n",
              "0           0   Italy  Aromas include tropical fruit, broom, brimston...   \n",
              "\n",
              "    designation  points  price           province region_1 region_2  \\\n",
              "0  Vulkà Bianco      87    NaN  Sicily & Sardinia     Etna      NaN   \n",
              "\n",
              "     taster_name taster_twitter_handle                              title  \\\n",
              "0  Kerin O’Keefe          @kerinokeefe  Nicosia 2013 Vulkà Bianco  (Etna)   \n",
              "\n",
              "       variety   winery  \n",
              "0  White Blend  Nicosia  "
            ]
          },
          "metadata": {
            "tags": []
          },
          "execution_count": 20
        }
      ]
    },
    {
      "metadata": {
        "id": "1xGiCixEc58C",
        "colab_type": "code",
        "colab": {}
      },
      "cell_type": "code",
      "source": [
        "# Expected Output:\n",
        "image_url = \"https://github.com/wshuyi/github_pub_img/raw/master/assets/2019-02-18-10-23-29-081662.png\"\n",
        "from IPython.display import Image\n",
        "Image(image_url)"
      ],
      "execution_count": 0,
      "outputs": []
    },
    {
      "metadata": {
        "id": "bXaPGZyKPYPT",
        "colab_type": "text"
      },
      "cell_type": "markdown",
      "source": [
        "**Question 7.** Select the first 10 values from the `description` column in `reviews`, assigning the result to variable `first_descriptions`. Show the content of `first_descriptions`. (Hint: format your output as a `pandas` `Series`.)"
      ]
    },
    {
      "metadata": {
        "colab_type": "code",
        "id": "gXjvqaoXXWGK",
        "colab": {
          "base_uri": "https://localhost:8080/",
          "height": 202
        },
        "outputId": "74cf3b70-1b4e-40f3-e6d7-d5253c3fd3ce"
      },
      "cell_type": "code",
      "source": [
        "# TODO: your code here\n",
        "desc = reviews.description\n",
        "first_descriptions = desc.head(10)\n",
        "first_descriptions"
      ],
      "execution_count": 26,
      "outputs": [
        {
          "output_type": "execute_result",
          "data": {
            "text/plain": [
              "0    Aromas include tropical fruit, broom, brimston...\n",
              "1    This is ripe and fruity, a wine that is smooth...\n",
              "2    Tart and snappy, the flavors of lime flesh and...\n",
              "3    Pineapple rind, lemon pith and orange blossom ...\n",
              "4    Much like the regular bottling from 2012, this...\n",
              "5    Blackberry and raspberry aromas show a typical...\n",
              "6    Here's a bright, informal red that opens with ...\n",
              "7    This dry and restrained wine offers spice in p...\n",
              "8    Savory dried thyme notes accent sunnier flavor...\n",
              "9    This has great depth of flavor with its fresh ...\n",
              "Name: description, dtype: object"
            ]
          },
          "metadata": {
            "tags": []
          },
          "execution_count": 26
        }
      ]
    },
    {
      "metadata": {
        "id": "Yx_gKZgXc8bF",
        "colab_type": "code",
        "colab": {}
      },
      "cell_type": "code",
      "source": [
        "# Expected Output:\n",
        "image_url = \"https://github.com/wshuyi/github_pub_img/raw/master/assets/2019-02-18-10-23-54-273700.png\"\n",
        "from IPython.display import Image\n",
        "Image(image_url)"
      ],
      "execution_count": 0,
      "outputs": []
    },
    {
      "metadata": {
        "id": "nU_kWzEWPlhU",
        "colab_type": "text"
      },
      "cell_type": "markdown",
      "source": [
        "**Question 8.** Select the records with index labels `1`, `2`, `4`, `5`, and `7`, assigning the result to the variable `sample_reviews`. Show first 5 rows of `sample_reviews`."
      ]
    },
    {
      "metadata": {
        "colab_type": "code",
        "id": "_B5NkoPeXWtW",
        "colab": {
          "base_uri": "https://localhost:8080/",
          "height": 447
        },
        "outputId": "802ab973-6e02-4e9e-bc8b-37f853284dfc"
      },
      "cell_type": "code",
      "source": [
        "# TODO: your code here\n",
        "range1=[1,2,4,5,7]\n",
        "for i in [range1]:\n",
        "  \n",
        "  sample_reviews=reviews.iloc[i]\n",
        "sample_reviews"
      ],
      "execution_count": 32,
      "outputs": [
        {
          "output_type": "execute_result",
          "data": {
            "text/html": [
              "<div>\n",
              "<style scoped>\n",
              "    .dataframe tbody tr th:only-of-type {\n",
              "        vertical-align: middle;\n",
              "    }\n",
              "\n",
              "    .dataframe tbody tr th {\n",
              "        vertical-align: top;\n",
              "    }\n",
              "\n",
              "    .dataframe thead th {\n",
              "        text-align: right;\n",
              "    }\n",
              "</style>\n",
              "<table border=\"1\" class=\"dataframe\">\n",
              "  <thead>\n",
              "    <tr style=\"text-align: right;\">\n",
              "      <th></th>\n",
              "      <th>Unnamed: 0</th>\n",
              "      <th>country</th>\n",
              "      <th>description</th>\n",
              "      <th>designation</th>\n",
              "      <th>points</th>\n",
              "      <th>price</th>\n",
              "      <th>province</th>\n",
              "      <th>region_1</th>\n",
              "      <th>region_2</th>\n",
              "      <th>taster_name</th>\n",
              "      <th>taster_twitter_handle</th>\n",
              "      <th>title</th>\n",
              "      <th>variety</th>\n",
              "      <th>winery</th>\n",
              "    </tr>\n",
              "  </thead>\n",
              "  <tbody>\n",
              "    <tr>\n",
              "      <th>1</th>\n",
              "      <td>1</td>\n",
              "      <td>Portugal</td>\n",
              "      <td>This is ripe and fruity, a wine that is smooth...</td>\n",
              "      <td>Avidagos</td>\n",
              "      <td>87</td>\n",
              "      <td>15.0</td>\n",
              "      <td>Douro</td>\n",
              "      <td>NaN</td>\n",
              "      <td>NaN</td>\n",
              "      <td>Roger Voss</td>\n",
              "      <td>@vossroger</td>\n",
              "      <td>Quinta dos Avidagos 2011 Avidagos Red (Douro)</td>\n",
              "      <td>Portuguese Red</td>\n",
              "      <td>Quinta dos Avidagos</td>\n",
              "    </tr>\n",
              "    <tr>\n",
              "      <th>2</th>\n",
              "      <td>2</td>\n",
              "      <td>US</td>\n",
              "      <td>Tart and snappy, the flavors of lime flesh and...</td>\n",
              "      <td>NaN</td>\n",
              "      <td>87</td>\n",
              "      <td>14.0</td>\n",
              "      <td>Oregon</td>\n",
              "      <td>Willamette Valley</td>\n",
              "      <td>Willamette Valley</td>\n",
              "      <td>Paul Gregutt</td>\n",
              "      <td>@paulgwine</td>\n",
              "      <td>Rainstorm 2013 Pinot Gris (Willamette Valley)</td>\n",
              "      <td>Pinot Gris</td>\n",
              "      <td>Rainstorm</td>\n",
              "    </tr>\n",
              "    <tr>\n",
              "      <th>4</th>\n",
              "      <td>4</td>\n",
              "      <td>US</td>\n",
              "      <td>Much like the regular bottling from 2012, this...</td>\n",
              "      <td>Vintner's Reserve Wild Child Block</td>\n",
              "      <td>87</td>\n",
              "      <td>65.0</td>\n",
              "      <td>Oregon</td>\n",
              "      <td>Willamette Valley</td>\n",
              "      <td>Willamette Valley</td>\n",
              "      <td>Paul Gregutt</td>\n",
              "      <td>@paulgwine</td>\n",
              "      <td>Sweet Cheeks 2012 Vintner's Reserve Wild Child...</td>\n",
              "      <td>Pinot Noir</td>\n",
              "      <td>Sweet Cheeks</td>\n",
              "    </tr>\n",
              "    <tr>\n",
              "      <th>5</th>\n",
              "      <td>5</td>\n",
              "      <td>Spain</td>\n",
              "      <td>Blackberry and raspberry aromas show a typical...</td>\n",
              "      <td>Ars In Vitro</td>\n",
              "      <td>87</td>\n",
              "      <td>15.0</td>\n",
              "      <td>Northern Spain</td>\n",
              "      <td>Navarra</td>\n",
              "      <td>NaN</td>\n",
              "      <td>Michael Schachner</td>\n",
              "      <td>@wineschach</td>\n",
              "      <td>Tandem 2011 Ars In Vitro Tempranillo-Merlot (N...</td>\n",
              "      <td>Tempranillo-Merlot</td>\n",
              "      <td>Tandem</td>\n",
              "    </tr>\n",
              "    <tr>\n",
              "      <th>7</th>\n",
              "      <td>7</td>\n",
              "      <td>France</td>\n",
              "      <td>This dry and restrained wine offers spice in p...</td>\n",
              "      <td>NaN</td>\n",
              "      <td>87</td>\n",
              "      <td>24.0</td>\n",
              "      <td>Alsace</td>\n",
              "      <td>Alsace</td>\n",
              "      <td>NaN</td>\n",
              "      <td>Roger Voss</td>\n",
              "      <td>@vossroger</td>\n",
              "      <td>Trimbach 2012 Gewurztraminer (Alsace)</td>\n",
              "      <td>Gewürztraminer</td>\n",
              "      <td>Trimbach</td>\n",
              "    </tr>\n",
              "  </tbody>\n",
              "</table>\n",
              "</div>"
            ],
            "text/plain": [
              "   Unnamed: 0   country                                        description  \\\n",
              "1           1  Portugal  This is ripe and fruity, a wine that is smooth...   \n",
              "2           2        US  Tart and snappy, the flavors of lime flesh and...   \n",
              "4           4        US  Much like the regular bottling from 2012, this...   \n",
              "5           5     Spain  Blackberry and raspberry aromas show a typical...   \n",
              "7           7    France  This dry and restrained wine offers spice in p...   \n",
              "\n",
              "                          designation  points  price        province  \\\n",
              "1                            Avidagos      87   15.0           Douro   \n",
              "2                                 NaN      87   14.0          Oregon   \n",
              "4  Vintner's Reserve Wild Child Block      87   65.0          Oregon   \n",
              "5                        Ars In Vitro      87   15.0  Northern Spain   \n",
              "7                                 NaN      87   24.0          Alsace   \n",
              "\n",
              "            region_1           region_2        taster_name  \\\n",
              "1                NaN                NaN         Roger Voss   \n",
              "2  Willamette Valley  Willamette Valley       Paul Gregutt   \n",
              "4  Willamette Valley  Willamette Valley       Paul Gregutt   \n",
              "5            Navarra                NaN  Michael Schachner   \n",
              "7             Alsace                NaN         Roger Voss   \n",
              "\n",
              "  taster_twitter_handle                                              title  \\\n",
              "1            @vossroger      Quinta dos Avidagos 2011 Avidagos Red (Douro)   \n",
              "2           @paulgwine       Rainstorm 2013 Pinot Gris (Willamette Valley)   \n",
              "4           @paulgwine   Sweet Cheeks 2012 Vintner's Reserve Wild Child...   \n",
              "5           @wineschach  Tandem 2011 Ars In Vitro Tempranillo-Merlot (N...   \n",
              "7            @vossroger              Trimbach 2012 Gewurztraminer (Alsace)   \n",
              "\n",
              "              variety               winery  \n",
              "1      Portuguese Red  Quinta dos Avidagos  \n",
              "2          Pinot Gris            Rainstorm  \n",
              "4          Pinot Noir         Sweet Cheeks  \n",
              "5  Tempranillo-Merlot               Tandem  \n",
              "7      Gewürztraminer             Trimbach  "
            ]
          },
          "metadata": {
            "tags": []
          },
          "execution_count": 32
        }
      ]
    },
    {
      "metadata": {
        "id": "NJTA8Xc3c_oM",
        "colab_type": "code",
        "colab": {}
      },
      "cell_type": "code",
      "source": [
        "# Expected Output:\n",
        "image_url = \"https://github.com/wshuyi/github_pub_img/raw/master/assets/2019-02-18-10-24-11-414043.png\"\n",
        "from IPython.display import Image\n",
        "Image(image_url)"
      ],
      "execution_count": 0,
      "outputs": []
    },
    {
      "metadata": {
        "id": "O1S9d3roQF50",
        "colab_type": "text"
      },
      "cell_type": "markdown",
      "source": [
        "**Question 9.** Create a variable df containing the country, province, region_1, and region_2 columns of the records with the index labels 0, 2, 20, and 200. Show the content of df."
      ]
    },
    {
      "metadata": {
        "colab_type": "code",
        "id": "raPuwVGzXXSk",
        "colab": {
          "base_uri": "https://localhost:8080/",
          "height": 166
        },
        "outputId": "bf46b801-3a08-46a4-e65f-8cba44237f01"
      },
      "cell_type": "code",
      "source": [
        "# TODO: your code here\n",
        "colu1=['country','province','region_1','region_2']\n",
        "df=reviews[colu1]\n",
        "i=[0,2,20,200]\n",
        "df.iloc[i]\n"
      ],
      "execution_count": 33,
      "outputs": [
        {
          "output_type": "execute_result",
          "data": {
            "text/html": [
              "<div>\n",
              "<style scoped>\n",
              "    .dataframe tbody tr th:only-of-type {\n",
              "        vertical-align: middle;\n",
              "    }\n",
              "\n",
              "    .dataframe tbody tr th {\n",
              "        vertical-align: top;\n",
              "    }\n",
              "\n",
              "    .dataframe thead th {\n",
              "        text-align: right;\n",
              "    }\n",
              "</style>\n",
              "<table border=\"1\" class=\"dataframe\">\n",
              "  <thead>\n",
              "    <tr style=\"text-align: right;\">\n",
              "      <th></th>\n",
              "      <th>country</th>\n",
              "      <th>province</th>\n",
              "      <th>region_1</th>\n",
              "      <th>region_2</th>\n",
              "    </tr>\n",
              "  </thead>\n",
              "  <tbody>\n",
              "    <tr>\n",
              "      <th>0</th>\n",
              "      <td>Italy</td>\n",
              "      <td>Sicily &amp; Sardinia</td>\n",
              "      <td>Etna</td>\n",
              "      <td>NaN</td>\n",
              "    </tr>\n",
              "    <tr>\n",
              "      <th>2</th>\n",
              "      <td>US</td>\n",
              "      <td>Oregon</td>\n",
              "      <td>Willamette Valley</td>\n",
              "      <td>Willamette Valley</td>\n",
              "    </tr>\n",
              "    <tr>\n",
              "      <th>20</th>\n",
              "      <td>US</td>\n",
              "      <td>Virginia</td>\n",
              "      <td>Virginia</td>\n",
              "      <td>NaN</td>\n",
              "    </tr>\n",
              "    <tr>\n",
              "      <th>200</th>\n",
              "      <td>Italy</td>\n",
              "      <td>Tuscany</td>\n",
              "      <td>Brunello di Montalcino</td>\n",
              "      <td>NaN</td>\n",
              "    </tr>\n",
              "  </tbody>\n",
              "</table>\n",
              "</div>"
            ],
            "text/plain": [
              "    country           province                region_1           region_2\n",
              "0     Italy  Sicily & Sardinia                    Etna                NaN\n",
              "2        US             Oregon       Willamette Valley  Willamette Valley\n",
              "20       US           Virginia                Virginia                NaN\n",
              "200   Italy            Tuscany  Brunello di Montalcino                NaN"
            ]
          },
          "metadata": {
            "tags": []
          },
          "execution_count": 33
        }
      ]
    },
    {
      "metadata": {
        "id": "nwnj42P7dC9n",
        "colab_type": "code",
        "colab": {}
      },
      "cell_type": "code",
      "source": [
        "# Expected Output:\n",
        "image_url = \"https://github.com/wshuyi/github_pub_img/raw/master/assets/2019-02-18-10-24-23-881864.png\"\n",
        "from IPython.display import Image\n",
        "Image(image_url)"
      ],
      "execution_count": 0,
      "outputs": []
    },
    {
      "metadata": {
        "id": "G_VHzIziQnHY",
        "colab_type": "text"
      },
      "cell_type": "markdown",
      "source": [
        "**Question 10.** Create a variable `df` containing the `country` and `variety` columns of the first 100 records. Show the shape of `df`."
      ]
    },
    {
      "metadata": {
        "colab_type": "code",
        "id": "qwDRwkt0XXwY",
        "colab": {
          "base_uri": "https://localhost:8080/",
          "height": 34
        },
        "outputId": "dedfabc7-3091-49e4-ba95-424b480e2853"
      },
      "cell_type": "code",
      "source": [
        "# TODO: your code here\n",
        "col_keep=['country','variety']\n",
        "df=reviews[col_keep]\n",
        "df=df.head(100)\n",
        "df.shape"
      ],
      "execution_count": 34,
      "outputs": [
        {
          "output_type": "execute_result",
          "data": {
            "text/plain": [
              "(100, 2)"
            ]
          },
          "metadata": {
            "tags": []
          },
          "execution_count": 34
        }
      ]
    },
    {
      "metadata": {
        "id": "qB3NnyugdF3B",
        "colab_type": "code",
        "colab": {}
      },
      "cell_type": "code",
      "source": [
        "# Expected Output:\n",
        "image_url = \"https://github.com/wshuyi/github_pub_img/raw/master/assets/2019-02-18-10-24-36-554850.png\"\n",
        "from IPython.display import Image\n",
        "Image(image_url)"
      ],
      "execution_count": 0,
      "outputs": []
    },
    {
      "metadata": {
        "id": "kdXXjNbrRHJQ",
        "colab_type": "text"
      },
      "cell_type": "markdown",
      "source": [
        "**Question 11.** Create a DataFrame `france_wines` containing reviews of wines made in `France`. Show the shape of `france_wines`."
      ]
    },
    {
      "metadata": {
        "colab_type": "code",
        "id": "Qj0i2yHlXYRa",
        "colab": {
          "base_uri": "https://localhost:8080/",
          "height": 34
        },
        "outputId": "74e264de-07d5-41e9-a371-80bcf675cd1c"
      },
      "cell_type": "code",
      "source": [
        "# TODO: your code here\n",
        "france_wines=reviews[reviews.country=='France']\n",
        "france_wines.shape"
      ],
      "execution_count": 38,
      "outputs": [
        {
          "output_type": "execute_result",
          "data": {
            "text/plain": [
              "(22093, 14)"
            ]
          },
          "metadata": {
            "tags": []
          },
          "execution_count": 38
        }
      ]
    },
    {
      "metadata": {
        "id": "f-bb0pA9dIa1",
        "colab_type": "code",
        "colab": {}
      },
      "cell_type": "code",
      "source": [
        "# Expected Output:\n",
        "image_url = \"https://github.com/wshuyi/github_pub_img/raw/master/assets/2019-02-18-10-24-49-026089.png\"\n",
        "from IPython.display import Image\n",
        "Image(image_url)"
      ],
      "execution_count": 0,
      "outputs": []
    },
    {
      "metadata": {
        "id": "BtH67scWR6Q0",
        "colab_type": "text"
      },
      "cell_type": "markdown",
      "source": [
        "**Question 12.** Create a DataFrame `top_north_america_wines` containing all reviews with at least 95 points (out of 100) for wines from US or Canada. Show the shape of `top_north_america_wines`."
      ]
    },
    {
      "metadata": {
        "colab_type": "code",
        "id": "8lLrtjfZXY5A",
        "colab": {
          "base_uri": "https://localhost:8080/",
          "height": 34
        },
        "outputId": "743ca043-c3b8-40cf-b4e8-03831e41b95d"
      },
      "cell_type": "code",
      "source": [
        "# TODO: your code here\n",
        "top_north_america_wines = reviews[(reviews.points>= 95) & ((reviews.country=='US') | (reviews.country == 'Canada') )]\n",
        "top_north_america_wines.shape"
      ],
      "execution_count": 45,
      "outputs": [
        {
          "output_type": "execute_result",
          "data": {
            "text/plain": [
              "(993, 14)"
            ]
          },
          "metadata": {
            "tags": []
          },
          "execution_count": 45
        }
      ]
    },
    {
      "metadata": {
        "id": "Hs_AHPJkdL8e",
        "colab_type": "code",
        "colab": {}
      },
      "cell_type": "code",
      "source": [
        "# Expected Output:\n",
        "image_url = \"https://github.com/wshuyi/github_pub_img/raw/master/assets/2019-02-18-10-24-59-291835.png\"\n",
        "from IPython.display import Image\n",
        "Image(image_url)"
      ],
      "execution_count": 0,
      "outputs": []
    },
    {
      "metadata": {
        "id": "LOyxmO1jS1hw",
        "colab_type": "text"
      },
      "cell_type": "markdown",
      "source": [
        "**Question 13.** What is the minimum value of the points column in the reviews DataFrame?"
      ]
    },
    {
      "metadata": {
        "colab_type": "code",
        "id": "0DBqUOWXXZWF",
        "colab": {
          "base_uri": "https://localhost:8080/",
          "height": 34
        },
        "outputId": "6a13c633-30a0-43df-ffbf-e70eb07b891e"
      },
      "cell_type": "code",
      "source": [
        "# TODO: your code here\n",
        "reviews['points'].min()"
      ],
      "execution_count": 46,
      "outputs": [
        {
          "output_type": "execute_result",
          "data": {
            "text/plain": [
              "80"
            ]
          },
          "metadata": {
            "tags": []
          },
          "execution_count": 46
        }
      ]
    },
    {
      "metadata": {
        "id": "vKQo3CFpdUl2",
        "colab_type": "code",
        "colab": {}
      },
      "cell_type": "code",
      "source": [
        "# Expected Output:\n",
        "image_url = \"https://github.com/wshuyi/github_pub_img/raw/master/assets/2019-02-18-10-25-07-722360.png\"\n",
        "from IPython.display import Image\n",
        "Image(image_url)"
      ],
      "execution_count": 0,
      "outputs": []
    },
    {
      "metadata": {
        "id": "MX_JIp-MS_Wf",
        "colab_type": "text"
      },
      "cell_type": "markdown",
      "source": [
        "**Question 14.** What countries are represented in the dataset? (Your answer should not include any duplicates.)"
      ]
    },
    {
      "metadata": {
        "colab_type": "code",
        "id": "qCkLxWp5XZzn",
        "colab": {
          "base_uri": "https://localhost:8080/",
          "height": 134
        },
        "outputId": "9e25f70d-1600-4ee5-e2cb-82b5f0fecd81"
      },
      "cell_type": "code",
      "source": [
        "# TODO: your code here\n",
        "Unique_countries=reviews['country'].unique()\n",
        "print(Unique_countries)"
      ],
      "execution_count": 54,
      "outputs": [
        {
          "output_type": "stream",
          "text": [
            "['Italy' 'Portugal' 'US' 'Spain' 'France' 'Germany' 'Argentina' 'Chile'\n",
            " 'Australia' 'Austria' 'South Africa' 'New Zealand' 'Israel' 'Hungary'\n",
            " 'Greece' 'Romania' 'Mexico' 'Canada' nan 'Turkey' 'Czech Republic'\n",
            " 'Slovenia' 'Luxembourg' 'Croatia' 'Georgia' 'Uruguay' 'England' 'Lebanon'\n",
            " 'Serbia' 'Brazil' 'Moldova' 'Morocco' 'Peru' 'India' 'Bulgaria' 'Cyprus'\n",
            " 'Armenia' 'Switzerland' 'Bosnia and Herzegovina' 'Ukraine' 'Slovakia'\n",
            " 'Macedonia' 'China' 'Egypt']\n"
          ],
          "name": "stdout"
        }
      ]
    },
    {
      "metadata": {
        "id": "KWw-LwoVdXut",
        "colab_type": "code",
        "colab": {}
      },
      "cell_type": "code",
      "source": [
        "# Expected Output:\n",
        "image_url = \"https://github.com/wshuyi/github_pub_img/raw/master/assets/2019-02-18-10-25-17-210421.png\"\n",
        "from IPython.display import Image\n",
        "Image(image_url)"
      ],
      "execution_count": 0,
      "outputs": []
    },
    {
      "metadata": {
        "id": "N4drEZ3XTJ_w",
        "colab_type": "text"
      },
      "cell_type": "markdown",
      "source": [
        "**Question 15.** How often does each country appear in the dataset? Create a Series `reviews_per_country` mapping countries to the count of reviews of wines from that country. Show the first 10 rows of `reviews_per_country`."
      ]
    },
    {
      "metadata": {
        "colab_type": "code",
        "id": "9EVSTey8XaTe",
        "colab": {
          "base_uri": "https://localhost:8080/",
          "height": 756
        },
        "outputId": "f471f14b-824c-41fb-abcb-c14ba0fe80cc"
      },
      "cell_type": "code",
      "source": [
        "# TODO: your code here\n",
        "reviews['country'].value_counts()"
      ],
      "execution_count": 57,
      "outputs": [
        {
          "output_type": "execute_result",
          "data": {
            "text/plain": [
              "US                        54504\n",
              "France                    22093\n",
              "Italy                     19540\n",
              "Spain                      6645\n",
              "Portugal                   5691\n",
              "Chile                      4472\n",
              "Argentina                  3800\n",
              "Austria                    3345\n",
              "Australia                  2329\n",
              "Germany                    2165\n",
              "New Zealand                1419\n",
              "South Africa               1401\n",
              "Israel                      505\n",
              "Greece                      466\n",
              "Canada                      257\n",
              "Hungary                     146\n",
              "Bulgaria                    141\n",
              "Romania                     120\n",
              "Uruguay                     109\n",
              "Turkey                       90\n",
              "Slovenia                     87\n",
              "Georgia                      86\n",
              "England                      74\n",
              "Croatia                      73\n",
              "Mexico                       70\n",
              "Moldova                      59\n",
              "Brazil                       52\n",
              "Lebanon                      35\n",
              "Morocco                      28\n",
              "Peru                         16\n",
              "Ukraine                      14\n",
              "Czech Republic               12\n",
              "Serbia                       12\n",
              "Macedonia                    12\n",
              "Cyprus                       11\n",
              "India                         9\n",
              "Switzerland                   7\n",
              "Luxembourg                    6\n",
              "Armenia                       2\n",
              "Bosnia and Herzegovina        2\n",
              "Egypt                         1\n",
              "Slovakia                      1\n",
              "China                         1\n",
              "Name: country, dtype: int64"
            ]
          },
          "metadata": {
            "tags": []
          },
          "execution_count": 57
        }
      ]
    },
    {
      "metadata": {
        "id": "pZoH_XEJdaTb",
        "colab_type": "code",
        "colab": {}
      },
      "cell_type": "code",
      "source": [
        "# Expected Output:\n",
        "image_url = \"https://github.com/wshuyi/github_pub_img/raw/master/assets/2019-02-18-10-25-25-429171.png\"\n",
        "from IPython.display import Image\n",
        "Image(image_url)"
      ],
      "execution_count": 0,
      "outputs": []
    },
    {
      "metadata": {
        "id": "OkItiZ9bTXbY",
        "colab_type": "text"
      },
      "cell_type": "markdown",
      "source": [
        "**Question 16.** Create variable `centered_price` containing a version of the `price` column with the mean price subtracted. Show the first 10 rows of `centered_price`."
      ]
    },
    {
      "metadata": {
        "colab_type": "code",
        "id": "wkhpuwJyXa3G",
        "colab": {
          "base_uri": "https://localhost:8080/",
          "height": 1058
        },
        "outputId": "dcff3ac2-7e30-421c-ed1b-b63f69b87687"
      },
      "cell_type": "code",
      "source": [
        "# TODO: your code here\n",
        "import numpy as np\n",
        "centered_price=reviews['price']\n",
        "x=np.mean(reviews['price'])\n",
        "centered_price=centered_price-x\n",
        "centered_price"
      ],
      "execution_count": 61,
      "outputs": [
        {
          "output_type": "execute_result",
          "data": {
            "text/plain": [
              "0               NaN\n",
              "1        -20.363389\n",
              "2        -21.363389\n",
              "3        -22.363389\n",
              "4         29.636611\n",
              "5        -20.363389\n",
              "6        -19.363389\n",
              "7        -11.363389\n",
              "8        -23.363389\n",
              "9         -8.363389\n",
              "10       -16.363389\n",
              "11        -5.363389\n",
              "12        -1.363389\n",
              "13              NaN\n",
              "14       -23.363389\n",
              "15       -11.363389\n",
              "16        -5.363389\n",
              "17       -22.363389\n",
              "18        -7.363389\n",
              "19        -3.363389\n",
              "20       -12.363389\n",
              "21       -15.363389\n",
              "22       -16.363389\n",
              "23       -13.363389\n",
              "24        -0.363389\n",
              "25        33.636611\n",
              "26       -22.363389\n",
              "27       -25.363389\n",
              "28       -18.363389\n",
              "29       -19.363389\n",
              "            ...    \n",
              "129941   -15.363389\n",
              "129942    -0.363389\n",
              "129943    -6.363389\n",
              "129944   -10.363389\n",
              "129945   -15.363389\n",
              "129946   -18.363389\n",
              "129947   -15.363389\n",
              "129948     7.636611\n",
              "129949    -0.363389\n",
              "129950    -0.363389\n",
              "129951    -5.363389\n",
              "129952   -13.363389\n",
              "129953   -10.363389\n",
              "129954   -20.363389\n",
              "129955     4.636611\n",
              "129956   -16.363389\n",
              "129957   -18.363389\n",
              "129958    -0.363389\n",
              "129959    21.636611\n",
              "129960    12.636611\n",
              "129961    -5.363389\n",
              "129962     4.636611\n",
              "129963   -15.363389\n",
              "129964          NaN\n",
              "129965    -7.363389\n",
              "129966    -7.363389\n",
              "129967    39.636611\n",
              "129968    -5.363389\n",
              "129969    -3.363389\n",
              "129970   -14.363389\n",
              "Name: price, Length: 129971, dtype: float64"
            ]
          },
          "metadata": {
            "tags": []
          },
          "execution_count": 61
        }
      ]
    },
    {
      "metadata": {
        "id": "7ghmK9B6dczN",
        "colab_type": "code",
        "colab": {}
      },
      "cell_type": "code",
      "source": [
        "# Expected Output:\n",
        "image_url = \"https://github.com/wshuyi/github_pub_img/raw/master/assets/2019-02-18-10-25-34-260297.png\"\n",
        "from IPython.display import Image\n",
        "Image(image_url)"
      ],
      "execution_count": 0,
      "outputs": []
    },
    {
      "metadata": {
        "id": "Hb8pgT_3T2Pl",
        "colab_type": "text"
      },
      "cell_type": "markdown",
      "source": [
        "**Question 17.** Create a variable `bargain_wine` with the title of the wine with the highest points-to-price ratio in the dataset. Show the value of `bargain_wine`."
      ]
    },
    {
      "metadata": {
        "colab_type": "code",
        "id": "WeLLzohEXbwM",
        "colab": {
          "base_uri": "https://localhost:8080/",
          "height": 34
        },
        "outputId": "66c0b891-3460-425f-b9d7-500d4973af2c"
      },
      "cell_type": "code",
      "source": [
        "# TODO: your code here\n",
        "bargain_wine=reviews['points']/reviews['price']\n",
        "bargain_wine=bargain_wine.max()\n",
        "bargain_wine\n"
      ],
      "execution_count": 69,
      "outputs": [
        {
          "output_type": "execute_result",
          "data": {
            "text/plain": [
              "21.5"
            ]
          },
          "metadata": {
            "tags": []
          },
          "execution_count": 69
        }
      ]
    },
    {
      "metadata": {
        "id": "zIoymH_Gde7y",
        "colab_type": "code",
        "colab": {}
      },
      "cell_type": "code",
      "source": [
        "# Expected Output:\n",
        "image_url = \"https://github.com/wshuyi/github_pub_img/raw/master/assets/2019-02-18-10-25-45-425172.png\"\n",
        "from IPython.display import Image\n",
        "Image(image_url)"
      ],
      "execution_count": 0,
      "outputs": []
    },
    {
      "metadata": {
        "id": "WmeqXrx2U5_X",
        "colab_type": "text"
      },
      "cell_type": "markdown",
      "source": [
        "**Question 18.** Is a wine more likely to be \"tropical\" or \"fruity\"? Create a Series `descriptor_counts` counting how many times each of these two words appears in the description column in the dataset. Show the content of `descriptor_counts`."
      ]
    },
    {
      "metadata": {
        "colab_type": "code",
        "id": "zDxikAMBXcVF",
        "colab": {
          "base_uri": "https://localhost:8080/",
          "height": 652
        },
        "outputId": "4da8cbc3-a58c-4b87-d144-b86a6b68f9a7"
      },
      "cell_type": "code",
      "source": [
        "# TODO: your code here\n",
        "x=reviews['description'].groupby(\"tropical\").count()\n"
      ],
      "execution_count": 71,
      "outputs": [
        {
          "output_type": "error",
          "ename": "KeyError",
          "evalue": "ignored",
          "traceback": [
            "\u001b[0;31m---------------------------------------------------------------------------\u001b[0m",
            "\u001b[0;31mKeyError\u001b[0m                                  Traceback (most recent call last)",
            "\u001b[0;32m<ipython-input-71-b5ecf820a19b>\u001b[0m in \u001b[0;36m<module>\u001b[0;34m()\u001b[0m\n\u001b[0;32m----> 1\u001b[0;31m \u001b[0mx\u001b[0m\u001b[0;34m=\u001b[0m\u001b[0mreviews\u001b[0m\u001b[0;34m[\u001b[0m\u001b[0;34m'description'\u001b[0m\u001b[0;34m]\u001b[0m\u001b[0;34m.\u001b[0m\u001b[0mgroupby\u001b[0m\u001b[0;34m(\u001b[0m\u001b[0;34m\"tropical\"\u001b[0m\u001b[0;34m)\u001b[0m\u001b[0;34m.\u001b[0m\u001b[0mcount\u001b[0m\u001b[0;34m(\u001b[0m\u001b[0;34m)\u001b[0m\u001b[0;34m\u001b[0m\u001b[0;34m\u001b[0m\u001b[0m\n\u001b[0m",
            "\u001b[0;32m/usr/local/lib/python3.6/dist-packages/pandas/core/generic.py\u001b[0m in \u001b[0;36mgroupby\u001b[0;34m(self, by, axis, level, as_index, sort, group_keys, squeeze, **kwargs)\u001b[0m\n\u001b[1;32m   5160\u001b[0m         return groupby(self, by=by, axis=axis, level=level, as_index=as_index,\n\u001b[1;32m   5161\u001b[0m                        \u001b[0msort\u001b[0m\u001b[0;34m=\u001b[0m\u001b[0msort\u001b[0m\u001b[0;34m,\u001b[0m \u001b[0mgroup_keys\u001b[0m\u001b[0;34m=\u001b[0m\u001b[0mgroup_keys\u001b[0m\u001b[0;34m,\u001b[0m \u001b[0msqueeze\u001b[0m\u001b[0;34m=\u001b[0m\u001b[0msqueeze\u001b[0m\u001b[0;34m,\u001b[0m\u001b[0;34m\u001b[0m\u001b[0;34m\u001b[0m\u001b[0m\n\u001b[0;32m-> 5162\u001b[0;31m                        **kwargs)\n\u001b[0m\u001b[1;32m   5163\u001b[0m \u001b[0;34m\u001b[0m\u001b[0m\n\u001b[1;32m   5164\u001b[0m     def asfreq(self, freq, method=None, how=None, normalize=False,\n",
            "\u001b[0;32m/usr/local/lib/python3.6/dist-packages/pandas/core/groupby.py\u001b[0m in \u001b[0;36mgroupby\u001b[0;34m(obj, by, **kwds)\u001b[0m\n\u001b[1;32m   1846\u001b[0m         \u001b[0;32mraise\u001b[0m \u001b[0mTypeError\u001b[0m\u001b[0;34m(\u001b[0m\u001b[0;34m'invalid type: %s'\u001b[0m \u001b[0;34m%\u001b[0m \u001b[0mtype\u001b[0m\u001b[0;34m(\u001b[0m\u001b[0mobj\u001b[0m\u001b[0;34m)\u001b[0m\u001b[0;34m)\u001b[0m\u001b[0;34m\u001b[0m\u001b[0;34m\u001b[0m\u001b[0m\n\u001b[1;32m   1847\u001b[0m \u001b[0;34m\u001b[0m\u001b[0m\n\u001b[0;32m-> 1848\u001b[0;31m     \u001b[0;32mreturn\u001b[0m \u001b[0mklass\u001b[0m\u001b[0;34m(\u001b[0m\u001b[0mobj\u001b[0m\u001b[0;34m,\u001b[0m \u001b[0mby\u001b[0m\u001b[0;34m,\u001b[0m \u001b[0;34m**\u001b[0m\u001b[0mkwds\u001b[0m\u001b[0;34m)\u001b[0m\u001b[0;34m\u001b[0m\u001b[0;34m\u001b[0m\u001b[0m\n\u001b[0m\u001b[1;32m   1849\u001b[0m \u001b[0;34m\u001b[0m\u001b[0m\n\u001b[1;32m   1850\u001b[0m \u001b[0;34m\u001b[0m\u001b[0m\n",
            "\u001b[0;32m/usr/local/lib/python3.6/dist-packages/pandas/core/groupby.py\u001b[0m in \u001b[0;36m__init__\u001b[0;34m(self, obj, keys, axis, level, grouper, exclusions, selection, as_index, sort, group_keys, squeeze, **kwargs)\u001b[0m\n\u001b[1;32m    514\u001b[0m                                                     \u001b[0mlevel\u001b[0m\u001b[0;34m=\u001b[0m\u001b[0mlevel\u001b[0m\u001b[0;34m,\u001b[0m\u001b[0;34m\u001b[0m\u001b[0;34m\u001b[0m\u001b[0m\n\u001b[1;32m    515\u001b[0m                                                     \u001b[0msort\u001b[0m\u001b[0;34m=\u001b[0m\u001b[0msort\u001b[0m\u001b[0;34m,\u001b[0m\u001b[0;34m\u001b[0m\u001b[0;34m\u001b[0m\u001b[0m\n\u001b[0;32m--> 516\u001b[0;31m                                                     mutated=self.mutated)\n\u001b[0m\u001b[1;32m    517\u001b[0m \u001b[0;34m\u001b[0m\u001b[0m\n\u001b[1;32m    518\u001b[0m         \u001b[0mself\u001b[0m\u001b[0;34m.\u001b[0m\u001b[0mobj\u001b[0m \u001b[0;34m=\u001b[0m \u001b[0mobj\u001b[0m\u001b[0;34m\u001b[0m\u001b[0;34m\u001b[0m\u001b[0m\n",
            "\u001b[0;32m/usr/local/lib/python3.6/dist-packages/pandas/core/groupby.py\u001b[0m in \u001b[0;36m_get_grouper\u001b[0;34m(obj, key, axis, level, sort, mutated, validate)\u001b[0m\n\u001b[1;32m   2932\u001b[0m                 \u001b[0min_axis\u001b[0m\u001b[0;34m,\u001b[0m \u001b[0mname\u001b[0m\u001b[0;34m,\u001b[0m \u001b[0mlevel\u001b[0m\u001b[0;34m,\u001b[0m \u001b[0mgpr\u001b[0m \u001b[0;34m=\u001b[0m \u001b[0;32mFalse\u001b[0m\u001b[0;34m,\u001b[0m \u001b[0;32mNone\u001b[0m\u001b[0;34m,\u001b[0m \u001b[0mgpr\u001b[0m\u001b[0;34m,\u001b[0m \u001b[0;32mNone\u001b[0m\u001b[0;34m\u001b[0m\u001b[0;34m\u001b[0m\u001b[0m\n\u001b[1;32m   2933\u001b[0m             \u001b[0;32melse\u001b[0m\u001b[0;34m:\u001b[0m\u001b[0;34m\u001b[0m\u001b[0;34m\u001b[0m\u001b[0m\n\u001b[0;32m-> 2934\u001b[0;31m                 \u001b[0;32mraise\u001b[0m \u001b[0mKeyError\u001b[0m\u001b[0;34m(\u001b[0m\u001b[0mgpr\u001b[0m\u001b[0;34m)\u001b[0m\u001b[0;34m\u001b[0m\u001b[0;34m\u001b[0m\u001b[0m\n\u001b[0m\u001b[1;32m   2935\u001b[0m         \u001b[0;32melif\u001b[0m \u001b[0misinstance\u001b[0m\u001b[0;34m(\u001b[0m\u001b[0mgpr\u001b[0m\u001b[0;34m,\u001b[0m \u001b[0mGrouper\u001b[0m\u001b[0;34m)\u001b[0m \u001b[0;32mand\u001b[0m \u001b[0mgpr\u001b[0m\u001b[0;34m.\u001b[0m\u001b[0mkey\u001b[0m \u001b[0;32mis\u001b[0m \u001b[0;32mnot\u001b[0m \u001b[0;32mNone\u001b[0m\u001b[0;34m:\u001b[0m\u001b[0;34m\u001b[0m\u001b[0;34m\u001b[0m\u001b[0m\n\u001b[1;32m   2936\u001b[0m             \u001b[0;31m# Add key to exclusions\u001b[0m\u001b[0;34m\u001b[0m\u001b[0;34m\u001b[0m\u001b[0;34m\u001b[0m\u001b[0m\n",
            "\u001b[0;31mKeyError\u001b[0m: 'tropical'"
          ]
        }
      ]
    },
    {
      "metadata": {
        "id": "XVg01XtddhOv",
        "colab_type": "code",
        "colab": {}
      },
      "cell_type": "code",
      "source": [
        "# Expected Output:\n",
        "image_url = \"https://github.com/wshuyi/github_pub_img/raw/master/assets/2019-02-18-10-25-56-543545.png\"\n",
        "from IPython.display import Image\n",
        "Image(image_url)"
      ],
      "execution_count": 0,
      "outputs": []
    },
    {
      "metadata": {
        "id": "sHhgidRBBgih",
        "colab_type": "text"
      },
      "cell_type": "markdown",
      "source": [
        "**Question 19.** Sometimes the price column is null. How many reviews in the dataset are missing a price?"
      ]
    },
    {
      "metadata": {
        "colab_type": "code",
        "id": "7Q_D-rdfXc7D",
        "colab": {
          "base_uri": "https://localhost:8080/",
          "height": 34
        },
        "outputId": "3a1f2c58-baf8-496e-e509-c2f10a40dd90"
      },
      "cell_type": "code",
      "source": [
        "# TODO: your code here\n",
        "reviews.price.isnull().sum(axis = 0)"
      ],
      "execution_count": 73,
      "outputs": [
        {
          "output_type": "execute_result",
          "data": {
            "text/plain": [
              "8996"
            ]
          },
          "metadata": {
            "tags": []
          },
          "execution_count": 73
        }
      ]
    },
    {
      "metadata": {
        "id": "YF8MDwvRdjil",
        "colab_type": "code",
        "colab": {}
      },
      "cell_type": "code",
      "source": [
        "# Expected Output:\n",
        "image_url = \"https://github.com/wshuyi/github_pub_img/raw/master/assets/2019-02-18-10-26-07-921120.png\"\n",
        "from IPython.display import Image\n",
        "Image(image_url)"
      ],
      "execution_count": 0,
      "outputs": []
    },
    {
      "metadata": {
        "id": "qNNNW2pxCy5g",
        "colab_type": "text"
      },
      "cell_type": "markdown",
      "source": [
        "**Question 20.** What are the most common wine-producing regions? Create a `Series` counting the number of times each value occurs in the `region_1` field. This field is often missing data, so replace missing values with `Unknown`. Sort in descending order. Show the first 10 rows of the series."
      ]
    },
    {
      "metadata": {
        "colab_type": "code",
        "id": "x_yQWKbWXdW8",
        "colab": {}
      },
      "cell_type": "code",
      "source": [
        "# TODO: your code here"
      ],
      "execution_count": 0,
      "outputs": []
    },
    {
      "metadata": {
        "id": "u1sJt5_8dm4G",
        "colab_type": "code",
        "colab": {}
      },
      "cell_type": "code",
      "source": [
        "# Expected Output:\n",
        "image_url = \"https://github.com/wshuyi/github_pub_img/raw/master/assets/2019-02-18-10-26-19-518545.png\"\n",
        "from IPython.display import Image\n",
        "Image(image_url)"
      ],
      "execution_count": 0,
      "outputs": []
    },
    {
      "metadata": {
        "id": "MVws7H5u-iVp",
        "colab_type": "text"
      },
      "cell_type": "markdown",
      "source": [
        "**Question 21.** Who are the most common wine reviewers in the dataset? Create a `Series` whose index is the `taster_twitter_handle` category from the dataset, and whose values count how many reviews each person wrote. Show the series."
      ]
    },
    {
      "metadata": {
        "colab_type": "code",
        "id": "3LUo7_L7XeAp",
        "colab": {}
      },
      "cell_type": "code",
      "source": [
        "# TODO: your code here"
      ],
      "execution_count": 0,
      "outputs": []
    },
    {
      "metadata": {
        "id": "mrCz-Dyvdph8",
        "colab_type": "code",
        "colab": {}
      },
      "cell_type": "code",
      "source": [
        "# Expected Output:\n",
        "image_url = \"https://github.com/wshuyi/github_pub_img/raw/master/assets/2019-02-18-10-26-32-243770.png\"\n",
        "from IPython.display import Image\n",
        "Image(image_url)"
      ],
      "execution_count": 0,
      "outputs": []
    },
    {
      "metadata": {
        "id": "hMslbuXrB9XH",
        "colab_type": "text"
      },
      "cell_type": "markdown",
      "source": [
        "**Question 22.** What is the best wine I can buy for a given amount of money? Create a `Series` whose index is wine prices and whose values is the maximum number of points a wine costing that much was given in a review. Sort the values by price, Descending (so that `3300.0` dollars is at the top and `4.0` dollars is at the bottom). Show the first 5 rows of the series."
      ]
    },
    {
      "metadata": {
        "colab_type": "code",
        "id": "9jRym3pNXelc",
        "colab": {}
      },
      "cell_type": "code",
      "source": [
        "# TODO: your code here"
      ],
      "execution_count": 0,
      "outputs": []
    },
    {
      "metadata": {
        "id": "pNemORACdtnz",
        "colab_type": "code",
        "colab": {}
      },
      "cell_type": "code",
      "source": [
        "# Expected Output:\n",
        "image_url = \"https://github.com/wshuyi/github_pub_img/raw/master/assets/2019-02-18-10-26-40-741397.png\"\n",
        "from IPython.display import Image\n",
        "Image(image_url)"
      ],
      "execution_count": 0,
      "outputs": []
    },
    {
      "metadata": {
        "id": "AEhk3H2NCfNt",
        "colab_type": "text"
      },
      "cell_type": "markdown",
      "source": [
        "**Question 23.** What are the minimum, maximum and median prices for each `variety` of wine? Create a `DataFrame` whose index is the `variety` category from the dataset and whose values are the `min`, `max` and `medium` values thereof. Show the 5 rows of the dataframe."
      ]
    },
    {
      "metadata": {
        "colab_type": "code",
        "id": "oPGnkUYjXfG4",
        "colab": {}
      },
      "cell_type": "code",
      "source": [
        "# TODO: your code here"
      ],
      "execution_count": 0,
      "outputs": []
    },
    {
      "metadata": {
        "id": "LuYH6K5kdvvH",
        "colab_type": "code",
        "colab": {}
      },
      "cell_type": "code",
      "source": [
        "# Expected Output:\n",
        "image_url = \"https://github.com/wshuyi/github_pub_img/raw/master/assets/2019-02-18-10-27-01-991324.png\"\n",
        "from IPython.display import Image\n",
        "Image(image_url)"
      ],
      "execution_count": 0,
      "outputs": []
    },
    {
      "metadata": {
        "id": "vUeHL6ZNGiXz",
        "colab_type": "text"
      },
      "cell_type": "markdown",
      "source": [
        "**Question 24.** What are the most expensive wine varieties? Create a variable `sorted_varieties` containing a copy of the dataframe from the previous question where varieties are sorted in descending order based on minimum price, then on maximum price (to break ties). Show the 5 rows of the dataframe."
      ]
    },
    {
      "metadata": {
        "colab_type": "code",
        "id": "9HMY8ioPXf0p",
        "colab": {}
      },
      "cell_type": "code",
      "source": [
        "# TODO: your code here"
      ],
      "execution_count": 0,
      "outputs": []
    },
    {
      "metadata": {
        "id": "qanE3Hnxd0nU",
        "colab_type": "code",
        "colab": {}
      },
      "cell_type": "code",
      "source": [
        "# Expected Output:\n",
        "image_url = \"https://github.com/wshuyi/github_pub_img/raw/master/assets/2019-02-18-10-27-12-370129.png\"\n",
        "from IPython.display import Image\n",
        "Image(image_url)"
      ],
      "execution_count": 0,
      "outputs": []
    },
    {
      "metadata": {
        "id": "WFcue3FdHeoc",
        "colab_type": "text"
      },
      "cell_type": "markdown",
      "source": [
        "**Question 25.** Create a Series whose index is reviewers and whose values is the average review score given out by that reviewer. Show the first 5 rows of the series (Hint: name of reviewer is in `taster_name`.)"
      ]
    },
    {
      "metadata": {
        "colab_type": "code",
        "id": "zA6DhhyzXgeY",
        "colab": {}
      },
      "cell_type": "code",
      "source": [
        "# TODO: your code here"
      ],
      "execution_count": 0,
      "outputs": []
    },
    {
      "metadata": {
        "id": "BNM0Pz0gd3zo",
        "colab_type": "code",
        "colab": {}
      },
      "cell_type": "code",
      "source": [
        "# Expected Output:\n",
        "image_url = \"https://github.com/wshuyi/github_pub_img/raw/master/assets/2019-02-18-10-27-35-752685.png\"\n",
        "from IPython.display import Image\n",
        "Image(image_url)"
      ],
      "execution_count": 0,
      "outputs": []
    },
    {
      "metadata": {
        "id": "PPK_WSfh_1Tq",
        "colab_type": "text"
      },
      "cell_type": "markdown",
      "source": [
        "**Question 26.** What combination of countries and varieties are most common? Create a `Series` whose index is a `MultiIndex`of `{country, variety}` pairs. For example, a pinot noir produced in the US should map to `{\"US\", \"Pinot Noir\"}`. Sort the values in the `Series` in descending order based on wine count. Show the first 10 rows of the series."
      ]
    },
    {
      "metadata": {
        "colab_type": "code",
        "id": "9gfF9jcfXg-R",
        "colab": {}
      },
      "cell_type": "code",
      "source": [
        "# TODO: your code here"
      ],
      "execution_count": 0,
      "outputs": []
    },
    {
      "metadata": {
        "id": "l0GMu9VTd74H",
        "colab_type": "code",
        "colab": {}
      },
      "cell_type": "code",
      "source": [
        "# Expected Output:\n",
        "image_url = \"https://github.com/wshuyi/github_pub_img/raw/master/assets/2019-02-18-10-27-42-958620.png\"\n",
        "from IPython.display import Image\n",
        "Image(image_url)"
      ],
      "execution_count": 0,
      "outputs": []
    },
    {
      "metadata": {
        "id": "zxjiMPEaF9hY",
        "colab_type": "text"
      },
      "cell_type": "markdown",
      "source": [
        "**Question 27.** `region_1` and `region_2` are pretty uninformative names for locale columns in the dataset. Create a copy of `reviews` with these columns renamed to `region` and `locale`, respectively. Show the first 5 rows of the renamed dataframe."
      ]
    },
    {
      "metadata": {
        "colab_type": "code",
        "id": "suFObsSmXhv8",
        "colab": {
          "base_uri": "https://localhost:8080/",
          "height": 447
        },
        "outputId": "7d81eb46-759a-415f-9b16-d96b52379ad5"
      },
      "cell_type": "code",
      "source": [
        "# TODO: your code here\n",
        "reviews.rename(columns = {'region_1': 'region','region_2' : 'locale'},inplace = True)\n",
        "reviews.columns\n",
        "reviews.head()"
      ],
      "execution_count": 62,
      "outputs": [
        {
          "output_type": "execute_result",
          "data": {
            "text/html": [
              "<div>\n",
              "<style scoped>\n",
              "    .dataframe tbody tr th:only-of-type {\n",
              "        vertical-align: middle;\n",
              "    }\n",
              "\n",
              "    .dataframe tbody tr th {\n",
              "        vertical-align: top;\n",
              "    }\n",
              "\n",
              "    .dataframe thead th {\n",
              "        text-align: right;\n",
              "    }\n",
              "</style>\n",
              "<table border=\"1\" class=\"dataframe\">\n",
              "  <thead>\n",
              "    <tr style=\"text-align: right;\">\n",
              "      <th></th>\n",
              "      <th>Unnamed: 0</th>\n",
              "      <th>country</th>\n",
              "      <th>description</th>\n",
              "      <th>designation</th>\n",
              "      <th>points</th>\n",
              "      <th>price</th>\n",
              "      <th>province</th>\n",
              "      <th>region</th>\n",
              "      <th>locale</th>\n",
              "      <th>taster_name</th>\n",
              "      <th>taster_twitter_handle</th>\n",
              "      <th>title</th>\n",
              "      <th>variety</th>\n",
              "      <th>winery</th>\n",
              "    </tr>\n",
              "  </thead>\n",
              "  <tbody>\n",
              "    <tr>\n",
              "      <th>0</th>\n",
              "      <td>0</td>\n",
              "      <td>Italy</td>\n",
              "      <td>Aromas include tropical fruit, broom, brimston...</td>\n",
              "      <td>Vulkà Bianco</td>\n",
              "      <td>87</td>\n",
              "      <td>NaN</td>\n",
              "      <td>Sicily &amp; Sardinia</td>\n",
              "      <td>Etna</td>\n",
              "      <td>NaN</td>\n",
              "      <td>Kerin O’Keefe</td>\n",
              "      <td>@kerinokeefe</td>\n",
              "      <td>Nicosia 2013 Vulkà Bianco  (Etna)</td>\n",
              "      <td>White Blend</td>\n",
              "      <td>Nicosia</td>\n",
              "    </tr>\n",
              "    <tr>\n",
              "      <th>1</th>\n",
              "      <td>1</td>\n",
              "      <td>Portugal</td>\n",
              "      <td>This is ripe and fruity, a wine that is smooth...</td>\n",
              "      <td>Avidagos</td>\n",
              "      <td>87</td>\n",
              "      <td>15.0</td>\n",
              "      <td>Douro</td>\n",
              "      <td>NaN</td>\n",
              "      <td>NaN</td>\n",
              "      <td>Roger Voss</td>\n",
              "      <td>@vossroger</td>\n",
              "      <td>Quinta dos Avidagos 2011 Avidagos Red (Douro)</td>\n",
              "      <td>Portuguese Red</td>\n",
              "      <td>Quinta dos Avidagos</td>\n",
              "    </tr>\n",
              "    <tr>\n",
              "      <th>2</th>\n",
              "      <td>2</td>\n",
              "      <td>US</td>\n",
              "      <td>Tart and snappy, the flavors of lime flesh and...</td>\n",
              "      <td>NaN</td>\n",
              "      <td>87</td>\n",
              "      <td>14.0</td>\n",
              "      <td>Oregon</td>\n",
              "      <td>Willamette Valley</td>\n",
              "      <td>Willamette Valley</td>\n",
              "      <td>Paul Gregutt</td>\n",
              "      <td>@paulgwine</td>\n",
              "      <td>Rainstorm 2013 Pinot Gris (Willamette Valley)</td>\n",
              "      <td>Pinot Gris</td>\n",
              "      <td>Rainstorm</td>\n",
              "    </tr>\n",
              "    <tr>\n",
              "      <th>3</th>\n",
              "      <td>3</td>\n",
              "      <td>US</td>\n",
              "      <td>Pineapple rind, lemon pith and orange blossom ...</td>\n",
              "      <td>Reserve Late Harvest</td>\n",
              "      <td>87</td>\n",
              "      <td>13.0</td>\n",
              "      <td>Michigan</td>\n",
              "      <td>Lake Michigan Shore</td>\n",
              "      <td>NaN</td>\n",
              "      <td>Alexander Peartree</td>\n",
              "      <td>NaN</td>\n",
              "      <td>St. Julian 2013 Reserve Late Harvest Riesling ...</td>\n",
              "      <td>Riesling</td>\n",
              "      <td>St. Julian</td>\n",
              "    </tr>\n",
              "    <tr>\n",
              "      <th>4</th>\n",
              "      <td>4</td>\n",
              "      <td>US</td>\n",
              "      <td>Much like the regular bottling from 2012, this...</td>\n",
              "      <td>Vintner's Reserve Wild Child Block</td>\n",
              "      <td>87</td>\n",
              "      <td>65.0</td>\n",
              "      <td>Oregon</td>\n",
              "      <td>Willamette Valley</td>\n",
              "      <td>Willamette Valley</td>\n",
              "      <td>Paul Gregutt</td>\n",
              "      <td>@paulgwine</td>\n",
              "      <td>Sweet Cheeks 2012 Vintner's Reserve Wild Child...</td>\n",
              "      <td>Pinot Noir</td>\n",
              "      <td>Sweet Cheeks</td>\n",
              "    </tr>\n",
              "  </tbody>\n",
              "</table>\n",
              "</div>"
            ],
            "text/plain": [
              "   Unnamed: 0   country                                        description  \\\n",
              "0           0     Italy  Aromas include tropical fruit, broom, brimston...   \n",
              "1           1  Portugal  This is ripe and fruity, a wine that is smooth...   \n",
              "2           2        US  Tart and snappy, the flavors of lime flesh and...   \n",
              "3           3        US  Pineapple rind, lemon pith and orange blossom ...   \n",
              "4           4        US  Much like the regular bottling from 2012, this...   \n",
              "\n",
              "                          designation  points  price           province  \\\n",
              "0                        Vulkà Bianco      87    NaN  Sicily & Sardinia   \n",
              "1                            Avidagos      87   15.0              Douro   \n",
              "2                                 NaN      87   14.0             Oregon   \n",
              "3                Reserve Late Harvest      87   13.0           Michigan   \n",
              "4  Vintner's Reserve Wild Child Block      87   65.0             Oregon   \n",
              "\n",
              "                region             locale         taster_name  \\\n",
              "0                 Etna                NaN       Kerin O’Keefe   \n",
              "1                  NaN                NaN          Roger Voss   \n",
              "2    Willamette Valley  Willamette Valley        Paul Gregutt   \n",
              "3  Lake Michigan Shore                NaN  Alexander Peartree   \n",
              "4    Willamette Valley  Willamette Valley        Paul Gregutt   \n",
              "\n",
              "  taster_twitter_handle                                              title  \\\n",
              "0          @kerinokeefe                  Nicosia 2013 Vulkà Bianco  (Etna)   \n",
              "1            @vossroger      Quinta dos Avidagos 2011 Avidagos Red (Douro)   \n",
              "2           @paulgwine       Rainstorm 2013 Pinot Gris (Willamette Valley)   \n",
              "3                   NaN  St. Julian 2013 Reserve Late Harvest Riesling ...   \n",
              "4           @paulgwine   Sweet Cheeks 2012 Vintner's Reserve Wild Child...   \n",
              "\n",
              "          variety               winery  \n",
              "0     White Blend              Nicosia  \n",
              "1  Portuguese Red  Quinta dos Avidagos  \n",
              "2      Pinot Gris            Rainstorm  \n",
              "3        Riesling           St. Julian  \n",
              "4      Pinot Noir         Sweet Cheeks  "
            ]
          },
          "metadata": {
            "tags": []
          },
          "execution_count": 62
        }
      ]
    },
    {
      "metadata": {
        "id": "vj9N5aGQd-YM",
        "colab_type": "code",
        "colab": {}
      },
      "cell_type": "code",
      "source": [
        "# Expected Output:\n",
        "image_url = \"https://github.com/wshuyi/github_pub_img/raw/master/assets/2019-02-18-10-27-54-120816.png\"\n",
        "from IPython.display import Image\n",
        "Image(image_url)"
      ],
      "execution_count": 0,
      "outputs": []
    },
    {
      "metadata": {
        "id": "D73vqBKbGOdx",
        "colab_type": "code",
        "colab": {}
      },
      "cell_type": "code",
      "source": [
        ""
      ],
      "execution_count": 0,
      "outputs": []
    }
  ]
}